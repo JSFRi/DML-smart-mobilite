{
 "cells": [
  {
   "cell_type": "markdown",
   "metadata": {},
   "source": [
    "# Import"
   ]
  },
  {
   "cell_type": "code",
   "execution_count": 1,
   "metadata": {},
   "outputs": [],
   "source": [
    "import matplotlib.pyplot as plt\n",
    "import seaborn as sns\n",
    "import numpy as np\n",
    "import psycopg2\n",
    "import pandas as pd\n",
    "import time\n",
    "import math\n",
    "import datetime"
   ]
  },
  {
   "cell_type": "code",
   "execution_count": 50,
   "metadata": {
    "collapsed": true
   },
   "outputs": [],
   "source": [
    "#sns.set()"
   ]
  },
  {
   "cell_type": "code",
   "execution_count": 2,
   "metadata": {
    "scrolled": true
   },
   "outputs": [],
   "source": [
    "conn = psycopg2.connect(host=\"192.168.208.49\",port=\"5434\",database=\"iva_db\", user=\"tianru\", password=\"WT:53vh$\")\n",
    "cur=conn.cursor()"
   ]
  },
  {
   "cell_type": "code",
   "execution_count": 52,
   "metadata": {
    "scrolled": false
   },
   "outputs": [
    {
     "name": "stdout",
     "output_type": "stream",
     "text": [
      "--- 7.406815528869629 seconds ---\n"
     ]
    }
   ],
   "source": [
    "start_time = time.time()\n",
    "cur.execute(\"SELECT DISTINCT numr_cart FROM stif_validation_unitaire\")\n",
    "numr_cart=cur.fetchall()\n",
    "len(numr_cart)\n",
    "print(\"--- %s seconds ---\" % (time.time() - start_time))"
   ]
  },
  {
   "cell_type": "code",
   "execution_count": 53,
   "metadata": {},
   "outputs": [
    {
     "ename": "TypeError",
     "evalue": "'int' object is not callable",
     "output_type": "error",
     "traceback": [
      "\u001b[0;31m---------------------------------------------------------------------------\u001b[0m",
      "\u001b[0;31mTypeError\u001b[0m                                 Traceback (most recent call last)",
      "\u001b[0;32m<ipython-input-53-7461020b4cf9>\u001b[0m in \u001b[0;36m<module>\u001b[0;34m()\u001b[0m\n\u001b[1;32m      1\u001b[0m \u001b[0mstart_time\u001b[0m \u001b[0;34m=\u001b[0m \u001b[0mtime\u001b[0m\u001b[0;34m.\u001b[0m\u001b[0mtime\u001b[0m\u001b[0;34m(\u001b[0m\u001b[0;34m)\u001b[0m\u001b[0;34m\u001b[0m\u001b[0m\n\u001b[1;32m      2\u001b[0m \u001b[0mcur\u001b[0m\u001b[0;34m.\u001b[0m\u001b[0mexecute\u001b[0m\u001b[0;34m(\u001b[0m\u001b[0;34m\"SELECT numr_cart FROM stif_validation_unitaire\"\u001b[0m\u001b[0;34m)\u001b[0m\u001b[0;34m\u001b[0m\u001b[0m\n\u001b[0;32m----> 3\u001b[0;31m \u001b[0mcur\u001b[0m\u001b[0;34m.\u001b[0m\u001b[0mrowcount\u001b[0m\u001b[0;34m(\u001b[0m\u001b[0;34m)\u001b[0m\u001b[0;34m\u001b[0m\u001b[0m\n\u001b[0m\u001b[1;32m      4\u001b[0m \u001b[0mprint\u001b[0m\u001b[0;34m(\u001b[0m\u001b[0;34m\"--- %s seconds ---\"\u001b[0m \u001b[0;34m%\u001b[0m \u001b[0;34m(\u001b[0m\u001b[0mtime\u001b[0m\u001b[0;34m.\u001b[0m\u001b[0mtime\u001b[0m\u001b[0;34m(\u001b[0m\u001b[0;34m)\u001b[0m \u001b[0;34m-\u001b[0m \u001b[0mstart_time\u001b[0m\u001b[0;34m)\u001b[0m\u001b[0;34m)\u001b[0m\u001b[0;34m\u001b[0m\u001b[0m\n",
      "\u001b[0;31mTypeError\u001b[0m: 'int' object is not callable"
     ]
    }
   ],
   "source": [
    "start_time = time.time()\n",
    "cur.execute(\"SELECT numr_cart FROM stif_validation_unitaire\")\n",
    "cur.rowcount()\n",
    "print(\"--- %s seconds ---\" % (time.time() - start_time))"
   ]
  },
  {
   "cell_type": "markdown",
   "metadata": {},
   "source": [
    "# Validations times each day"
   ]
  },
  {
   "cell_type": "code",
   "execution_count": null,
   "metadata": {
    "collapsed": true,
    "scrolled": true
   },
   "outputs": [],
   "source": [
    "cur.execute('''SELECT COUNT(*) AS count\n",
    "            ,EXTRACT(isodow FROM dat_vald) AS day\n",
    "            FROM stif_validation_unitaire\n",
    "            GROUP BY day''')\n",
    "cur.fetchall()"
   ]
  },
  {
   "cell_type": "markdown",
   "metadata": {},
   "source": [
    "# Validation distribution"
   ]
  },
  {
   "cell_type": "code",
   "execution_count": null,
   "metadata": {
    "collapsed": true,
    "scrolled": true
   },
   "outputs": [],
   "source": [
    "cur.execute('''SELECT heur_vald,COUNT(*) AS count\n",
    "            FROM stif_validation_unitaire\n",
    "            GROUP BY 1\n",
    "            ''')\n",
    "num_vald=cur.fetchall()\n",
    "num_vald=pd.DataFrame(num_vald)"
   ]
  },
  {
   "cell_type": "code",
   "execution_count": null,
   "metadata": {
    "collapsed": true,
    "scrolled": true
   },
   "outputs": [],
   "source": [
    "num_vald[1]"
   ]
  },
  {
   "cell_type": "code",
   "execution_count": null,
   "metadata": {
    "collapsed": true
   },
   "outputs": [],
   "source": [
    "plt.plot(num_vald[0],num_vald[1])\n",
    "plt.axvline(x='06:00:00',color='g',linestyle='--')\n",
    "plt.axvline(x='10:00:00',color='g',linestyle='--')\n",
    "plt.axvline(x='15:00:00',color='g',linestyle='--')\n",
    "plt.axvline(x='21:00:00',color='g',linestyle='--')\n",
    "plt.xlabel('time')\n",
    "plt.ylabel('frequency')\n",
    "plt.title('Time intervals according to distribution of validations')\n",
    "plt.savefig('time_interval.png',format='png',dpi=1200)\n",
    "plt.show()"
   ]
  },
  {
   "cell_type": "markdown",
   "metadata": {},
   "source": [
    "# Validation times per hour"
   ]
  },
  {
   "cell_type": "code",
   "execution_count": null,
   "metadata": {
    "collapsed": true,
    "scrolled": true
   },
   "outputs": [],
   "source": [
    "cur.execute('''SELECT COUNT(*) AS count\n",
    "            ,EXTRACT(hour FROM heur_vald) AS hour\n",
    "            ,EXTRACT(isodow FROM dat_vald) AS day\n",
    "            FROM stif_validation_unitaire\n",
    "            GROUP BY hour,day\n",
    "            ''')\n",
    "num_vald_hour=cur.fetchall()\n",
    "num_vald_hour=pd.DataFrame(num_vald_hour)"
   ]
  },
  {
   "cell_type": "code",
   "execution_count": null,
   "metadata": {
    "collapsed": true,
    "scrolled": true
   },
   "outputs": [],
   "source": [
    "num_vald_hour.columns=['count','hour','day']"
   ]
  },
  {
   "cell_type": "code",
   "execution_count": null,
   "metadata": {
    "collapsed": true
   },
   "outputs": [],
   "source": [
    "num_vald_hour.to_csv('num_vald_hour.csv')"
   ]
  },
  {
   "cell_type": "code",
   "execution_count": null,
   "metadata": {
    "collapsed": true
   },
   "outputs": [],
   "source": [
    "num_vald_hour=pd.read_csv('num_vald_hour.csv')"
   ]
  },
  {
   "cell_type": "code",
   "execution_count": null,
   "metadata": {
    "collapsed": true,
    "scrolled": true
   },
   "outputs": [],
   "source": [
    "num_vald_hour"
   ]
  },
  {
   "cell_type": "code",
   "execution_count": null,
   "metadata": {
    "collapsed": true,
    "scrolled": true
   },
   "outputs": [],
   "source": [
    "num_vald_hour.loc[num_vald_hour['day'].isin((1,2,3,4,5))].groupby('hour').mean()"
   ]
  },
  {
   "cell_type": "code",
   "execution_count": null,
   "metadata": {
    "collapsed": true,
    "scrolled": true
   },
   "outputs": [],
   "source": [
    "num_vald_hour_weekday=num_vald_hour.loc[num_vald_hour['day'].isin((1,2,3,4,5))].groupby('hour').mean()"
   ]
  },
  {
   "cell_type": "code",
   "execution_count": null,
   "metadata": {
    "collapsed": true
   },
   "outputs": [],
   "source": [
    "plt.bar(range(0,24),num_vald_hour_weekday['count'])\n",
    "plt.xlabel('Hours of day')\n",
    "plt.ylabel('Validation times')\n",
    "plt.ylim(ymin=0,ymax=400000)\n",
    "plt.title('Number of validations per hour during weekday')\n",
    "plt.show()"
   ]
  },
  {
   "cell_type": "code",
   "execution_count": null,
   "metadata": {
    "collapsed": true
   },
   "outputs": [],
   "source": [
    "num_vald_hour_weekend=num_vald_hour.loc[num_vald_hour['day'].isin((6,7))].groupby('hour').mean()"
   ]
  },
  {
   "cell_type": "code",
   "execution_count": null,
   "metadata": {
    "collapsed": true
   },
   "outputs": [],
   "source": [
    "plt.bar(range(0,24),num_vald_hour_weekend['count'])\n",
    "plt.xlabel('Hours of day')\n",
    "plt.ylabel('Validation times')\n",
    "plt.ylim(ymin=0,ymax=400000)\n",
    "plt.title('Number of validations per hour during weekend')\n",
    "plt.show()"
   ]
  },
  {
   "cell_type": "markdown",
   "metadata": {},
   "source": [
    "# Validation times each day"
   ]
  },
  {
   "cell_type": "code",
   "execution_count": null,
   "metadata": {
    "collapsed": true
   },
   "outputs": [],
   "source": [
    "cur.execute('''SELECT numr_cart,dat_vald,COUNT(heur_vald) AS count\n",
    "            FROM stif_validation_unitaire\n",
    "            GROUP BY 1,2''')\n",
    "vald_each_day=cur.fetchall()\n",
    "vald_each_day=pd.DataFrame(vald_each_day)\n",
    "vald_each_day.columns=['numr_cart','dat_vald','count']\n",
    "vald_each_day.to_csv('vald_each_day.csv')"
   ]
  },
  {
   "cell_type": "code",
   "execution_count": null,
   "metadata": {
    "collapsed": true,
    "scrolled": true
   },
   "outputs": [],
   "source": [
    "vald_each_day"
   ]
  },
  {
   "cell_type": "code",
   "execution_count": null,
   "metadata": {
    "collapsed": true,
    "scrolled": true
   },
   "outputs": [],
   "source": [
    "vald_each_day[2].describe()"
   ]
  },
  {
   "cell_type": "code",
   "execution_count": null,
   "metadata": {
    "collapsed": true,
    "scrolled": true
   },
   "outputs": [],
   "source": [
    "vald_each_day=pd.read_csv('vald_each_day.csv')"
   ]
  },
  {
   "cell_type": "code",
   "execution_count": null,
   "metadata": {
    "collapsed": true,
    "scrolled": true
   },
   "outputs": [],
   "source": [
    "vald_each_day"
   ]
  },
  {
   "cell_type": "code",
   "execution_count": null,
   "metadata": {
    "collapsed": true,
    "scrolled": false
   },
   "outputs": [],
   "source": [
    "sns.distplot(vald_each_day['count'])\n",
    "plt.xlabel('validations')\n",
    "plt.title('Distribution of valdation times each day')"
   ]
  },
  {
   "cell_type": "code",
   "execution_count": null,
   "metadata": {
    "collapsed": true,
    "scrolled": true
   },
   "outputs": [],
   "source": [
    "vald_each_day['count'].quantile(0.999)"
   ]
  },
  {
   "cell_type": "code",
   "execution_count": null,
   "metadata": {
    "collapsed": true
   },
   "outputs": [],
   "source": [
    "sns.distplot(vald_each_day.loc[vald_each_day['count']>20]['count'])\n",
    "plt.xlabel('validations')\n",
    "plt.title('Distribution of valdation times each day')"
   ]
  },
  {
   "cell_type": "code",
   "execution_count": null,
   "metadata": {
    "collapsed": true,
    "scrolled": false
   },
   "outputs": [],
   "source": [
    "sns.boxplot(vald_each_day[2])\n",
    "plt.xlabel('validations')\n",
    "plt.title('Validation times per day')"
   ]
  },
  {
   "cell_type": "code",
   "execution_count": null,
   "metadata": {
    "collapsed": true
   },
   "outputs": [],
   "source": [
    "cur.execute('''SELECT numr_cart,EXTRACT( isodow FROM dat_vald),COUNT(heur_vald) AS count\n",
    "            FROM stif_validation_unitaire\n",
    "            GROUP BY 1,2''')\n",
    "vald_each_weekday=cur.fetchall()\n",
    "vald_each_weekday=pd.DataFrame(vald_each_weekday)\n",
    "vald_each_weekday.columns=['numr_cart','weekday','count']\n",
    "vald_each_weekday.to_csv('vald_each_weekday.csv')"
   ]
  },
  {
   "cell_type": "code",
   "execution_count": null,
   "metadata": {
    "collapsed": true,
    "scrolled": true
   },
   "outputs": [],
   "source": [
    "vald_each_weekday.groupby('weekday').describe()"
   ]
  },
  {
   "cell_type": "code",
   "execution_count": null,
   "metadata": {
    "collapsed": true
   },
   "outputs": [],
   "source": [
    "sns.boxplot(x='weekday',y='count',data=vald_each_weekday)\n",
    "plt.title('Validation times each day of week')"
   ]
  },
  {
   "cell_type": "markdown",
   "metadata": {},
   "source": [
    "# Validation times each station"
   ]
  },
  {
   "cell_type": "code",
   "execution_count": null,
   "metadata": {
    "collapsed": true,
    "scrolled": true
   },
   "outputs": [],
   "source": [
    "cur.execute(\"\"\"SELECT a.cod_tlb_arrt_sttn, COUNT(a.cod_tlb_arrt_sttn) as count, b.libl_long_arrt_sttn, b.mod_bus, b.mod_rer\n",
    "            FROM stif_validation_unitaire a, stif_arret_station_physique b\n",
    "            WHERE b.cod_tlb_arrt_sttn = a.cod_tlb_arrt_sttn\n",
    "            GROUP BY 1,3,4,5\n",
    "            ORDER BY count desc\n",
    "            \"\"\")\n",
    "freq_station=cur.fetchall()\n",
    "freq_stat=pd.DataFrame(freq_station)\n",
    "freq_stat.columns = ['cod_tlb_arrt_sttn','count','libl_long_arrt_sttn','mod_bus','mod_rer']"
   ]
  },
  {
   "cell_type": "code",
   "execution_count": null,
   "metadata": {
    "collapsed": true,
    "scrolled": true
   },
   "outputs": [],
   "source": [
    "freq_stat"
   ]
  },
  {
   "cell_type": "code",
   "execution_count": null,
   "metadata": {
    "collapsed": true
   },
   "outputs": [],
   "source": [
    "freq_stat.to_csv('freq_station.csv')"
   ]
  },
  {
   "cell_type": "code",
   "execution_count": null,
   "metadata": {
    "collapsed": true
   },
   "outputs": [],
   "source": [
    "freq_station=pd.read_csv('freq_station.csv')"
   ]
  },
  {
   "cell_type": "code",
   "execution_count": null,
   "metadata": {
    "collapsed": true,
    "scrolled": true
   },
   "outputs": [],
   "source": [
    "freq_station[2:12]"
   ]
  },
  {
   "cell_type": "code",
   "execution_count": null,
   "metadata": {
    "collapsed": true
   },
   "outputs": [],
   "source": [
    "sns.barplot(x='count',y='libl_long_arrt_sttn',data=freq_station[2:12])\n",
    "plt.title('Top 10 most frequent station')"
   ]
  },
  {
   "cell_type": "code",
   "execution_count": null,
   "metadata": {
    "collapsed": true
   },
   "outputs": [],
   "source": []
  },
  {
   "cell_type": "code",
   "execution_count": null,
   "metadata": {
    "collapsed": true,
    "scrolled": true
   },
   "outputs": [],
   "source": [
    "cur.execute('''SELECT *\n",
    "            FROM stif_arret_station_physique\n",
    "            WHERE libl_long_arrt_sttn = 'MONTPARNASSE'\n",
    "            ''')\n",
    "cur.fetchall()"
   ]
  },
  {
   "cell_type": "markdown",
   "metadata": {},
   "source": [
    "There are some stations which have reocrds with same name but different code, it's mainly because of La structure de l’objet « arrêt », so for these stations we merge those different records by adding up their times and counting for one single record."
   ]
  },
  {
   "cell_type": "markdown",
   "metadata": {},
   "source": [
    "# Validation times each passenger"
   ]
  },
  {
   "cell_type": "code",
   "execution_count": null,
   "metadata": {
    "collapsed": true,
    "scrolled": true
   },
   "outputs": [],
   "source": [
    "cur.execute('''SELECT numr_cart, COUNT(numr_cart) AS count\n",
    "            FROM stif_validation_unitaire\n",
    "            GROUP BY numr_cart\n",
    "            ORDER BY count desc\n",
    "            ''')\n",
    "cur.fetchall()"
   ]
  },
  {
   "cell_type": "code",
   "execution_count": null,
   "metadata": {
    "collapsed": true
   },
   "outputs": [],
   "source": [
    "cur.execute('''SELECT numr_cart,dat_vald,heur_vald,w.cod_tlb_arrt_sttn,c.libl_long_arrt_sttn\n",
    "            FROM stif_validation_unitaire w, stif_arret_station_physique c\n",
    "            WHERE numr_cart = 1755513924669118709\n",
    "            AND c.cod_tlb_arrt_sttn = w.cod_tlb_arrt_sttn\n",
    "            ORDER BY (dat_vald,heur_vald)\n",
    "            ''')\n",
    "cur.fetchall()"
   ]
  },
  {
   "cell_type": "code",
   "execution_count": null,
   "metadata": {
    "collapsed": true
   },
   "outputs": [],
   "source": [
    "cur.execute('''SELECT numr_cart,dat_vald,heur_vald,w.cod_tlb_arrt_sttn,c.libl_long_arrt_sttn\n",
    "            FROM stif_validation_unitaire w, stif_arret_station_physique c\n",
    "            WHERE numr_cart = 1588994139548062425\n",
    "            AND c.cod_tlb_arrt_sttn = w.cod_tlb_arrt_sttn\n",
    "            ORDER BY (dat_vald,heur_vald)\n",
    "            ''')\n",
    "cur.fetchall()"
   ]
  },
  {
   "cell_type": "code",
   "execution_count": null,
   "metadata": {
    "collapsed": true,
    "scrolled": true
   },
   "outputs": [],
   "source": [
    "cur.execute('''SELECT numr_cart, COUNT(numr_cart) AS count\n",
    "            FROM stif_validation_unitaire\n",
    "            GROUP BY numr_cart\n",
    "            ORDER BY count \n",
    "            ''')\n",
    "cur.fetchall()"
   ]
  },
  {
   "cell_type": "code",
   "execution_count": null,
   "metadata": {
    "collapsed": true,
    "scrolled": false
   },
   "outputs": [],
   "source": [
    "cur.execute('''SELECT numr_cart\n",
    "            FROM stif_validation_unitaire\n",
    "            GROUP BY numr_cart\n",
    "            HAVING COUNT(numr_cart) < 4000 AND COUNT(numr_cart) > 5''')\n",
    "numr_cart=cur.fetchall()\n",
    "len(numr_cart)"
   ]
  },
  {
   "cell_type": "code",
   "execution_count": null,
   "metadata": {
    "collapsed": true
   },
   "outputs": [],
   "source": [
    "cur.execute('''SELECT numr_cart,dat_vald,heur_vald,w.cod_tlb_arrt_sttn,c.libl_long_arrt_sttn\n",
    "            FROM stif_validation_unitaire w, stif_arret_station_physique c\n",
    "            WHERE numr_cart = 11886830948974521\n",
    "            AND c.cod_tlb_arrt_sttn = w.cod_tlb_arrt_sttn\n",
    "            ORDER BY (dat_vald,heur_vald)\n",
    "            ''')\n",
    "cur.rowcount"
   ]
  },
  {
   "cell_type": "markdown",
   "metadata": {},
   "source": [
    "# Validation times of passengers in different cart type"
   ]
  },
  {
   "cell_type": "code",
   "execution_count": null,
   "metadata": {
    "collapsed": true,
    "scrolled": false
   },
   "outputs": [],
   "source": [
    "cur.execute('''SELECT idnt_titr_clnt, COUNT(idnt_titr_clnt)\n",
    "            FROM stif_contrat_carte\n",
    "            GROUP BY idnt_titr_clnt\n",
    "            ORDER BY count desc\n",
    "            ''')\n",
    "cur.fetchall()"
   ]
  },
  {
   "cell_type": "code",
   "execution_count": null,
   "metadata": {
    "collapsed": true,
    "scrolled": true
   },
   "outputs": [],
   "source": [
    "cur.execute('''SELECT numr_cart,idnt_titr_refr\n",
    "            FROM stif_contrat_carte\n",
    "            WHERE idnt_titr_refr = '3'\n",
    "            ''')\n",
    "cur.fetchall()"
   ]
  },
  {
   "cell_type": "code",
   "execution_count": null,
   "metadata": {
    "collapsed": true,
    "scrolled": true
   },
   "outputs": [],
   "source": [
    "cur.execute('''SELECT numr_cart,dat_vald,heur_vald,w.cod_tlb_arrt_sttn,c.libl_long_arrt_sttn\n",
    "            FROM stif_validation_unitaire w, stif_arret_station_physique c\n",
    "            WHERE numr_cart = 72246404613679100956\n",
    "            AND c.cod_tlb_arrt_sttn = w.cod_tlb_arrt_sttn\n",
    "            ORDER BY (dat_vald,heur_vald)\n",
    "            ''')\n",
    "cur.fetchall()"
   ]
  },
  {
   "cell_type": "code",
   "execution_count": null,
   "metadata": {
    "collapsed": true,
    "scrolled": true
   },
   "outputs": [],
   "source": [
    " cur.execute('''SELECT AVG(count)\n",
    "             FROM(\n",
    "             SELECT numr_cart,dat_vald,COUNT(numr_cart) AS count\n",
    "             FROM stif_validation_unitaire\n",
    "             GROUP BY 1,2\n",
    "             ) AS derivedTable\n",
    "             ''')\n",
    "cur.fetchall()"
   ]
  },
  {
   "cell_type": "markdown",
   "metadata": {},
   "source": [
    "# Validation times each day of week"
   ]
  },
  {
   "cell_type": "code",
   "execution_count": null,
   "metadata": {
    "collapsed": true,
    "scrolled": true
   },
   "outputs": [],
   "source": [
    " cur.execute('''SELECT day,AVG(count)\n",
    "             FROM(\n",
    "             SELECT numr_cart,dat_vald,EXTRACT(isodow FROM dat_vald) AS day,COUNT(numr_cart) AS count\n",
    "             FROM stif_validation_unitaire\n",
    "             GROUP BY 1,2\n",
    "             ) AS derivedTable\n",
    "             GROUP BY 1''')\n",
    "avg_day=cur.fetchall()"
   ]
  },
  {
   "cell_type": "code",
   "execution_count": null,
   "metadata": {
    "collapsed": true
   },
   "outputs": [],
   "source": [
    "avg_days=[None]*7\n",
    "for i in range(1,8):\n",
    "    avg_days[i-1]=avg_day[i-1][1]"
   ]
  },
  {
   "cell_type": "code",
   "execution_count": null,
   "metadata": {
    "collapsed": true,
    "scrolled": true
   },
   "outputs": [],
   "source": [
    "plt.bar(range(1,8),avg_days)\n",
    "plt.show()"
   ]
  },
  {
   "cell_type": "code",
   "execution_count": null,
   "metadata": {
    "collapsed": true,
    "scrolled": true
   },
   "outputs": [],
   "source": [
    "cur.execute('''SELECT numr_cart,dat_vald,min(heur_vald)\n",
    "            FROM stif_validation_unitaire\n",
    "            WHERE numr_cart = '1027094693899596069'\n",
    "            GROUP BY 1,2''')\n",
    "cur.fetchall()"
   ]
  },
  {
   "cell_type": "markdown",
   "metadata": {},
   "source": [
    "# P"
   ]
  },
  {
   "cell_type": "code",
   "execution_count": null,
   "metadata": {
    "collapsed": true,
    "scrolled": true
   },
   "outputs": [],
   "source": [
    "cur.execute('''SELECT (cod_tlb_arrt_sttn,libl_long_arrt_sttn,mod_rer) \n",
    "            FROM stif_arret_station_physique \n",
    "            WHERE libl_long_arrt_sttn ~ 'MASSY-PALAISEAU'\n",
    "            ''')\n",
    "cur.fetchall()"
   ]
  },
  {
   "cell_type": "code",
   "execution_count": null,
   "metadata": {
    "collapsed": true,
    "scrolled": true
   },
   "outputs": [],
   "source": [
    "cur.execute('''SELECT numr_cart,min(heur_vald)\n",
    "            FROM stif_validation_unitaire\n",
    "            WHERE cod_tlb_arrt_sttn in ('0030050140400','0030050180602')\n",
    "            AND date_part('hour',heur_vald) = 8\n",
    "            GROUP BY 1''')\n",
    "cur.fetchall()"
   ]
  },
  {
   "cell_type": "code",
   "execution_count": null,
   "metadata": {
    "collapsed": true,
    "scrolled": true
   },
   "outputs": [],
   "source": [
    "cur.execute('''SELECT numr_cart,dat_vald,heur_vald,w.cod_tlb_arrt_sttn,c.libl_long_arrt_sttn\n",
    "            FROM stif_validation_unitaire w, stif_arret_station_physique c\n",
    "            WHERE numr_cart = 38406801252407928\n",
    "            AND c.cod_tlb_arrt_sttn = w.cod_tlb_arrt_sttn\n",
    "            ORDER BY (dat_vald,heur_vald)\n",
    "            ''')\n",
    "cur.fetchall()"
   ]
  },
  {
   "cell_type": "markdown",
   "metadata": {},
   "source": [
    "# Standard deviation of the first validation of each person"
   ]
  },
  {
   "cell_type": "code",
   "execution_count": null,
   "metadata": {
    "collapsed": true
   },
   "outputs": [],
   "source": [
    "cur.execute('''SELECT numr_cart,stddev(second) AS sd\n",
    "            FROM(\n",
    "            SELECT numr_cart, dat_vald, EXTRACT(EPOCH FROM heur_vald) AS second\n",
    "            FROM stif_validation_unitaire\n",
    "            GROUP BY 1,2,heur_vald\n",
    "            ) AS derivedTable\n",
    "            GROUP BY 1\n",
    "            ORDER BY sd ''')\n",
    "cur.fetchall()"
   ]
  },
  {
   "cell_type": "code",
   "execution_count": null,
   "metadata": {
    "collapsed": true,
    "scrolled": false
   },
   "outputs": [],
   "source": [
    "conn = psycopg2.connect(host=\"192.168.208.49\",port=\"5434\",database=\"iva_db\", user=\"tianru\", password=\"WT:53vh$\")\n",
    "cur=conn.cursor()"
   ]
  },
  {
   "cell_type": "code",
   "execution_count": null,
   "metadata": {
    "collapsed": true
   },
   "outputs": [],
   "source": [
    "cur.execute('''SELECT numr_cart,EXTRACT(isodow FROM dat_vald),stddev(60*hour+minute) AS sd\n",
    "            FROM(\n",
    "            SELECT numr_cart, dat_vald, EXTRACT (HOUR FROM heur_vald) AS hour,EXTRACT(MINUTE FROM heur_vald) AS minute\n",
    "            FROM stif_validation_unitaire\n",
    "            GROUP BY 1,2,heur_vald\n",
    "            ) AS derivedTable\n",
    "            GROUP BY 1,2\n",
    "            ORDER BY sd ''')\n",
    "sd_day=cur.fetchall()\n",
    "sd_day=pd.DataFrame(sd_day)\n",
    "sd_day=sd_day.dropna(how='any')"
   ]
  },
  {
   "cell_type": "code",
   "execution_count": null,
   "metadata": {
    "collapsed": true
   },
   "outputs": [],
   "source": [
    "sd_day.columns=['numr_cart','day','sd']"
   ]
  },
  {
   "cell_type": "code",
   "execution_count": null,
   "metadata": {
    "collapsed": true,
    "scrolled": true
   },
   "outputs": [],
   "source": [
    "sd_day"
   ]
  },
  {
   "cell_type": "code",
   "execution_count": null,
   "metadata": {
    "collapsed": true,
    "scrolled": true
   },
   "outputs": [],
   "source": []
  },
  {
   "cell_type": "code",
   "execution_count": null,
   "metadata": {
    "collapsed": true,
    "scrolled": true
   },
   "outputs": [],
   "source": [
    "sd_day.to_csv('sd_day.csv')"
   ]
  },
  {
   "cell_type": "code",
   "execution_count": null,
   "metadata": {
    "collapsed": true
   },
   "outputs": [],
   "source": [
    "sd_day=pd.read_csv('sd_day.csv')"
   ]
  },
  {
   "cell_type": "code",
   "execution_count": null,
   "metadata": {
    "collapsed": true,
    "scrolled": false
   },
   "outputs": [],
   "source": [
    "sd_day.groupby('day').describe()"
   ]
  },
  {
   "cell_type": "code",
   "execution_count": null,
   "metadata": {
    "collapsed": true
   },
   "outputs": [],
   "source": [
    "sd=sd_day"
   ]
  },
  {
   "cell_type": "code",
   "execution_count": null,
   "metadata": {
    "collapsed": true,
    "scrolled": true
   },
   "outputs": [],
   "source": [
    "plt.boxplot([sd.loc[sd[1] == 1][2],sd.loc[sd[1] == 2][2],sd.loc[sd[1] == 3][2],sd.loc[sd[1] == 4][2],sd.loc[sd[1] == 5][2],sd.loc[sd[1] == 6][2],sd.loc[sd[1] == 7][2]])\n",
    "plt.title('Boxplot of standard deviation of each first validation per day for every person')\n",
    "plt.ylabel('SD(min)')\n",
    "weekday_ticks=['Monday','Tuesday','Wednesday','Thursday','Friday','Saturday','Sunday']\n",
    "plt.xticks(range(1,8),weekday_ticks)\n",
    "plt.show()"
   ]
  },
  {
   "cell_type": "markdown",
   "metadata": {},
   "source": [
    "# Number of unique stations(zdl) during weekday and weekend"
   ]
  },
  {
   "cell_type": "code",
   "execution_count": null,
   "metadata": {
    "collapsed": true,
    "scrolled": false
   },
   "outputs": [],
   "source": [
    "cur.execute('''SELECT w.numr_cart,count,countw\n",
    "            FROM(SELECT numr_cart,dat_vald,COUNT(DISTINCT cod_tlb_arrt_sttn) AS count\n",
    "            FROM stif_validation_unitaire\n",
    "            WHERE EXTRACT(isodow FROM dat_vald) IN (1,2,3,4,5)\n",
    "            GROUP BY 1,2\n",
    "            ) AS w,\n",
    "            (SELECT numr_cart,dat_vald,COUNT(DISTINCT cod_tlb_arrt_sttn) AS countw\n",
    "            FROM stif_validation_unitaire\n",
    "            WHERE EXTRACT(isodow FROM dat_vald) IN (6,7)\n",
    "            GROUP BY 1,2\n",
    "            ) AS c\n",
    "            WHERE w.numr_cart = c.numr_cart\n",
    "            ORDER BY count desc\n",
    "            ''')\n",
    "num_uniq_stat=cur.fetchall()"
   ]
  },
  {
   "cell_type": "code",
   "execution_count": null,
   "metadata": {
    "collapsed": true,
    "scrolled": true
   },
   "outputs": [],
   "source": [
    "num_uniq_stat=pd.DataFrame(num_uniq_stat)\n",
    "num_uniq_stat.columns=['numr_cart','weekday','weekend']\n",
    "num_uniq_stat"
   ]
  },
  {
   "cell_type": "code",
   "execution_count": null,
   "metadata": {
    "collapsed": true,
    "scrolled": true
   },
   "outputs": [],
   "source": [
    "cur.execute('''SELECT COUNT(DISTINCT zdlgeom)\n",
    "            FROM joint_geom_arret_zdl''')\n",
    "cur.fetchall()"
   ]
  },
  {
   "cell_type": "code",
   "execution_count": null,
   "metadata": {
    "collapsed": true
   },
   "outputs": [],
   "source": [
    "cur.execute('''SELECT COUNT(DISTINCT cod_tlb_arrt_sttn)\n",
    "            FROM stif_validation_unitaire''')\n",
    "cur.fetchall()"
   ]
  },
  {
   "cell_type": "code",
   "execution_count": null,
   "metadata": {
    "collapsed": true,
    "scrolled": false
   },
   "outputs": [],
   "source": [
    "conn = psycopg2.connect(host=\"192.168.208.49\",port=\"5434\",database=\"iva_db\", user=\"tianru\", password=\"WT:53vh$\")\n",
    "cur=conn.cursor()"
   ]
  },
  {
   "cell_type": "code",
   "execution_count": null,
   "metadata": {
    "collapsed": true,
    "scrolled": false
   },
   "outputs": [],
   "source": [
    "start_time=time.time()\n",
    "cur.execute('''SELECT a.numr_cart,COUNT(DISTINCT b.zdlgeom) AS count\n",
    "            FROM stif_validation_unitaire a,joint_geom_arret_zdl b\n",
    "            WHERE EXTRACT(isodow FROM dat_vald) IN (6,7)\n",
    "            AND a.cod_tlb_arrt_sttn = b.cod_tlb_arrt_sttn\n",
    "            GROUP BY 1\n",
    "            ORDER BY count desc\n",
    "            ''')\n",
    "num_uniq_stat_weekend=cur.fetchall()\n",
    "print(\"--- %s seconds ---\" % (time.time() - start_time))"
   ]
  },
  {
   "cell_type": "code",
   "execution_count": null,
   "metadata": {
    "collapsed": true,
    "scrolled": false
   },
   "outputs": [],
   "source": [
    "start_time=time.time()\n",
    "cur.execute('''SELECT a.numr_cart,COUNT(DISTINCT b.zdlgeom) AS count\n",
    "            FROM stif_validation_unitaire a,joint_geom_arret_zdl b\n",
    "            WHERE EXTRACT(isodow FROM dat_vald) IN (1,2,3,4,5)\n",
    "            AND a.cod_tlb_arrt_sttn = b.cod_tlb_arrt_sttn\n",
    "            GROUP BY 1\n",
    "            ORDER BY count desc\n",
    "            ''')\n",
    "num_uniq_stat_weekday=cur.fetchall()\n",
    "print(\"--- %s seconds ---\" % (time.time() - start_time))"
   ]
  },
  {
   "cell_type": "code",
   "execution_count": null,
   "metadata": {
    "collapsed": true
   },
   "outputs": [],
   "source": [
    "num_uniq_stat_weekend=pd.DataFrame(num_uniq_stat_weekend)"
   ]
  },
  {
   "cell_type": "code",
   "execution_count": null,
   "metadata": {
    "collapsed": true
   },
   "outputs": [],
   "source": [
    "num_uniq_stat_weekend.columns=['numr_cart','count']"
   ]
  },
  {
   "cell_type": "code",
   "execution_count": null,
   "metadata": {
    "collapsed": true,
    "scrolled": true
   },
   "outputs": [],
   "source": [
    "num_uniq_stat_weekend.to_csv('num_uniq_stat_weekend.csv')"
   ]
  },
  {
   "cell_type": "code",
   "execution_count": null,
   "metadata": {
    "collapsed": true
   },
   "outputs": [],
   "source": []
  },
  {
   "cell_type": "code",
   "execution_count": null,
   "metadata": {
    "collapsed": true
   },
   "outputs": [],
   "source": []
  },
  {
   "cell_type": "code",
   "execution_count": null,
   "metadata": {
    "collapsed": true
   },
   "outputs": [],
   "source": [
    "num_uniq_stat=pd.read_csv('num_uniq_station.csv')"
   ]
  },
  {
   "cell_type": "code",
   "execution_count": null,
   "metadata": {
    "collapsed": true,
    "scrolled": true
   },
   "outputs": [],
   "source": [
    "num_uniq_stat"
   ]
  },
  {
   "cell_type": "code",
   "execution_count": null,
   "metadata": {
    "collapsed": true
   },
   "outputs": [],
   "source": [
    "num_uniq_stat.to_csv('num_uniq_station.csv')"
   ]
  },
  {
   "cell_type": "code",
   "execution_count": null,
   "metadata": {
    "collapsed": true,
    "scrolled": false
   },
   "outputs": [],
   "source": [
    "num_uniq_stat.describe()"
   ]
  },
  {
   "cell_type": "code",
   "execution_count": null,
   "metadata": {
    "collapsed": true,
    "scrolled": true
   },
   "outputs": [],
   "source": [
    "plt.boxplot([num_uniq_stat['num_station_weekday'],num_uniq_stat['num_station_weekend']],widths=0.6)\n",
    "plt.ylabel('count')\n",
    "plt.xlabel('weekday                  /                    weekend')\n",
    "plt.title('Number of unique stations')\n",
    "plt.show()"
   ]
  },
  {
   "cell_type": "code",
   "execution_count": null,
   "metadata": {
    "collapsed": true,
    "scrolled": true
   },
   "outputs": [],
   "source": [
    "sns.distplot(num_uniq_stat['num_station_weekday'])\n",
    "plt.ylabel('Frequency')\n",
    "plt.title('Number of unique stations in weekday')\n",
    "plt.savefig('num_uniq_stat_weekday.png',format='png',dpi=1200)"
   ]
  },
  {
   "cell_type": "code",
   "execution_count": null,
   "metadata": {
    "collapsed": true
   },
   "outputs": [],
   "source": [
    "sns.distplot(num_uniq_stat['num_station_weekend'])\n",
    "plt.ylabel('Frequency')\n",
    "plt.title('Number of unique stations in weekend')\n",
    "plt.savefig('num_uniq_stat_weekend.png',format='png',dpi=1200)"
   ]
  },
  {
   "cell_type": "code",
   "execution_count": null,
   "metadata": {
    "collapsed": true
   },
   "outputs": [],
   "source": [
    "tips=sns.load_dataset(\"tips\")"
   ]
  },
  {
   "cell_type": "code",
   "execution_count": null,
   "metadata": {
    "collapsed": true,
    "scrolled": true
   },
   "outputs": [],
   "source": [
    "tips"
   ]
  },
  {
   "cell_type": "code",
   "execution_count": null,
   "metadata": {
    "collapsed": true,
    "scrolled": true
   },
   "outputs": [],
   "source": [
    "sns.boxplot(y=('num_station_weekday'),data=num_uniq_stat)"
   ]
  },
  {
   "cell_type": "markdown",
   "metadata": {},
   "source": [
    "# Total days of everyone"
   ]
  },
  {
   "cell_type": "code",
   "execution_count": null,
   "metadata": {
    "collapsed": true,
    "scrolled": true
   },
   "outputs": [],
   "source": [
    "cur.execute(\"\"\"SELECT numr_cart,COUNT(DISTINCT dat_vald) AS count\n",
    "            FROM stif_validation_unitaire\n",
    "            GROUP BY 1\n",
    "            ORDER BY count desc\"\"\")\n",
    "num_days=cur.fetchall()\n",
    "\n",
    "num_of_day = pd.DataFrame(num_days)\n",
    "num_of_day.to_csv('num_of_day.csv')"
   ]
  },
  {
   "cell_type": "code",
   "execution_count": null,
   "metadata": {
    "collapsed": true,
    "scrolled": true
   },
   "outputs": [],
   "source": [
    "num_of_day"
   ]
  },
  {
   "cell_type": "code",
   "execution_count": null,
   "metadata": {
    "collapsed": true
   },
   "outputs": [],
   "source": [
    "plt.boxplot(num_of_day[1])\n",
    "plt.ylabel('days')\n",
    "plt.show()"
   ]
  },
  {
   "cell_type": "markdown",
   "metadata": {},
   "source": [
    "# Most(top 2) frequent station "
   ]
  },
  {
   "cell_type": "code",
   "execution_count": null,
   "metadata": {
    "collapsed": true
   },
   "outputs": [],
   "source": [
    "cur.execute(\"\"\"\n",
    "            SELECT numr_cart,count,Rowid,c.cod_tlb_arrt_sttn,d.libl_long_arrt_sttn\n",
    "            FROM(\n",
    "            SELECT numr_cart,cod_tlb_arrt_sttn,count,Rowid\n",
    "            FROM(\n",
    "            SELECT *,ROW_NUMBER() OVER (PARTITION BY numr_cart ORDER BY count desc) AS Rowid\n",
    "            FROM(\n",
    "            SELECT DISTINCT numr_cart,cod_tlb_arrt_sttn,COUNT(cod_tlb_arrt_sttn) AS count\n",
    "            FROM stif_validation_unitaire\n",
    "            GROUP BY 1,2\n",
    "            ) AS a\n",
    "            ) AS b\n",
    "            WHERE Rowid < 3 \n",
    "            ORDER BY numr_cart\n",
    "            ) AS c, stif_arret_station_physique d\n",
    "            WHERE d.cod_tlb_arrt_sttn = c.cod_tlb_arrt_sttn\n",
    "            AND d.libl_long_arrt_sttn != 'Inconnu'\n",
    "            ORDER BY numr_cart\n",
    "            \"\"\")\n",
    "count_station=cur.fetchall()"
   ]
  },
  {
   "cell_type": "code",
   "execution_count": null,
   "metadata": {
    "collapsed": true
   },
   "outputs": [],
   "source": [
    "count_station=pd.DataFrame(count_station)\n",
    "count_station.columns=['numr_cart','count','Order','cod_tlb_arrt_sttn','libl_long_arrt_sttn']\n",
    "count_station.to_csv('count_station.csv')"
   ]
  },
  {
   "cell_type": "code",
   "execution_count": null,
   "metadata": {
    "collapsed": true,
    "scrolled": true
   },
   "outputs": [],
   "source": [
    "count_station"
   ]
  },
  {
   "cell_type": "code",
   "execution_count": null,
   "metadata": {
    "collapsed": true,
    "scrolled": true
   },
   "outputs": [],
   "source": [
    "count_station[count_station['numr_cart'] == 1853439815032428009]"
   ]
  },
  {
   "cell_type": "markdown",
   "metadata": {},
   "source": [
    "In this table there are some people that have a record like above, they have equal validation times for a lot of stations, for these records maybe should delete them"
   ]
  },
  {
   "cell_type": "code",
   "execution_count": null,
   "metadata": {
    "collapsed": true
   },
   "outputs": [],
   "source": [
    "cur.execute(\"\"\"\n",
    "            SELECT numr_cart,count,Rowid,c.cod_tlb_arrt_sttn,d.libl_long_arrt_sttn\n",
    "            FROM(\n",
    "            SELECT numr_cart,cod_tlb_arrt_sttn,count,Rowid\n",
    "            FROM(\n",
    "            SELECT *,ROW_NUMBER() OVER (PARTITION BY numr_cart ORDER BY count desc) AS Rowid\n",
    "            FROM(\n",
    "            SELECT DISTINCT numr_cart,cod_tlb_arrt_sttn,COUNT(cod_tlb_arrt_sttn) AS count\n",
    "            FROM(\n",
    "            SELECT * \n",
    "            FROM stif_validation_unitaire\n",
    "            WHERE EXTRACT(isodow FROM dat_vald) IN (1,2,3,4,5)\n",
    "            ) AS w\n",
    "            GROUP BY 1,2\n",
    "            ) AS a\n",
    "            ) AS b\n",
    "            WHERE Rowid < 3 \n",
    "            ORDER BY numr_cart\n",
    "            ) AS c, stif_arret_station_physique d\n",
    "            WHERE d.cod_tlb_arrt_sttn = c.cod_tlb_arrt_sttn\n",
    "            AND d.libl_long_arrt_sttn != 'Inconnu'\n",
    "            ORDER BY numr_cart\n",
    "            \"\"\")\n",
    "count_station_weekday=cur.fetchall()"
   ]
  },
  {
   "cell_type": "code",
   "execution_count": null,
   "metadata": {
    "collapsed": true,
    "scrolled": true
   },
   "outputs": [],
   "source": [
    "cur.execute(\"\"\"\n",
    "            SELECT numr_cart,count,Rowid,c.cod_tlb_arrt_sttn,d.libl_long_arrt_sttn\n",
    "            FROM(\n",
    "            SELECT numr_cart,cod_tlb_arrt_sttn,count,Rowid\n",
    "            FROM(\n",
    "            SELECT *,ROW_NUMBER() OVER (PARTITION BY numr_cart ORDER BY count desc) AS Rowid\n",
    "            FROM(\n",
    "            SELECT DISTINCT numr_cart,cod_tlb_arrt_sttn,COUNT(cod_tlb_arrt_sttn) AS count\n",
    "            FROM(\n",
    "            SELECT * \n",
    "            FROM stif_validation_unitaire\n",
    "            WHERE EXTRACT(isodow FROM dat_vald) IN (6,7)\n",
    "            ) AS w\n",
    "            GROUP BY 1,2\n",
    "            ) AS a\n",
    "            ) AS b\n",
    "            WHERE Rowid < 3 \n",
    "            ORDER BY numr_cart\n",
    "            ) AS c, stif_arret_station_physique d\n",
    "            WHERE d.cod_tlb_arrt_sttn = c.cod_tlb_arrt_sttn\n",
    "            AND d.libl_long_arrt_sttn != 'Inconnu'\n",
    "            ORDER BY numr_cart\n",
    "            \"\"\")\n",
    "count_station_weekend=cur.fetchall()"
   ]
  },
  {
   "cell_type": "code",
   "execution_count": null,
   "metadata": {
    "collapsed": true
   },
   "outputs": [],
   "source": [
    "count_station_weekday=pd.DataFrame(count_station_weekday)\n",
    "count_station_weekend=pd.DataFrame(count_station_weekend)\n",
    "count_station_weekday.columns=['numr_cart','count','order','cod_tlb_arrt_sttn','libl_long_arrt_sttn']\n",
    "count_station_weekend.columns=['numr_cart','count','order','cod_tlb_arrt_sttn','libl_long_arrt_sttn']"
   ]
  },
  {
   "cell_type": "code",
   "execution_count": null,
   "metadata": {
    "collapsed": true
   },
   "outputs": [],
   "source": [
    "count_station_weekday.to_csv('count_station_weekday.csv')\n",
    "count_station_weekend.to_csv('count_station_weekend.csv')"
   ]
  },
  {
   "cell_type": "code",
   "execution_count": null,
   "metadata": {
    "collapsed": true
   },
   "outputs": [],
   "source": [
    "count_station_sp=count_station_weekday.join(count_station_weekend,lsuffix='numr_cart',rsuffix='numr_cart',how='outer')\n",
    "count_station_sp.columns=['numr_cart','count_weekday','order_weekday','cod_weekday','libl_weekday','numr_carte','count_weekend','order_weekend','cod_weekend','libl_weekend']\n",
    "count_station_sp=count_station_sp.drop(columns=['numr_carte'])"
   ]
  },
  {
   "cell_type": "code",
   "execution_count": null,
   "metadata": {
    "collapsed": true
   },
   "outputs": [],
   "source": [
    "count_station_sp.to_csv('count_station_sp.csv')"
   ]
  },
  {
   "cell_type": "code",
   "execution_count": null,
   "metadata": {
    "collapsed": true,
    "scrolled": true
   },
   "outputs": [],
   "source": [
    "count_station_sp"
   ]
  },
  {
   "cell_type": "code",
   "execution_count": null,
   "metadata": {
    "collapsed": true,
    "scrolled": true
   },
   "outputs": [],
   "source": [
    "count_station_sp['libl_weekday'].value_counts()"
   ]
  },
  {
   "cell_type": "code",
   "execution_count": null,
   "metadata": {
    "collapsed": true,
    "scrolled": true
   },
   "outputs": [],
   "source": [
    "count_station_sp[count_station_sp.order_weekday==1]['libl_weekday'].value_counts()"
   ]
  },
  {
   "cell_type": "code",
   "execution_count": null,
   "metadata": {
    "collapsed": true,
    "scrolled": true
   },
   "outputs": [],
   "source": [
    "station1_weekday=count_station_sp[count_station_sp.order_weekday==1]['libl_weekday'].value_counts().to_frame().reset_index()\n",
    "station1_weekday.columns=['station','count']\n",
    "station1_weekend=count_station_sp[count_station_sp.order_weekend==1]['libl_weekend'].value_counts().to_frame().reset_index()\n",
    "station1_weekend.columns=['station','count']\n",
    "station2_weekday=count_station_sp[count_station_sp.order_weekday==2]['libl_weekday'].value_counts().to_frame().reset_index()\n",
    "station2_weekday.columns=['station','count']\n",
    "station2_weekend=count_station_sp[count_station_sp.order_weekend==2]['libl_weekend'].value_counts().to_frame().reset_index()\n",
    "station2_weekend.columns=['station','count']"
   ]
  },
  {
   "cell_type": "code",
   "execution_count": null,
   "metadata": {
    "collapsed": true,
    "scrolled": true
   },
   "outputs": [],
   "source": [
    "sns.barplot(y='station',x='count',data=station1_weekday[0:10])\n",
    "plt.title('Top 10 most frequent stations during weekday')"
   ]
  },
  {
   "cell_type": "code",
   "execution_count": null,
   "metadata": {
    "collapsed": true,
    "scrolled": false
   },
   "outputs": [],
   "source": [
    "sns.barplot(y='station',x='count',data=station1_weekend[0:10])\n",
    "plt.title('Top 10 most frequent stations during weekend')"
   ]
  },
  {
   "cell_type": "code",
   "execution_count": null,
   "metadata": {
    "collapsed": true
   },
   "outputs": [],
   "source": [
    "sns.barplot(y='station',x='count',data=station2_weekday[0:10])\n",
    "plt.title('Top 10 second most frequent stations during weekday')"
   ]
  },
  {
   "cell_type": "code",
   "execution_count": null,
   "metadata": {
    "collapsed": true
   },
   "outputs": [],
   "source": [
    "sns.barplot(y='station',x='count',data=station2_weekend[0:10])\n",
    "plt.title('Top 10 second most frequent stations during weekend')"
   ]
  },
  {
   "cell_type": "code",
   "execution_count": null,
   "metadata": {
    "collapsed": true
   },
   "outputs": [],
   "source": []
  },
  {
   "cell_type": "code",
   "execution_count": null,
   "metadata": {
    "collapsed": true
   },
   "outputs": [],
   "source": []
  },
  {
   "cell_type": "code",
   "execution_count": null,
   "metadata": {
    "collapsed": true
   },
   "outputs": [],
   "source": [
    "cur.execute('''SELECT numr_cart,dat_vald,heur_vald\n",
    "            FROM stif_validation_unitaire\n",
    "            ORDER BY heur_vald LIMIT 1''')\n",
    "cur.fetchall()"
   ]
  },
  {
   "cell_type": "markdown",
   "metadata": {},
   "source": [
    "# First(and last) three validations for each person each day"
   ]
  },
  {
   "cell_type": "code",
   "execution_count": null,
   "metadata": {
    "collapsed": true
   },
   "outputs": [],
   "source": [
    "cur.execute('''SELECT numr_cart,dat_vald,heur_vald,cod_tlb_arrt_sttn\n",
    "            FROM(\n",
    "            SELECT numr_cart,dat_vald,heur_vald,cod_tlb_arrt_sttn,ROW_NUMBER() OVER (PARTITION BY numr_cart,dat_vald ORDER BY heur_vald) AS r\n",
    "            FROM stif_validation_unitaire\n",
    "            ) AS w\n",
    "            WHERE w.r < 4\n",
    "            ''')\n",
    "first3_validation=cur.fetchall()"
   ]
  },
  {
   "cell_type": "code",
   "execution_count": null,
   "metadata": {
    "collapsed": true
   },
   "outputs": [],
   "source": [
    "first3_validation=pd.DataFrame(first3_validation)\n",
    "first3_validation.to_csv('first3_validation.csv')"
   ]
  },
  {
   "cell_type": "code",
   "execution_count": null,
   "metadata": {
    "collapsed": true
   },
   "outputs": [],
   "source": []
  },
  {
   "cell_type": "code",
   "execution_count": null,
   "metadata": {
    "collapsed": true,
    "scrolled": true
   },
   "outputs": [],
   "source": [
    "cur.execute('''SELECT numr_cart,dat_vald,heur_vald,cod_tlb_arrt_sttn\n",
    "            FROM(\n",
    "            SELECT numr_cart,dat_vald,heur_vald,cod_tlb_arrt_sttn,ROW_NUMBER() OVER (PARTITION BY numr_cart,dat_vald ORDER BY heur_vald desc) AS r\n",
    "            FROM stif_validation_unitaire\n",
    "            ) AS w\n",
    "            WHERE w.r < 4\n",
    "            ''')\n",
    "last3_validation=cur.fetchall()\n",
    "last3_validation=pd.DataFrame(last3_validation)\n",
    "last3_validation.to_csv('last3_validation.csv')"
   ]
  },
  {
   "cell_type": "code",
   "execution_count": null,
   "metadata": {
    "collapsed": true
   },
   "outputs": [],
   "source": []
  },
  {
   "cell_type": "code",
   "execution_count": null,
   "metadata": {
    "collapsed": true,
    "scrolled": false
   },
   "outputs": [],
   "source": [
    "conn = psycopg2.connect(host=\"192.168.208.49\",port=\"5434\",database=\"iva_db\", user=\"tianru\", password=\"WT:53vh$\")\n",
    "cur=conn.cursor()"
   ]
  },
  {
   "cell_type": "markdown",
   "metadata": {},
   "source": [
    "# Time difference"
   ]
  },
  {
   "cell_type": "code",
   "execution_count": null,
   "metadata": {
    "collapsed": true
   },
   "outputs": [],
   "source": [
    "cur.execute('''SELECT numr_cart,dat_vald,cod_tlb_arrt_sttn\n",
    "            ,heur_vald - lag(heur_vald) OVER (ORDER BY numr_cart,dat_vald,heur_vald) AS interval\n",
    "            FROM stif_validation_unitaire\n",
    "            WHERE numr_cart = '4362165769991'\n",
    "            ''')\n",
    "td=cur.fetchall()"
   ]
  },
  {
   "cell_type": "code",
   "execution_count": null,
   "metadata": {
    "collapsed": true
   },
   "outputs": [],
   "source": [
    "td=pd.DataFrame(td)"
   ]
  },
  {
   "cell_type": "code",
   "execution_count": null,
   "metadata": {
    "collapsed": true,
    "scrolled": true
   },
   "outputs": [],
   "source": [
    "td"
   ]
  },
  {
   "cell_type": "code",
   "execution_count": null,
   "metadata": {
    "collapsed": true,
    "scrolled": true
   },
   "outputs": [],
   "source": [
    "cur.execute('''SELECT *\n",
    "            FROM stif_validation_unitaire\n",
    "            WHERE numr_cart = '4362165769991'\n",
    "            ''')\n",
    "cur.fetchall()"
   ]
  },
  {
   "cell_type": "code",
   "execution_count": null,
   "metadata": {
    "collapsed": true
   },
   "outputs": [],
   "source": [
    "cur.execute('''SELECT numr_cart,dat_vald,cod_tlb_arrt_sttn\n",
    "            ,heur_vald - lag(heur_vald) OVER (ORDER BY numr_cart,dat_vald,heur_vald) AS interval\n",
    "            FROM stif_validation_unitaire\n",
    "            ''')\n",
    "td=cur.fetchall()"
   ]
  },
  {
   "cell_type": "code",
   "execution_count": null,
   "metadata": {
    "collapsed": true
   },
   "outputs": [],
   "source": []
  },
  {
   "cell_type": "code",
   "execution_count": null,
   "metadata": {
    "collapsed": true
   },
   "outputs": [],
   "source": [
    "td=pd.DataFrame(td)"
   ]
  },
  {
   "cell_type": "code",
   "execution_count": null,
   "metadata": {
    "collapsed": true
   },
   "outputs": [],
   "source": [
    "td.columns=['']"
   ]
  },
  {
   "cell_type": "code",
   "execution_count": null,
   "metadata": {
    "collapsed": true
   },
   "outputs": [],
   "source": []
  },
  {
   "cell_type": "markdown",
   "metadata": {},
   "source": [
    "# Entropy "
   ]
  },
  {
   "cell_type": "code",
   "execution_count": null,
   "metadata": {
    "collapsed": true,
    "scrolled": true
   },
   "outputs": [],
   "source": [
    "conn = psycopg2.connect(host=\"192.168.208.49\",port=\"5434\",database=\"iva_db\", user=\"tianru\", password=\"WT:53vh$\")\n",
    "cur=conn.cursor()"
   ]
  },
  {
   "cell_type": "code",
   "execution_count": null,
   "metadata": {
    "collapsed": true
   },
   "outputs": [],
   "source": [
    "start_time=time.time()\n",
    "cur.execute('''CREATE TABLE count_each AS\n",
    "            SELECT numr_cart,zdlgeom,AVG(count) AS avg\n",
    "            FROM(\n",
    "            SELECT numr_cart,dat_vald,b.zdlgeom,COUNT(b.zdlgeom) AS count\n",
    "            FROM stif_validation_unitaire a,joint_geom_arret_zdl b\n",
    "            WHERE b.cod_tlb_arrt_sttn = a.cod_tlb_arrt_sttn\n",
    "            GROUP BY 1,2,3\n",
    "            ) AS w\n",
    "            GROUP BY 1,2\n",
    "            ''')\n",
    "count_each=cur.fetchall()\n",
    "print(\"--- %s seconds ---\" % (time.time() - start_time))"
   ]
  },
  {
   "cell_type": "code",
   "execution_count": null,
   "metadata": {
    "collapsed": true,
    "scrolled": true
   },
   "outputs": [],
   "source": [
    "count_each=pd.DataFrame(count_each)\n",
    "count_each.columns=['numr_cart','cod','count']"
   ]
  },
  {
   "cell_type": "code",
   "execution_count": null,
   "metadata": {
    "collapsed": true,
    "scrolled": true
   },
   "outputs": [],
   "source": [
    "count_each=pd.merge(count_each,count_each.groupby(['numr_cart'])['count'].sum().reset_index(),on='numr_cart')"
   ]
  },
  {
   "cell_type": "code",
   "execution_count": null,
   "metadata": {
    "collapsed": true
   },
   "outputs": [],
   "source": [
    "count_each['p']=count_each['count_x']/count_each['count_y']"
   ]
  },
  {
   "cell_type": "code",
   "execution_count": null,
   "metadata": {
    "collapsed": true,
    "scrolled": true
   },
   "outputs": [],
   "source": [
    "count_each['p']=count_each['p'].astype(float)"
   ]
  },
  {
   "cell_type": "code",
   "execution_count": null,
   "metadata": {
    "collapsed": true,
    "scrolled": true
   },
   "outputs": [],
   "source": [
    "count_each"
   ]
  },
  {
   "cell_type": "code",
   "execution_count": null,
   "metadata": {
    "collapsed": true,
    "scrolled": true
   },
   "outputs": [],
   "source": [
    "entropy=count_each.groupby(['numr_cart','p'])['p'].apply(lambda x:\n",
    "                                          -x * np.log2(x)).reset_index()"
   ]
  },
  {
   "cell_type": "code",
   "execution_count": null,
   "metadata": {
    "collapsed": true,
    "scrolled": true
   },
   "outputs": [],
   "source": [
    "count_each['entropy']=entropy['p']"
   ]
  },
  {
   "cell_type": "code",
   "execution_count": null,
   "metadata": {
    "collapsed": true,
    "scrolled": true
   },
   "outputs": [],
   "source": [
    "ent=count_each.groupby('numr_cart')['entropy'].sum().reset_index()"
   ]
  },
  {
   "cell_type": "code",
   "execution_count": null,
   "metadata": {
    "collapsed": true,
    "scrolled": true
   },
   "outputs": [],
   "source": [
    "ent"
   ]
  },
  {
   "cell_type": "code",
   "execution_count": null,
   "metadata": {
    "collapsed": true
   },
   "outputs": [],
   "source": [
    "count_each"
   ]
  },
  {
   "cell_type": "code",
   "execution_count": null,
   "metadata": {
    "collapsed": true,
    "scrolled": true
   },
   "outputs": [],
   "source": [
    "sns.distplot(ent['entropy'])\n",
    "plt.xlabel('Entropy')\n",
    "plt.ylabel('Frequency')\n",
    "plt.title('Distribution of entropy')"
   ]
  },
  {
   "cell_type": "code",
   "execution_count": null,
   "metadata": {
    "collapsed": true
   },
   "outputs": [],
   "source": []
  },
  {
   "cell_type": "code",
   "execution_count": null,
   "metadata": {
    "collapsed": true
   },
   "outputs": [],
   "source": []
  },
  {
   "cell_type": "markdown",
   "metadata": {
    "collapsed": true
   },
   "source": [
    "# Spatial-temporal entropy"
   ]
  },
  {
   "cell_type": "code",
   "execution_count": 3,
   "metadata": {
    "collapsed": true
   },
   "outputs": [],
   "source": [
    "cur.execute('''SELECT numr_cart,spatiotemporel_entropie\n",
    "            FROM user_spatiotemporel_stats''')\n",
    "Ent=cur.fetchall()\n",
    "Ent=pd.DataFrame(Ent)"
   ]
  },
  {
   "cell_type": "code",
   "execution_count": 4,
   "metadata": {
    "collapsed": true
   },
   "outputs": [],
   "source": [
    "Ent[2]=Ent[1]"
   ]
  },
  {
   "cell_type": "code",
   "execution_count": 5,
   "metadata": {
    "scrolled": true
   },
   "outputs": [
    {
     "data": {
      "text/html": [
       "<div>\n",
       "<style>\n",
       "    .dataframe thead tr:only-child th {\n",
       "        text-align: right;\n",
       "    }\n",
       "\n",
       "    .dataframe thead th {\n",
       "        text-align: left;\n",
       "    }\n",
       "\n",
       "    .dataframe tbody tr th {\n",
       "        vertical-align: top;\n",
       "    }\n",
       "</style>\n",
       "<table border=\"1\" class=\"dataframe\">\n",
       "  <thead>\n",
       "    <tr style=\"text-align: right;\">\n",
       "      <th></th>\n",
       "      <th>0</th>\n",
       "      <th>1</th>\n",
       "      <th>2</th>\n",
       "    </tr>\n",
       "  </thead>\n",
       "  <tbody>\n",
       "    <tr>\n",
       "      <th>0</th>\n",
       "      <td>4362165769991</td>\n",
       "      <td>8.065744</td>\n",
       "      <td>8.065744</td>\n",
       "    </tr>\n",
       "    <tr>\n",
       "      <th>1</th>\n",
       "      <td>60155522867454</td>\n",
       "      <td>6.686903</td>\n",
       "      <td>6.686903</td>\n",
       "    </tr>\n",
       "    <tr>\n",
       "      <th>2</th>\n",
       "      <td>73681551316104</td>\n",
       "      <td>7.209689</td>\n",
       "      <td>7.209689</td>\n",
       "    </tr>\n",
       "    <tr>\n",
       "      <th>3</th>\n",
       "      <td>99308585375234</td>\n",
       "      <td>4.858564</td>\n",
       "      <td>4.858564</td>\n",
       "    </tr>\n",
       "    <tr>\n",
       "      <th>4</th>\n",
       "      <td>166492329987075</td>\n",
       "      <td>3.277613</td>\n",
       "      <td>3.277613</td>\n",
       "    </tr>\n",
       "    <tr>\n",
       "      <th>5</th>\n",
       "      <td>289415928808559</td>\n",
       "      <td>7.447779</td>\n",
       "      <td>7.447779</td>\n",
       "    </tr>\n",
       "    <tr>\n",
       "      <th>6</th>\n",
       "      <td>294479101194672</td>\n",
       "      <td>4.363713</td>\n",
       "      <td>4.363713</td>\n",
       "    </tr>\n",
       "    <tr>\n",
       "      <th>7</th>\n",
       "      <td>304181386091598</td>\n",
       "      <td>5.979992</td>\n",
       "      <td>5.979992</td>\n",
       "    </tr>\n",
       "    <tr>\n",
       "      <th>8</th>\n",
       "      <td>311065912768062</td>\n",
       "      <td>4.772084</td>\n",
       "      <td>4.772084</td>\n",
       "    </tr>\n",
       "    <tr>\n",
       "      <th>9</th>\n",
       "      <td>344822678553909</td>\n",
       "      <td>3.916127</td>\n",
       "      <td>3.916127</td>\n",
       "    </tr>\n",
       "    <tr>\n",
       "      <th>10</th>\n",
       "      <td>385737988157284</td>\n",
       "      <td>5.558652</td>\n",
       "      <td>5.558652</td>\n",
       "    </tr>\n",
       "    <tr>\n",
       "      <th>11</th>\n",
       "      <td>419000456632144</td>\n",
       "      <td>6.015457</td>\n",
       "      <td>6.015457</td>\n",
       "    </tr>\n",
       "    <tr>\n",
       "      <th>12</th>\n",
       "      <td>422036760871806</td>\n",
       "      <td>4.469670</td>\n",
       "      <td>4.469670</td>\n",
       "    </tr>\n",
       "    <tr>\n",
       "      <th>13</th>\n",
       "      <td>559331500663321</td>\n",
       "      <td>5.032303</td>\n",
       "      <td>5.032303</td>\n",
       "    </tr>\n",
       "    <tr>\n",
       "      <th>14</th>\n",
       "      <td>590529771934611</td>\n",
       "      <td>6.641098</td>\n",
       "      <td>6.641098</td>\n",
       "    </tr>\n",
       "    <tr>\n",
       "      <th>15</th>\n",
       "      <td>669524394535472</td>\n",
       "      <td>4.718054</td>\n",
       "      <td>4.718054</td>\n",
       "    </tr>\n",
       "    <tr>\n",
       "      <th>16</th>\n",
       "      <td>722824259017012</td>\n",
       "      <td>7.679174</td>\n",
       "      <td>7.679174</td>\n",
       "    </tr>\n",
       "    <tr>\n",
       "      <th>17</th>\n",
       "      <td>824441098919041</td>\n",
       "      <td>7.276819</td>\n",
       "      <td>7.276819</td>\n",
       "    </tr>\n",
       "    <tr>\n",
       "      <th>18</th>\n",
       "      <td>843851391133938</td>\n",
       "      <td>6.692425</td>\n",
       "      <td>6.692425</td>\n",
       "    </tr>\n",
       "    <tr>\n",
       "      <th>19</th>\n",
       "      <td>955623041021292</td>\n",
       "      <td>6.933706</td>\n",
       "      <td>6.933706</td>\n",
       "    </tr>\n",
       "    <tr>\n",
       "      <th>20</th>\n",
       "      <td>968570272442148</td>\n",
       "      <td>6.869339</td>\n",
       "      <td>6.869339</td>\n",
       "    </tr>\n",
       "    <tr>\n",
       "      <th>21</th>\n",
       "      <td>1008618831507202</td>\n",
       "      <td>5.049130</td>\n",
       "      <td>5.049130</td>\n",
       "    </tr>\n",
       "    <tr>\n",
       "      <th>22</th>\n",
       "      <td>1026129126682372</td>\n",
       "      <td>4.221928</td>\n",
       "      <td>4.221928</td>\n",
       "    </tr>\n",
       "    <tr>\n",
       "      <th>23</th>\n",
       "      <td>1102076944295943</td>\n",
       "      <td>6.132166</td>\n",
       "      <td>6.132166</td>\n",
       "    </tr>\n",
       "    <tr>\n",
       "      <th>24</th>\n",
       "      <td>1106932314213050</td>\n",
       "      <td>5.231957</td>\n",
       "      <td>5.231957</td>\n",
       "    </tr>\n",
       "    <tr>\n",
       "      <th>25</th>\n",
       "      <td>1144065629066084</td>\n",
       "      <td>4.242885</td>\n",
       "      <td>4.242885</td>\n",
       "    </tr>\n",
       "    <tr>\n",
       "      <th>26</th>\n",
       "      <td>1218727573500313</td>\n",
       "      <td>4.425236</td>\n",
       "      <td>4.425236</td>\n",
       "    </tr>\n",
       "    <tr>\n",
       "      <th>27</th>\n",
       "      <td>1265587148472274</td>\n",
       "      <td>5.602101</td>\n",
       "      <td>5.602101</td>\n",
       "    </tr>\n",
       "    <tr>\n",
       "      <th>28</th>\n",
       "      <td>1277969098034321</td>\n",
       "      <td>4.857981</td>\n",
       "      <td>4.857981</td>\n",
       "    </tr>\n",
       "    <tr>\n",
       "      <th>29</th>\n",
       "      <td>1307131116745232</td>\n",
       "      <td>3.431624</td>\n",
       "      <td>3.431624</td>\n",
       "    </tr>\n",
       "    <tr>\n",
       "      <th>...</th>\n",
       "      <td>...</td>\n",
       "      <td>...</td>\n",
       "      <td>...</td>\n",
       "    </tr>\n",
       "    <tr>\n",
       "      <th>99970</th>\n",
       "      <td>1852438367843376385</td>\n",
       "      <td>4.615061</td>\n",
       "      <td>4.615061</td>\n",
       "    </tr>\n",
       "    <tr>\n",
       "      <th>99971</th>\n",
       "      <td>1852458135583916246</td>\n",
       "      <td>5.570451</td>\n",
       "      <td>5.570451</td>\n",
       "    </tr>\n",
       "    <tr>\n",
       "      <th>99972</th>\n",
       "      <td>1852465295816298017</td>\n",
       "      <td>6.141245</td>\n",
       "      <td>6.141245</td>\n",
       "    </tr>\n",
       "    <tr>\n",
       "      <th>99973</th>\n",
       "      <td>1852483718084877157</td>\n",
       "      <td>3.773557</td>\n",
       "      <td>3.773557</td>\n",
       "    </tr>\n",
       "    <tr>\n",
       "      <th>99974</th>\n",
       "      <td>1852504326484538313</td>\n",
       "      <td>5.922782</td>\n",
       "      <td>5.922782</td>\n",
       "    </tr>\n",
       "    <tr>\n",
       "      <th>99975</th>\n",
       "      <td>1852525887815436701</td>\n",
       "      <td>6.776932</td>\n",
       "      <td>6.776932</td>\n",
       "    </tr>\n",
       "    <tr>\n",
       "      <th>99976</th>\n",
       "      <td>1852581675694983308</td>\n",
       "      <td>6.912029</td>\n",
       "      <td>6.912029</td>\n",
       "    </tr>\n",
       "    <tr>\n",
       "      <th>99977</th>\n",
       "      <td>1852595677338201123</td>\n",
       "      <td>4.418296</td>\n",
       "      <td>4.418296</td>\n",
       "    </tr>\n",
       "    <tr>\n",
       "      <th>99978</th>\n",
       "      <td>1852624659167652964</td>\n",
       "      <td>6.452666</td>\n",
       "      <td>6.452666</td>\n",
       "    </tr>\n",
       "    <tr>\n",
       "      <th>99979</th>\n",
       "      <td>1852650394402656608</td>\n",
       "      <td>4.725481</td>\n",
       "      <td>4.725481</td>\n",
       "    </tr>\n",
       "    <tr>\n",
       "      <th>99980</th>\n",
       "      <td>1852721764240905361</td>\n",
       "      <td>5.725340</td>\n",
       "      <td>5.725340</td>\n",
       "    </tr>\n",
       "    <tr>\n",
       "      <th>99981</th>\n",
       "      <td>1852762498932994604</td>\n",
       "      <td>6.512160</td>\n",
       "      <td>6.512160</td>\n",
       "    </tr>\n",
       "    <tr>\n",
       "      <th>99982</th>\n",
       "      <td>1852794072452878830</td>\n",
       "      <td>5.822542</td>\n",
       "      <td>5.822542</td>\n",
       "    </tr>\n",
       "    <tr>\n",
       "      <th>99983</th>\n",
       "      <td>1852851683553192248</td>\n",
       "      <td>4.576618</td>\n",
       "      <td>4.576618</td>\n",
       "    </tr>\n",
       "    <tr>\n",
       "      <th>99984</th>\n",
       "      <td>1852911439748243039</td>\n",
       "      <td>3.896270</td>\n",
       "      <td>3.896270</td>\n",
       "    </tr>\n",
       "    <tr>\n",
       "      <th>99985</th>\n",
       "      <td>1852953579746845349</td>\n",
       "      <td>5.605585</td>\n",
       "      <td>5.605585</td>\n",
       "    </tr>\n",
       "    <tr>\n",
       "      <th>99986</th>\n",
       "      <td>1853010038886255362</td>\n",
       "      <td>7.232069</td>\n",
       "      <td>7.232069</td>\n",
       "    </tr>\n",
       "    <tr>\n",
       "      <th>99987</th>\n",
       "      <td>1853120311471932115</td>\n",
       "      <td>6.828879</td>\n",
       "      <td>6.828879</td>\n",
       "    </tr>\n",
       "    <tr>\n",
       "      <th>99988</th>\n",
       "      <td>1853176087690593878</td>\n",
       "      <td>6.902706</td>\n",
       "      <td>6.902706</td>\n",
       "    </tr>\n",
       "    <tr>\n",
       "      <th>99989</th>\n",
       "      <td>1853189589065525430</td>\n",
       "      <td>6.168224</td>\n",
       "      <td>6.168224</td>\n",
       "    </tr>\n",
       "    <tr>\n",
       "      <th>99990</th>\n",
       "      <td>1853205533622804369</td>\n",
       "      <td>8.413780</td>\n",
       "      <td>8.413780</td>\n",
       "    </tr>\n",
       "    <tr>\n",
       "      <th>99991</th>\n",
       "      <td>1853244828446693702</td>\n",
       "      <td>5.418938</td>\n",
       "      <td>5.418938</td>\n",
       "    </tr>\n",
       "    <tr>\n",
       "      <th>99992</th>\n",
       "      <td>1853250689903023454</td>\n",
       "      <td>7.384815</td>\n",
       "      <td>7.384815</td>\n",
       "    </tr>\n",
       "    <tr>\n",
       "      <th>99993</th>\n",
       "      <td>1853323797481505258</td>\n",
       "      <td>6.996721</td>\n",
       "      <td>6.996721</td>\n",
       "    </tr>\n",
       "    <tr>\n",
       "      <th>99994</th>\n",
       "      <td>1853334621260916928</td>\n",
       "      <td>5.831955</td>\n",
       "      <td>5.831955</td>\n",
       "    </tr>\n",
       "    <tr>\n",
       "      <th>99995</th>\n",
       "      <td>1853340684336830631</td>\n",
       "      <td>4.730416</td>\n",
       "      <td>4.730416</td>\n",
       "    </tr>\n",
       "    <tr>\n",
       "      <th>99996</th>\n",
       "      <td>1853397690941267593</td>\n",
       "      <td>2.750000</td>\n",
       "      <td>2.750000</td>\n",
       "    </tr>\n",
       "    <tr>\n",
       "      <th>99997</th>\n",
       "      <td>1853439815032428009</td>\n",
       "      <td>2.251629</td>\n",
       "      <td>2.251629</td>\n",
       "    </tr>\n",
       "    <tr>\n",
       "      <th>99998</th>\n",
       "      <td>1853441652812914782</td>\n",
       "      <td>6.488624</td>\n",
       "      <td>6.488624</td>\n",
       "    </tr>\n",
       "    <tr>\n",
       "      <th>99999</th>\n",
       "      <td>1853515154971343882</td>\n",
       "      <td>6.095297</td>\n",
       "      <td>6.095297</td>\n",
       "    </tr>\n",
       "  </tbody>\n",
       "</table>\n",
       "<p>100000 rows × 3 columns</p>\n",
       "</div>"
      ],
      "text/plain": [
       "                         0         1         2\n",
       "0            4362165769991  8.065744  8.065744\n",
       "1           60155522867454  6.686903  6.686903\n",
       "2           73681551316104  7.209689  7.209689\n",
       "3           99308585375234  4.858564  4.858564\n",
       "4          166492329987075  3.277613  3.277613\n",
       "5          289415928808559  7.447779  7.447779\n",
       "6          294479101194672  4.363713  4.363713\n",
       "7          304181386091598  5.979992  5.979992\n",
       "8          311065912768062  4.772084  4.772084\n",
       "9          344822678553909  3.916127  3.916127\n",
       "10         385737988157284  5.558652  5.558652\n",
       "11         419000456632144  6.015457  6.015457\n",
       "12         422036760871806  4.469670  4.469670\n",
       "13         559331500663321  5.032303  5.032303\n",
       "14         590529771934611  6.641098  6.641098\n",
       "15         669524394535472  4.718054  4.718054\n",
       "16         722824259017012  7.679174  7.679174\n",
       "17         824441098919041  7.276819  7.276819\n",
       "18         843851391133938  6.692425  6.692425\n",
       "19         955623041021292  6.933706  6.933706\n",
       "20         968570272442148  6.869339  6.869339\n",
       "21        1008618831507202  5.049130  5.049130\n",
       "22        1026129126682372  4.221928  4.221928\n",
       "23        1102076944295943  6.132166  6.132166\n",
       "24        1106932314213050  5.231957  5.231957\n",
       "25        1144065629066084  4.242885  4.242885\n",
       "26        1218727573500313  4.425236  4.425236\n",
       "27        1265587148472274  5.602101  5.602101\n",
       "28        1277969098034321  4.857981  4.857981\n",
       "29        1307131116745232  3.431624  3.431624\n",
       "...                    ...       ...       ...\n",
       "99970  1852438367843376385  4.615061  4.615061\n",
       "99971  1852458135583916246  5.570451  5.570451\n",
       "99972  1852465295816298017  6.141245  6.141245\n",
       "99973  1852483718084877157  3.773557  3.773557\n",
       "99974  1852504326484538313  5.922782  5.922782\n",
       "99975  1852525887815436701  6.776932  6.776932\n",
       "99976  1852581675694983308  6.912029  6.912029\n",
       "99977  1852595677338201123  4.418296  4.418296\n",
       "99978  1852624659167652964  6.452666  6.452666\n",
       "99979  1852650394402656608  4.725481  4.725481\n",
       "99980  1852721764240905361  5.725340  5.725340\n",
       "99981  1852762498932994604  6.512160  6.512160\n",
       "99982  1852794072452878830  5.822542  5.822542\n",
       "99983  1852851683553192248  4.576618  4.576618\n",
       "99984  1852911439748243039  3.896270  3.896270\n",
       "99985  1852953579746845349  5.605585  5.605585\n",
       "99986  1853010038886255362  7.232069  7.232069\n",
       "99987  1853120311471932115  6.828879  6.828879\n",
       "99988  1853176087690593878  6.902706  6.902706\n",
       "99989  1853189589065525430  6.168224  6.168224\n",
       "99990  1853205533622804369  8.413780  8.413780\n",
       "99991  1853244828446693702  5.418938  5.418938\n",
       "99992  1853250689903023454  7.384815  7.384815\n",
       "99993  1853323797481505258  6.996721  6.996721\n",
       "99994  1853334621260916928  5.831955  5.831955\n",
       "99995  1853340684336830631  4.730416  4.730416\n",
       "99996  1853397690941267593  2.750000  2.750000\n",
       "99997  1853439815032428009  2.251629  2.251629\n",
       "99998  1853441652812914782  6.488624  6.488624\n",
       "99999  1853515154971343882  6.095297  6.095297\n",
       "\n",
       "[100000 rows x 3 columns]"
      ]
     },
     "execution_count": 5,
     "metadata": {},
     "output_type": "execute_result"
    }
   ],
   "source": [
    "Ent"
   ]
  },
  {
   "cell_type": "code",
   "execution_count": 6,
   "metadata": {},
   "outputs": [
    {
     "data": {
      "text/plain": [
       "count    100000.000000\n",
       "mean          5.530564\n",
       "std           1.484527\n",
       "min          -0.000000\n",
       "25%           4.681728\n",
       "50%           5.713277\n",
       "75%           6.581241\n",
       "max          10.097748\n",
       "Name: 1, dtype: float64"
      ]
     },
     "execution_count": 6,
     "metadata": {},
     "output_type": "execute_result"
    }
   ],
   "source": [
    "Ent[1].describe()"
   ]
  },
  {
   "cell_type": "code",
   "execution_count": null,
   "metadata": {
    "collapsed": true,
    "scrolled": true
   },
   "outputs": [],
   "source": [
    "sns.distplot(Ent[1])\n",
    "plt.xlabel('Entropy')\n",
    "plt.ylabel('Percentage')\n",
    "plt.title('Distribution of entropy')\n",
    "#plt.axvline(x=4.681728,color='g',linestyle='--')\n",
    "#plt.axvline(x=6.581241,color='g',linestyle='--')\n",
    "#plt.savefig('entropy.png', format='png', dpi=1200)"
   ]
  },
  {
   "cell_type": "code",
   "execution_count": 7,
   "metadata": {
    "collapsed": true,
    "scrolled": true
   },
   "outputs": [],
   "source": [
    "from sklearn.cluster import KMeans\n",
    "kmeans_ent = KMeans(n_clusters=3, random_state=0).fit(Ent[[1,2]])"
   ]
  },
  {
   "cell_type": "code",
   "execution_count": 8,
   "metadata": {
    "collapsed": true
   },
   "outputs": [],
   "source": [
    "Ent[3]=kmeans_ent.predict(Ent[[1,2]])"
   ]
  },
  {
   "cell_type": "code",
   "execution_count": null,
   "metadata": {
    "collapsed": true,
    "scrolled": true
   },
   "outputs": [],
   "source": [
    "ent2=max(Ent[Ent[3]==2][1])\n",
    "ent1=min(Ent[Ent[3]==2][1])\n",
    "ax=sns.distplot(Ent[1],color='green')\n",
    "kx,ky=ax.lines[0].get_data()\n",
    "plt.axvline(x=ent1,color='blue',linestyle='--')\n",
    "plt.axvline(x=ent2,color='blue',linestyle='--')\n",
    "ax.fill_between(kx,ky,where=(kx<ent1),color='green')\n",
    "ax.fill_between(kx,ky,where=(kx>ent2),color='red')\n",
    "plt.xlabel('Entropy')\n",
    "plt.ylabel('Frequency')\n",
    "plt.title('Grouped entropy')\n",
    "plt.annotate('13.135%',xy=(0.8,0.28))\n",
    "plt.annotate('43.508%',xy=(4.2,0.28))\n",
    "plt.annotate('43.357%',xy=(7.8,0.28))\n",
    "plt.savefig('ent_gp.png',format='png',dpi=1200)\n",
    "plt.show()"
   ]
  },
  {
   "cell_type": "code",
   "execution_count": null,
   "metadata": {
    "collapsed": true
   },
   "outputs": [],
   "source": [
    "for i in range(3):\n",
    "    print(len(Ent[Ent[3]==i])/(len(Ent)))"
   ]
  },
  {
   "cell_type": "markdown",
   "metadata": {},
   "source": [
    "# List of people valide"
   ]
  },
  {
   "cell_type": "code",
   "execution_count": 9,
   "metadata": {
    "collapsed": true,
    "scrolled": false
   },
   "outputs": [],
   "source": [
    "cur.execute('''SELECT a.numr_cart,a.spatiotemporel_entropie,COUNT(b.numr_cart) AS count,COUNT(DISTINCT b.cod_tlb_arrt_sttn) AS counts\n",
    "            FROM user_spatiotemporel_stats a, stif_validation_unitaire b\n",
    "            WHERE a.numr_cart=b.numr_cart\n",
    "            GROUP BY 1,2\n",
    "            ORDER BY 2''')\n",
    "list_num=cur.fetchall()\n",
    "list_num=pd.DataFrame(list_num)"
   ]
  },
  {
   "cell_type": "code",
   "execution_count": 10,
   "metadata": {
    "collapsed": true,
    "scrolled": true
   },
   "outputs": [],
   "source": [
    "list_num=list_num[list_num[1]!=-0.000000].reset_index(drop=True)"
   ]
  },
  {
   "cell_type": "code",
   "execution_count": 11,
   "metadata": {
    "collapsed": true,
    "scrolled": true
   },
   "outputs": [],
   "source": [
    "list_num=pd.merge(list_num,Ent,on=0)"
   ]
  },
  {
   "cell_type": "code",
   "execution_count": 12,
   "metadata": {
    "scrolled": true
   },
   "outputs": [
    {
     "data": {
      "text/html": [
       "<div>\n",
       "<style>\n",
       "    .dataframe thead tr:only-child th {\n",
       "        text-align: right;\n",
       "    }\n",
       "\n",
       "    .dataframe thead th {\n",
       "        text-align: left;\n",
       "    }\n",
       "\n",
       "    .dataframe tbody tr th {\n",
       "        vertical-align: top;\n",
       "    }\n",
       "</style>\n",
       "<table border=\"1\" class=\"dataframe\">\n",
       "  <thead>\n",
       "    <tr style=\"text-align: right;\">\n",
       "      <th></th>\n",
       "      <th>0</th>\n",
       "      <th>1_x</th>\n",
       "      <th>2_x</th>\n",
       "      <th>3_x</th>\n",
       "      <th>1_y</th>\n",
       "      <th>2_y</th>\n",
       "      <th>3_y</th>\n",
       "    </tr>\n",
       "  </thead>\n",
       "  <tbody>\n",
       "    <tr>\n",
       "      <th>0</th>\n",
       "      <td>1121724605935971953</td>\n",
       "      <td>0.200622</td>\n",
       "      <td>32</td>\n",
       "      <td>2</td>\n",
       "      <td>0.200622</td>\n",
       "      <td>0.200622</td>\n",
       "      <td>0</td>\n",
       "    </tr>\n",
       "    <tr>\n",
       "      <th>1</th>\n",
       "      <td>1836155104747366812</td>\n",
       "      <td>0.413817</td>\n",
       "      <td>12</td>\n",
       "      <td>1</td>\n",
       "      <td>0.413817</td>\n",
       "      <td>0.413817</td>\n",
       "      <td>0</td>\n",
       "    </tr>\n",
       "    <tr>\n",
       "      <th>2</th>\n",
       "      <td>15531654811174045</td>\n",
       "      <td>0.543564</td>\n",
       "      <td>8</td>\n",
       "      <td>2</td>\n",
       "      <td>0.543564</td>\n",
       "      <td>0.543564</td>\n",
       "      <td>0</td>\n",
       "    </tr>\n",
       "    <tr>\n",
       "      <th>3</th>\n",
       "      <td>1562146471669370192</td>\n",
       "      <td>0.644327</td>\n",
       "      <td>62</td>\n",
       "      <td>1</td>\n",
       "      <td>0.644327</td>\n",
       "      <td>0.644327</td>\n",
       "      <td>0</td>\n",
       "    </tr>\n",
       "    <tr>\n",
       "      <th>4</th>\n",
       "      <td>1387099253037193529</td>\n",
       "      <td>0.650022</td>\n",
       "      <td>6</td>\n",
       "      <td>1</td>\n",
       "      <td>0.650022</td>\n",
       "      <td>0.650022</td>\n",
       "      <td>0</td>\n",
       "    </tr>\n",
       "    <tr>\n",
       "      <th>5</th>\n",
       "      <td>1639312495467408742</td>\n",
       "      <td>0.721928</td>\n",
       "      <td>5</td>\n",
       "      <td>2</td>\n",
       "      <td>0.721928</td>\n",
       "      <td>0.721928</td>\n",
       "      <td>0</td>\n",
       "    </tr>\n",
       "    <tr>\n",
       "      <th>6</th>\n",
       "      <td>1712265640942072664</td>\n",
       "      <td>0.721928</td>\n",
       "      <td>5</td>\n",
       "      <td>1</td>\n",
       "      <td>0.721928</td>\n",
       "      <td>0.721928</td>\n",
       "      <td>0</td>\n",
       "    </tr>\n",
       "    <tr>\n",
       "      <th>7</th>\n",
       "      <td>114652688218038015</td>\n",
       "      <td>0.787341</td>\n",
       "      <td>56</td>\n",
       "      <td>2</td>\n",
       "      <td>0.787341</td>\n",
       "      <td>0.787341</td>\n",
       "      <td>0</td>\n",
       "    </tr>\n",
       "    <tr>\n",
       "      <th>8</th>\n",
       "      <td>503998609768509820</td>\n",
       "      <td>0.811278</td>\n",
       "      <td>4</td>\n",
       "      <td>1</td>\n",
       "      <td>0.811278</td>\n",
       "      <td>0.811278</td>\n",
       "      <td>0</td>\n",
       "    </tr>\n",
       "    <tr>\n",
       "      <th>9</th>\n",
       "      <td>1369502566583485156</td>\n",
       "      <td>0.811278</td>\n",
       "      <td>4</td>\n",
       "      <td>2</td>\n",
       "      <td>0.811278</td>\n",
       "      <td>0.811278</td>\n",
       "      <td>0</td>\n",
       "    </tr>\n",
       "    <tr>\n",
       "      <th>10</th>\n",
       "      <td>1633333229926736698</td>\n",
       "      <td>0.811278</td>\n",
       "      <td>4</td>\n",
       "      <td>2</td>\n",
       "      <td>0.811278</td>\n",
       "      <td>0.811278</td>\n",
       "      <td>0</td>\n",
       "    </tr>\n",
       "    <tr>\n",
       "      <th>11</th>\n",
       "      <td>1816899287110342523</td>\n",
       "      <td>0.811278</td>\n",
       "      <td>4</td>\n",
       "      <td>1</td>\n",
       "      <td>0.811278</td>\n",
       "      <td>0.811278</td>\n",
       "      <td>0</td>\n",
       "    </tr>\n",
       "    <tr>\n",
       "      <th>12</th>\n",
       "      <td>1834541433630295132</td>\n",
       "      <td>0.811278</td>\n",
       "      <td>4</td>\n",
       "      <td>1</td>\n",
       "      <td>0.811278</td>\n",
       "      <td>0.811278</td>\n",
       "      <td>0</td>\n",
       "    </tr>\n",
       "    <tr>\n",
       "      <th>13</th>\n",
       "      <td>1759126416691244786</td>\n",
       "      <td>0.863121</td>\n",
       "      <td>7</td>\n",
       "      <td>2</td>\n",
       "      <td>0.863121</td>\n",
       "      <td>0.863121</td>\n",
       "      <td>0</td>\n",
       "    </tr>\n",
       "    <tr>\n",
       "      <th>14</th>\n",
       "      <td>134534950979542828</td>\n",
       "      <td>0.885129</td>\n",
       "      <td>37</td>\n",
       "      <td>5</td>\n",
       "      <td>0.885129</td>\n",
       "      <td>0.885129</td>\n",
       "      <td>0</td>\n",
       "    </tr>\n",
       "    <tr>\n",
       "      <th>15</th>\n",
       "      <td>615875202284118414</td>\n",
       "      <td>0.896937</td>\n",
       "      <td>44</td>\n",
       "      <td>2</td>\n",
       "      <td>0.896937</td>\n",
       "      <td>0.896937</td>\n",
       "      <td>0</td>\n",
       "    </tr>\n",
       "    <tr>\n",
       "      <th>16</th>\n",
       "      <td>2454520295342487</td>\n",
       "      <td>0.918296</td>\n",
       "      <td>3</td>\n",
       "      <td>2</td>\n",
       "      <td>0.918296</td>\n",
       "      <td>0.918296</td>\n",
       "      <td>0</td>\n",
       "    </tr>\n",
       "    <tr>\n",
       "      <th>17</th>\n",
       "      <td>34101047237354452</td>\n",
       "      <td>0.918296</td>\n",
       "      <td>3</td>\n",
       "      <td>2</td>\n",
       "      <td>0.918296</td>\n",
       "      <td>0.918296</td>\n",
       "      <td>0</td>\n",
       "    </tr>\n",
       "    <tr>\n",
       "      <th>18</th>\n",
       "      <td>62547621011192014</td>\n",
       "      <td>0.918296</td>\n",
       "      <td>3</td>\n",
       "      <td>2</td>\n",
       "      <td>0.918296</td>\n",
       "      <td>0.918296</td>\n",
       "      <td>0</td>\n",
       "    </tr>\n",
       "    <tr>\n",
       "      <th>19</th>\n",
       "      <td>232403611853505580</td>\n",
       "      <td>0.918296</td>\n",
       "      <td>3</td>\n",
       "      <td>1</td>\n",
       "      <td>0.918296</td>\n",
       "      <td>0.918296</td>\n",
       "      <td>0</td>\n",
       "    </tr>\n",
       "    <tr>\n",
       "      <th>20</th>\n",
       "      <td>283312133702128027</td>\n",
       "      <td>0.918296</td>\n",
       "      <td>3</td>\n",
       "      <td>2</td>\n",
       "      <td>0.918296</td>\n",
       "      <td>0.918296</td>\n",
       "      <td>0</td>\n",
       "    </tr>\n",
       "    <tr>\n",
       "      <th>21</th>\n",
       "      <td>293252168121362179</td>\n",
       "      <td>0.918296</td>\n",
       "      <td>3</td>\n",
       "      <td>2</td>\n",
       "      <td>0.918296</td>\n",
       "      <td>0.918296</td>\n",
       "      <td>0</td>\n",
       "    </tr>\n",
       "    <tr>\n",
       "      <th>22</th>\n",
       "      <td>364159398889935218</td>\n",
       "      <td>0.918296</td>\n",
       "      <td>3</td>\n",
       "      <td>2</td>\n",
       "      <td>0.918296</td>\n",
       "      <td>0.918296</td>\n",
       "      <td>0</td>\n",
       "    </tr>\n",
       "    <tr>\n",
       "      <th>23</th>\n",
       "      <td>366151433321919436</td>\n",
       "      <td>0.918296</td>\n",
       "      <td>3</td>\n",
       "      <td>2</td>\n",
       "      <td>0.918296</td>\n",
       "      <td>0.918296</td>\n",
       "      <td>0</td>\n",
       "    </tr>\n",
       "    <tr>\n",
       "      <th>24</th>\n",
       "      <td>370397272133254968</td>\n",
       "      <td>0.918296</td>\n",
       "      <td>3</td>\n",
       "      <td>2</td>\n",
       "      <td>0.918296</td>\n",
       "      <td>0.918296</td>\n",
       "      <td>0</td>\n",
       "    </tr>\n",
       "    <tr>\n",
       "      <th>25</th>\n",
       "      <td>413963456835273553</td>\n",
       "      <td>0.918296</td>\n",
       "      <td>3</td>\n",
       "      <td>2</td>\n",
       "      <td>0.918296</td>\n",
       "      <td>0.918296</td>\n",
       "      <td>0</td>\n",
       "    </tr>\n",
       "    <tr>\n",
       "      <th>26</th>\n",
       "      <td>440510065224006806</td>\n",
       "      <td>0.918296</td>\n",
       "      <td>3</td>\n",
       "      <td>2</td>\n",
       "      <td>0.918296</td>\n",
       "      <td>0.918296</td>\n",
       "      <td>0</td>\n",
       "    </tr>\n",
       "    <tr>\n",
       "      <th>27</th>\n",
       "      <td>514619864977340568</td>\n",
       "      <td>0.918296</td>\n",
       "      <td>3</td>\n",
       "      <td>1</td>\n",
       "      <td>0.918296</td>\n",
       "      <td>0.918296</td>\n",
       "      <td>0</td>\n",
       "    </tr>\n",
       "    <tr>\n",
       "      <th>28</th>\n",
       "      <td>557104986278265582</td>\n",
       "      <td>0.918296</td>\n",
       "      <td>3</td>\n",
       "      <td>1</td>\n",
       "      <td>0.918296</td>\n",
       "      <td>0.918296</td>\n",
       "      <td>0</td>\n",
       "    </tr>\n",
       "    <tr>\n",
       "      <th>29</th>\n",
       "      <td>601014619314860642</td>\n",
       "      <td>0.918296</td>\n",
       "      <td>3</td>\n",
       "      <td>2</td>\n",
       "      <td>0.918296</td>\n",
       "      <td>0.918296</td>\n",
       "      <td>0</td>\n",
       "    </tr>\n",
       "    <tr>\n",
       "      <th>...</th>\n",
       "      <td>...</td>\n",
       "      <td>...</td>\n",
       "      <td>...</td>\n",
       "      <td>...</td>\n",
       "      <td>...</td>\n",
       "      <td>...</td>\n",
       "      <td>...</td>\n",
       "    </tr>\n",
       "    <tr>\n",
       "      <th>99153</th>\n",
       "      <td>949934148548230611</td>\n",
       "      <td>9.101469</td>\n",
       "      <td>780</td>\n",
       "      <td>160</td>\n",
       "      <td>9.101469</td>\n",
       "      <td>9.101469</td>\n",
       "      <td>1</td>\n",
       "    </tr>\n",
       "    <tr>\n",
       "      <th>99154</th>\n",
       "      <td>1010098386437832222</td>\n",
       "      <td>9.108538</td>\n",
       "      <td>721</td>\n",
       "      <td>142</td>\n",
       "      <td>9.108538</td>\n",
       "      <td>9.108538</td>\n",
       "      <td>1</td>\n",
       "    </tr>\n",
       "    <tr>\n",
       "      <th>99155</th>\n",
       "      <td>748133872864464935</td>\n",
       "      <td>9.111067</td>\n",
       "      <td>788</td>\n",
       "      <td>207</td>\n",
       "      <td>9.111067</td>\n",
       "      <td>9.111067</td>\n",
       "      <td>1</td>\n",
       "    </tr>\n",
       "    <tr>\n",
       "      <th>99156</th>\n",
       "      <td>1738551396976095882</td>\n",
       "      <td>9.112294</td>\n",
       "      <td>779</td>\n",
       "      <td>164</td>\n",
       "      <td>9.112294</td>\n",
       "      <td>9.112294</td>\n",
       "      <td>1</td>\n",
       "    </tr>\n",
       "    <tr>\n",
       "      <th>99157</th>\n",
       "      <td>305758722825056866</td>\n",
       "      <td>9.116630</td>\n",
       "      <td>950</td>\n",
       "      <td>207</td>\n",
       "      <td>9.116630</td>\n",
       "      <td>9.116630</td>\n",
       "      <td>1</td>\n",
       "    </tr>\n",
       "    <tr>\n",
       "      <th>99158</th>\n",
       "      <td>1676725078415264581</td>\n",
       "      <td>9.132151</td>\n",
       "      <td>871</td>\n",
       "      <td>182</td>\n",
       "      <td>9.132151</td>\n",
       "      <td>9.132151</td>\n",
       "      <td>1</td>\n",
       "    </tr>\n",
       "    <tr>\n",
       "      <th>99159</th>\n",
       "      <td>925816672681314445</td>\n",
       "      <td>9.146552</td>\n",
       "      <td>984</td>\n",
       "      <td>203</td>\n",
       "      <td>9.146552</td>\n",
       "      <td>9.146552</td>\n",
       "      <td>1</td>\n",
       "    </tr>\n",
       "    <tr>\n",
       "      <th>99160</th>\n",
       "      <td>1200317887533978960</td>\n",
       "      <td>9.146802</td>\n",
       "      <td>729</td>\n",
       "      <td>252</td>\n",
       "      <td>9.146802</td>\n",
       "      <td>9.146802</td>\n",
       "      <td>1</td>\n",
       "    </tr>\n",
       "    <tr>\n",
       "      <th>99161</th>\n",
       "      <td>1073120459216286353</td>\n",
       "      <td>9.153948</td>\n",
       "      <td>860</td>\n",
       "      <td>145</td>\n",
       "      <td>9.153948</td>\n",
       "      <td>9.153948</td>\n",
       "      <td>1</td>\n",
       "    </tr>\n",
       "    <tr>\n",
       "      <th>99162</th>\n",
       "      <td>954411945418601676</td>\n",
       "      <td>9.157225</td>\n",
       "      <td>676</td>\n",
       "      <td>296</td>\n",
       "      <td>9.157225</td>\n",
       "      <td>9.157225</td>\n",
       "      <td>1</td>\n",
       "    </tr>\n",
       "    <tr>\n",
       "      <th>99163</th>\n",
       "      <td>194818259816907980</td>\n",
       "      <td>9.196530</td>\n",
       "      <td>860</td>\n",
       "      <td>199</td>\n",
       "      <td>9.196530</td>\n",
       "      <td>9.196530</td>\n",
       "      <td>1</td>\n",
       "    </tr>\n",
       "    <tr>\n",
       "      <th>99164</th>\n",
       "      <td>978033794399492030</td>\n",
       "      <td>9.198770</td>\n",
       "      <td>888</td>\n",
       "      <td>141</td>\n",
       "      <td>9.198770</td>\n",
       "      <td>9.198770</td>\n",
       "      <td>1</td>\n",
       "    </tr>\n",
       "    <tr>\n",
       "      <th>99165</th>\n",
       "      <td>5593118732081524</td>\n",
       "      <td>9.213883</td>\n",
       "      <td>1280</td>\n",
       "      <td>143</td>\n",
       "      <td>9.213883</td>\n",
       "      <td>9.213883</td>\n",
       "      <td>1</td>\n",
       "    </tr>\n",
       "    <tr>\n",
       "      <th>99166</th>\n",
       "      <td>368067171919752585</td>\n",
       "      <td>9.234423</td>\n",
       "      <td>796</td>\n",
       "      <td>211</td>\n",
       "      <td>9.234423</td>\n",
       "      <td>9.234423</td>\n",
       "      <td>1</td>\n",
       "    </tr>\n",
       "    <tr>\n",
       "      <th>99167</th>\n",
       "      <td>168104943915809869</td>\n",
       "      <td>9.265021</td>\n",
       "      <td>1367</td>\n",
       "      <td>129</td>\n",
       "      <td>9.265021</td>\n",
       "      <td>9.265021</td>\n",
       "      <td>1</td>\n",
       "    </tr>\n",
       "    <tr>\n",
       "      <th>99168</th>\n",
       "      <td>166298673753051508</td>\n",
       "      <td>9.266113</td>\n",
       "      <td>1065</td>\n",
       "      <td>201</td>\n",
       "      <td>9.266113</td>\n",
       "      <td>9.266113</td>\n",
       "      <td>1</td>\n",
       "    </tr>\n",
       "    <tr>\n",
       "      <th>99169</th>\n",
       "      <td>1643500381585541208</td>\n",
       "      <td>9.267674</td>\n",
       "      <td>958</td>\n",
       "      <td>221</td>\n",
       "      <td>9.267674</td>\n",
       "      <td>9.267674</td>\n",
       "      <td>1</td>\n",
       "    </tr>\n",
       "    <tr>\n",
       "      <th>99170</th>\n",
       "      <td>443505185519981994</td>\n",
       "      <td>9.269632</td>\n",
       "      <td>874</td>\n",
       "      <td>248</td>\n",
       "      <td>9.269632</td>\n",
       "      <td>9.269632</td>\n",
       "      <td>1</td>\n",
       "    </tr>\n",
       "    <tr>\n",
       "      <th>99171</th>\n",
       "      <td>999128449435303647</td>\n",
       "      <td>9.289430</td>\n",
       "      <td>801</td>\n",
       "      <td>194</td>\n",
       "      <td>9.289430</td>\n",
       "      <td>9.289430</td>\n",
       "      <td>1</td>\n",
       "    </tr>\n",
       "    <tr>\n",
       "      <th>99172</th>\n",
       "      <td>1026397966168516633</td>\n",
       "      <td>9.332659</td>\n",
       "      <td>817</td>\n",
       "      <td>237</td>\n",
       "      <td>9.332659</td>\n",
       "      <td>9.332659</td>\n",
       "      <td>1</td>\n",
       "    </tr>\n",
       "    <tr>\n",
       "      <th>99173</th>\n",
       "      <td>1377982335688689565</td>\n",
       "      <td>9.373539</td>\n",
       "      <td>1142</td>\n",
       "      <td>187</td>\n",
       "      <td>9.373539</td>\n",
       "      <td>9.373539</td>\n",
       "      <td>1</td>\n",
       "    </tr>\n",
       "    <tr>\n",
       "      <th>99174</th>\n",
       "      <td>1736613181414489334</td>\n",
       "      <td>9.374464</td>\n",
       "      <td>829</td>\n",
       "      <td>344</td>\n",
       "      <td>9.374464</td>\n",
       "      <td>9.374464</td>\n",
       "      <td>1</td>\n",
       "    </tr>\n",
       "    <tr>\n",
       "      <th>99175</th>\n",
       "      <td>879781958996938885</td>\n",
       "      <td>9.388124</td>\n",
       "      <td>1394</td>\n",
       "      <td>229</td>\n",
       "      <td>9.388124</td>\n",
       "      <td>9.388124</td>\n",
       "      <td>1</td>\n",
       "    </tr>\n",
       "    <tr>\n",
       "      <th>99176</th>\n",
       "      <td>302409170562390752</td>\n",
       "      <td>9.393473</td>\n",
       "      <td>1488</td>\n",
       "      <td>168</td>\n",
       "      <td>9.393473</td>\n",
       "      <td>9.393473</td>\n",
       "      <td>1</td>\n",
       "    </tr>\n",
       "    <tr>\n",
       "      <th>99177</th>\n",
       "      <td>1175299551348154379</td>\n",
       "      <td>9.419773</td>\n",
       "      <td>1219</td>\n",
       "      <td>174</td>\n",
       "      <td>9.419773</td>\n",
       "      <td>9.419773</td>\n",
       "      <td>1</td>\n",
       "    </tr>\n",
       "    <tr>\n",
       "      <th>99178</th>\n",
       "      <td>290118384607574699</td>\n",
       "      <td>9.457711</td>\n",
       "      <td>1087</td>\n",
       "      <td>168</td>\n",
       "      <td>9.457711</td>\n",
       "      <td>9.457711</td>\n",
       "      <td>1</td>\n",
       "    </tr>\n",
       "    <tr>\n",
       "      <th>99179</th>\n",
       "      <td>1728634916665831610</td>\n",
       "      <td>9.465932</td>\n",
       "      <td>858</td>\n",
       "      <td>312</td>\n",
       "      <td>9.465932</td>\n",
       "      <td>9.465932</td>\n",
       "      <td>1</td>\n",
       "    </tr>\n",
       "    <tr>\n",
       "      <th>99180</th>\n",
       "      <td>383536648863833256</td>\n",
       "      <td>9.550714</td>\n",
       "      <td>956</td>\n",
       "      <td>274</td>\n",
       "      <td>9.550714</td>\n",
       "      <td>9.550714</td>\n",
       "      <td>1</td>\n",
       "    </tr>\n",
       "    <tr>\n",
       "      <th>99181</th>\n",
       "      <td>1668466617255807873</td>\n",
       "      <td>9.690953</td>\n",
       "      <td>1279</td>\n",
       "      <td>206</td>\n",
       "      <td>9.690953</td>\n",
       "      <td>9.690953</td>\n",
       "      <td>1</td>\n",
       "    </tr>\n",
       "    <tr>\n",
       "      <th>99182</th>\n",
       "      <td>843007282088889431</td>\n",
       "      <td>10.097748</td>\n",
       "      <td>1305</td>\n",
       "      <td>405</td>\n",
       "      <td>10.097748</td>\n",
       "      <td>10.097748</td>\n",
       "      <td>1</td>\n",
       "    </tr>\n",
       "  </tbody>\n",
       "</table>\n",
       "<p>99183 rows × 7 columns</p>\n",
       "</div>"
      ],
      "text/plain": [
       "                         0        1_x   2_x  3_x        1_y        2_y  3_y\n",
       "0      1121724605935971953   0.200622    32    2   0.200622   0.200622    0\n",
       "1      1836155104747366812   0.413817    12    1   0.413817   0.413817    0\n",
       "2        15531654811174045   0.543564     8    2   0.543564   0.543564    0\n",
       "3      1562146471669370192   0.644327    62    1   0.644327   0.644327    0\n",
       "4      1387099253037193529   0.650022     6    1   0.650022   0.650022    0\n",
       "5      1639312495467408742   0.721928     5    2   0.721928   0.721928    0\n",
       "6      1712265640942072664   0.721928     5    1   0.721928   0.721928    0\n",
       "7       114652688218038015   0.787341    56    2   0.787341   0.787341    0\n",
       "8       503998609768509820   0.811278     4    1   0.811278   0.811278    0\n",
       "9      1369502566583485156   0.811278     4    2   0.811278   0.811278    0\n",
       "10     1633333229926736698   0.811278     4    2   0.811278   0.811278    0\n",
       "11     1816899287110342523   0.811278     4    1   0.811278   0.811278    0\n",
       "12     1834541433630295132   0.811278     4    1   0.811278   0.811278    0\n",
       "13     1759126416691244786   0.863121     7    2   0.863121   0.863121    0\n",
       "14      134534950979542828   0.885129    37    5   0.885129   0.885129    0\n",
       "15      615875202284118414   0.896937    44    2   0.896937   0.896937    0\n",
       "16        2454520295342487   0.918296     3    2   0.918296   0.918296    0\n",
       "17       34101047237354452   0.918296     3    2   0.918296   0.918296    0\n",
       "18       62547621011192014   0.918296     3    2   0.918296   0.918296    0\n",
       "19      232403611853505580   0.918296     3    1   0.918296   0.918296    0\n",
       "20      283312133702128027   0.918296     3    2   0.918296   0.918296    0\n",
       "21      293252168121362179   0.918296     3    2   0.918296   0.918296    0\n",
       "22      364159398889935218   0.918296     3    2   0.918296   0.918296    0\n",
       "23      366151433321919436   0.918296     3    2   0.918296   0.918296    0\n",
       "24      370397272133254968   0.918296     3    2   0.918296   0.918296    0\n",
       "25      413963456835273553   0.918296     3    2   0.918296   0.918296    0\n",
       "26      440510065224006806   0.918296     3    2   0.918296   0.918296    0\n",
       "27      514619864977340568   0.918296     3    1   0.918296   0.918296    0\n",
       "28      557104986278265582   0.918296     3    1   0.918296   0.918296    0\n",
       "29      601014619314860642   0.918296     3    2   0.918296   0.918296    0\n",
       "...                    ...        ...   ...  ...        ...        ...  ...\n",
       "99153   949934148548230611   9.101469   780  160   9.101469   9.101469    1\n",
       "99154  1010098386437832222   9.108538   721  142   9.108538   9.108538    1\n",
       "99155   748133872864464935   9.111067   788  207   9.111067   9.111067    1\n",
       "99156  1738551396976095882   9.112294   779  164   9.112294   9.112294    1\n",
       "99157   305758722825056866   9.116630   950  207   9.116630   9.116630    1\n",
       "99158  1676725078415264581   9.132151   871  182   9.132151   9.132151    1\n",
       "99159   925816672681314445   9.146552   984  203   9.146552   9.146552    1\n",
       "99160  1200317887533978960   9.146802   729  252   9.146802   9.146802    1\n",
       "99161  1073120459216286353   9.153948   860  145   9.153948   9.153948    1\n",
       "99162   954411945418601676   9.157225   676  296   9.157225   9.157225    1\n",
       "99163   194818259816907980   9.196530   860  199   9.196530   9.196530    1\n",
       "99164   978033794399492030   9.198770   888  141   9.198770   9.198770    1\n",
       "99165     5593118732081524   9.213883  1280  143   9.213883   9.213883    1\n",
       "99166   368067171919752585   9.234423   796  211   9.234423   9.234423    1\n",
       "99167   168104943915809869   9.265021  1367  129   9.265021   9.265021    1\n",
       "99168   166298673753051508   9.266113  1065  201   9.266113   9.266113    1\n",
       "99169  1643500381585541208   9.267674   958  221   9.267674   9.267674    1\n",
       "99170   443505185519981994   9.269632   874  248   9.269632   9.269632    1\n",
       "99171   999128449435303647   9.289430   801  194   9.289430   9.289430    1\n",
       "99172  1026397966168516633   9.332659   817  237   9.332659   9.332659    1\n",
       "99173  1377982335688689565   9.373539  1142  187   9.373539   9.373539    1\n",
       "99174  1736613181414489334   9.374464   829  344   9.374464   9.374464    1\n",
       "99175   879781958996938885   9.388124  1394  229   9.388124   9.388124    1\n",
       "99176   302409170562390752   9.393473  1488  168   9.393473   9.393473    1\n",
       "99177  1175299551348154379   9.419773  1219  174   9.419773   9.419773    1\n",
       "99178   290118384607574699   9.457711  1087  168   9.457711   9.457711    1\n",
       "99179  1728634916665831610   9.465932   858  312   9.465932   9.465932    1\n",
       "99180   383536648863833256   9.550714   956  274   9.550714   9.550714    1\n",
       "99181  1668466617255807873   9.690953  1279  206   9.690953   9.690953    1\n",
       "99182   843007282088889431  10.097748  1305  405  10.097748  10.097748    1\n",
       "\n",
       "[99183 rows x 7 columns]"
      ]
     },
     "execution_count": 12,
     "metadata": {},
     "output_type": "execute_result"
    }
   ],
   "source": [
    "list_num"
   ]
  },
  {
   "cell_type": "code",
   "execution_count": null,
   "metadata": {
    "collapsed": true,
    "scrolled": true
   },
   "outputs": [],
   "source": [
    "i=list_num[(list_num['2_x']>20)&(list_num['1_x']>3.5)&(list_num['3_y']==0)][0].tolist()"
   ]
  },
  {
   "cell_type": "code",
   "execution_count": null,
   "metadata": {
    "collapsed": true,
    "scrolled": true
   },
   "outputs": [],
   "source": [
    "list_num[(list_num[0].isin(i))&(list_num['2_x']>200)&(list_num['3_x']>5)]"
   ]
  },
  {
   "cell_type": "markdown",
   "metadata": {},
   "source": [
    "# Time interval"
   ]
  },
  {
   "cell_type": "code",
   "execution_count": null,
   "metadata": {
    "collapsed": true
   },
   "outputs": [],
   "source": [
    "cur.execute('''SELECT numr_cart,dat_vald,heur_vald,cod_tlb_arrt_sttn,w.r\n",
    "            FROM(\n",
    "            SELECT numr_cart,dat_vald,heur_vald,cod_tlb_arrt_sttn,ROW_NUMBER() OVER (PARTITION BY numr_cart,dat_vald ORDER BY heur_vald) AS r\n",
    "            FROM stif_validation_unitaire\n",
    "            WHERE numr_cart = %s\n",
    "            ) AS w\n",
    "            ''',\n",
    "            ['673006919441222358'])\n",
    "record=cur.fetchall()\n",
    "record=pd.DataFrame(record)"
   ]
  },
  {
   "cell_type": "code",
   "execution_count": null,
   "metadata": {
    "collapsed": true,
    "scrolled": true
   },
   "outputs": [],
   "source": [
    "record[5]=record[1].apply(lambda x: x.isoweekday())\n",
    "record=record[[0,1,5,2,3,4]]"
   ]
  },
  {
   "cell_type": "code",
   "execution_count": null,
   "metadata": {
    "collapsed": true,
    "scrolled": true
   },
   "outputs": [],
   "source": [
    "record[6]=record[2].apply(lambda x: 3 if x.hour<6 else (0 if x.hour<11 else (1 if x.hour<16 else (2 if x.hour<21 else 3))))"
   ]
  },
  {
   "cell_type": "code",
   "execution_count": null,
   "metadata": {
    "collapsed": true
   },
   "outputs": [],
   "source": []
  },
  {
   "cell_type": "code",
   "execution_count": null,
   "metadata": {
    "collapsed": true
   },
   "outputs": [],
   "source": [
    "record_weekend=record[record[5].isin([6,7])].reset_index(drop=True)\n",
    "record_weekday=record[-record[5].isin([6,7])].reset_index(drop=True)"
   ]
  },
  {
   "cell_type": "code",
   "execution_count": null,
   "metadata": {
    "collapsed": true,
    "scrolled": true
   },
   "outputs": [],
   "source": [
    "plt.scatter(x=record_weekday[2].tolist(),y=record_weekday[2].tolist(),s=5,c='blue')\n",
    "plt.title('Time records')\n",
    "#plt.savefig('hours.png',format='png',dpi=1200)"
   ]
  },
  {
   "cell_type": "code",
   "execution_count": null,
   "metadata": {
    "collapsed": true,
    "scrolled": false
   },
   "outputs": [],
   "source": [
    "from sklearn.cluster import KMeans\n",
    "from sklearn.metrics import silhouette_score\n",
    "X=record_weekday[2].apply(lambda x: \n",
    "                x.hour * 3600 + x.minute * 60 + x.second).values.reshape(-1,1)\n",
    "silhouette=[]\n",
    "K=range(2,13)\n",
    "for i in K:\n",
    "    kmeans = KMeans(n_clusters=i, random_state=0).fit(X)\n",
    "    Z=kmeans.predict(X)\n",
    "    silhouette.append(silhouette_score(X,Z))\n",
    "    \n",
    "plt.plot(K, silhouette, 'bx-')\n",
    "plt.xlabel('k')\n",
    "plt.ylabel('Silhouette score')\n",
    "plt.title('The Silhouette score showing the optimal k')\n",
    "#plt.savefig('silhouette.png',format='png',dpi=1200)\n",
    "plt.show()"
   ]
  },
  {
   "cell_type": "code",
   "execution_count": null,
   "metadata": {
    "collapsed": true
   },
   "outputs": [],
   "source": [
    "np.argmax(silhouette)+2"
   ]
  },
  {
   "cell_type": "code",
   "execution_count": null,
   "metadata": {
    "collapsed": true,
    "scrolled": false
   },
   "outputs": [],
   "source": [
    "from sklearn.cluster import KMeans\n",
    "from sklearn import metrics\n",
    "from scipy.spatial.distance import cdist\n",
    "X=record_weekday[2].apply(lambda x: \n",
    "                    x.hour * 3600 + x.minute * 60 + x.second).values.reshape(-1,1)\n",
    "distortions=[]\n",
    "K=range(2,13)\n",
    "for k in K:\n",
    "    kmeans=KMeans(n_clusters=k).fit(X)\n",
    "    kmeans.fit(X)\n",
    "    distortions.append(sum(np.min(cdist(X, kmeans.cluster_centers_, 'euclidean'), axis=1)) / X.shape[0])\n",
    "    \n",
    "plt.plot(K, distortions, 'bx-')\n",
    "plt.plot(3,distortions[1],markersize=500,color='red')\n",
    "plt.xlabel('k')\n",
    "plt.ylabel('Distortion')\n",
    "plt.title('The Elbow Method showing the optimal k')\n",
    "#plt.savefig('Elbow.png',format='png',dpi=1200)\n",
    "plt.show()"
   ]
  },
  {
   "cell_type": "code",
   "execution_count": null,
   "metadata": {
    "collapsed": true,
    "scrolled": true
   },
   "outputs": [],
   "source": [
    "from sklearn.cluster import KMeans\n",
    "kmeans_weekday = KMeans(n_clusters=9, random_state=0).fit(record_weekday[2].apply(lambda x: \n",
    "                x.hour * 3600 + x.minute * 60 + x.second).values.reshape(-1,1))"
   ]
  },
  {
   "cell_type": "code",
   "execution_count": null,
   "metadata": {
    "collapsed": true,
    "scrolled": false
   },
   "outputs": [],
   "source": [
    "Z_weekday=kmeans_weekday.predict(record_weekday[2].apply(lambda x: \n",
    "                x.hour * 3600 + x.minute * 60 + x.second).values.reshape(-1,1))\n",
    "Z_weekday"
   ]
  },
  {
   "cell_type": "code",
   "execution_count": null,
   "metadata": {
    "collapsed": true
   },
   "outputs": [],
   "source": [
    "record_weekday[6]=Z_weekday"
   ]
  },
  {
   "cell_type": "code",
   "execution_count": null,
   "metadata": {
    "collapsed": true,
    "scrolled": true
   },
   "outputs": [],
   "source": [
    "record_weekday=record_weekday[[0,1,5,2,6,3,4]]\n",
    "#record_weekday.columns=['num_cart','dat','weekday','heur','time_interval','cod_arrt','order']"
   ]
  },
  {
   "cell_type": "code",
   "execution_count": null,
   "metadata": {
    "collapsed": true,
    "scrolled": true
   },
   "outputs": [],
   "source": [
    "plt.scatter(x=record_weekday[2].tolist(),y=record_weekday[2].tolist(),s=5,c=record_weekday[6])\n",
    "plt.title('Time records')\n",
    "#plt.savefig('hours_dis.png',format='png',dpi=1200)"
   ]
  },
  {
   "cell_type": "code",
   "execution_count": null,
   "metadata": {
    "collapsed": true
   },
   "outputs": [],
   "source": [
    "#select a best discretization by minimizing the entropy"
   ]
  },
  {
   "cell_type": "code",
   "execution_count": null,
   "metadata": {
    "collapsed": true,
    "scrolled": true
   },
   "outputs": [],
   "source": [
    "prop=record.groupby([5,3]).count().reset_index()"
   ]
  },
  {
   "cell_type": "code",
   "execution_count": null,
   "metadata": {
    "collapsed": true,
    "scrolled": true
   },
   "outputs": [],
   "source": [
    "pp=[0]*(len(prop))\n",
    "for i in range(len(prop)):\n",
    "    pp[i]=((prop[4][i])/(record.groupby(5)[0].count()[prop[5][i]]))"
   ]
  },
  {
   "cell_type": "code",
   "execution_count": null,
   "metadata": {
    "collapsed": true,
    "scrolled": true
   },
   "outputs": [],
   "source": [
    "prop[6]=pp"
   ]
  },
  {
   "cell_type": "code",
   "execution_count": null,
   "metadata": {
    "collapsed": true,
    "scrolled": true
   },
   "outputs": [],
   "source": [
    "prop[6].apply(lambda x: -x * np.log2(x)).sum()/len(prop)"
   ]
  },
  {
   "cell_type": "markdown",
   "metadata": {},
   "source": [
    "# Distribution in time interval"
   ]
  },
  {
   "cell_type": "code",
   "execution_count": null,
   "metadata": {
    "collapsed": true,
    "scrolled": false
   },
   "outputs": [],
   "source": [
    "sns.distplot(record[record[6]==0][2].apply(lambda x: x.hour * 3600 + x.minute * 60 + x.second))"
   ]
  },
  {
   "cell_type": "code",
   "execution_count": null,
   "metadata": {
    "collapsed": true
   },
   "outputs": [],
   "source": [
    "from scipy import stats\n",
    "\n",
    "k=len(record[6].unique())\n",
    "kernel=[0] * k\n",
    "for i in range(k):\n",
    "    hs=record[record[6]==i][2].apply(lambda x: x.hour * 3600 + x.minute * 60 + x.second)\n",
    "    kernel[i]=stats.gaussian_kde(hs)"
   ]
  },
  {
   "cell_type": "code",
   "execution_count": null,
   "metadata": {
    "collapsed": true
   },
   "outputs": [],
   "source": [
    "kernel"
   ]
  },
  {
   "cell_type": "code",
   "execution_count": null,
   "metadata": {
    "collapsed": true,
    "scrolled": true
   },
   "outputs": [],
   "source": [
    "kernel[0].integrate_box_1d(20000,25000)"
   ]
  },
  {
   "cell_type": "markdown",
   "metadata": {},
   "source": [
    "# Geographic"
   ]
  },
  {
   "cell_type": "code",
   "execution_count": null,
   "metadata": {
    "collapsed": true,
    "scrolled": false
   },
   "outputs": [],
   "source": [
    "tuple(record[3].unique())"
   ]
  },
  {
   "cell_type": "code",
   "execution_count": null,
   "metadata": {
    "collapsed": true
   },
   "outputs": [],
   "source": [
    "cur.execute('''SELECT cod_tlb_arrt_sttn,libl_long_arrt_sttn,coor_x_phsq,coor_y_phsq,\n",
    "            FROM stif_arret_station_physique \n",
    "            WHERE cod_tlb_arrt_sttn IN %s\n",
    "            ''',\n",
    "            tuple(record[3].unique()))\n",
    "location=cur.fetchall()\n",
    "location=pd.DataFrame(location)"
   ]
  },
  {
   "cell_type": "code",
   "execution_count": null,
   "metadata": {
    "collapsed": true,
    "scrolled": true
   },
   "outputs": [],
   "source": [
    "location"
   ]
  },
  {
   "cell_type": "code",
   "execution_count": null,
   "metadata": {
    "collapsed": true,
    "scrolled": true
   },
   "outputs": [],
   "source": [
    "from pyproj import Proj, transform\n",
    "inn=Proj(init='epsg:27561')\n",
    "out=Proj(init='epsg:4326')\n",
    "for i in range(len(location)):\n",
    "    location[3][i],location[2][i]=transform(inn,out,location[2][i],location[3][i])"
   ]
  },
  {
   "cell_type": "code",
   "execution_count": null,
   "metadata": {
    "collapsed": true
   },
   "outputs": [],
   "source": [
    "locationlist=location[[2,3]].values.tolist()"
   ]
  },
  {
   "cell_type": "code",
   "execution_count": null,
   "metadata": {
    "collapsed": true
   },
   "outputs": [],
   "source": [
    "# function to compute distances between trips\n",
    "def distance_on_geoid(df):\n",
    "    # convert degrees to radians\n",
    "    df['lat'] = df['lat'] * math.pi / 180\n",
    "    df['lon'] = df['lon'] * math.pi / 180\n",
    "\n",
    "    df['lat_shift'] = df['lat_shift'] * math.pi / 180\n",
    "    df['lon_shift'] = df['lon_shift'] * math.pi / 180\n",
    "    \n",
    "    # radius of earth in meters\n",
    "    r = 6378100\n",
    "    rho1 = r * math.cos(df['lat'])\n",
    "    z1 = r * math.sin(df['lat'])\n",
    "    x1 = rho1 * math.cos(df['lon'])\n",
    "    y1 = rho1 * math.sin(df['lon'])\n",
    "    \n",
    "    rho2 = r * math.cos(df['lat_shift'])\n",
    "    z2 = r * math.sin(df['lat_shift'])\n",
    "    x2 = rho2 * math.cos(df['lon_shift'])\n",
    "    y2 = rho2 * math.sin(df['lon_shift'])\n",
    "    \n",
    "    # dot product\n",
    "    dot = (x1*x2 + y1*y2 + z1*z2)\n",
    "    cos_theta = dot /(r*r)\n",
    "    if cos_theta > 1:\n",
    "        cos_theta = 1\n",
    "    elif cos_theta < -1 :\n",
    "        cos_theta = -1\n",
    "    #return cos_theta\n",
    "    theta = math.acos(np.fabs(cos_theta))    \n",
    "    return r*theta"
   ]
  },
  {
   "cell_type": "code",
   "execution_count": null,
   "metadata": {
    "collapsed": true,
    "scrolled": false
   },
   "outputs": [],
   "source": [
    "import folium\n",
    "from folium.plugins import MarkerCluster\n",
    "mp=folium.Map(location=[48.8738818,2.3853162])\n",
    "marker_cluster=MarkerCluster().add_to(mp)\n",
    "for i in range(len(location)):\n",
    "    folium.Marker(locationlist[i]).add_to(marker_cluster)\n",
    "mp"
   ]
  },
  {
   "cell_type": "code",
   "execution_count": null,
   "metadata": {
    "collapsed": true,
    "scrolled": true
   },
   "outputs": [],
   "source": [
    "location[3]=0\n",
    "for i in range(len(location)):\n",
    "    location[3][i]=record[record[3]==location[0][i]][3].count()"
   ]
  },
  {
   "cell_type": "code",
   "execution_count": null,
   "metadata": {
    "collapsed": true,
    "scrolled": false
   },
   "outputs": [],
   "source": [
    "from scipy.stats import gaussian_kde\n",
    "plt.scatter(x=location[2],y=location[1])\n",
    "plt.xlabel('coor_x')\n",
    "plt.ylabel('coor_y')\n",
    "#plt.savefig('location.png',format='png',dpi=1200)"
   ]
  },
  {
   "cell_type": "code",
   "execution_count": null,
   "metadata": {
    "collapsed": true,
    "scrolled": false
   },
   "outputs": [],
   "source": [
    "from sklearn.cluster import KMeans\n",
    "from sklearn.metrics import silhouette_score\n",
    "X=location[[1,2]]\n",
    "score=[]\n",
    "K=range(2,len(location))\n",
    "for i in K:\n",
    "    kmeans = KMeans(n_clusters=i, random_state=0).fit(X)\n",
    "    Z=kmeans.predict(X)\n",
    "    score.append(silhouette_score(X,Z))\n",
    "    \n",
    "plt.plot(K, score, 'bx-')\n",
    "plt.xlabel('k')\n",
    "plt.ylabel('Silhouette score')\n",
    "plt.title('The Silhouette score for each k')\n",
    "plt.show()"
   ]
  },
  {
   "cell_type": "code",
   "execution_count": null,
   "metadata": {
    "collapsed": true
   },
   "outputs": [],
   "source": [
    "kmeans=KMeans(n_clusters=35).fit(X)\n",
    "location[4]=kmeans.predict(X)"
   ]
  },
  {
   "cell_type": "code",
   "execution_count": null,
   "metadata": {
    "collapsed": true
   },
   "outputs": [],
   "source": [
    "plt.scatter(x=location[1],y=location[2],c=location[4])"
   ]
  },
  {
   "cell_type": "markdown",
   "metadata": {},
   "source": [
    "# Markov Model Accuracy"
   ]
  },
  {
   "cell_type": "code",
   "execution_count": null,
   "metadata": {
    "collapsed": true
   },
   "outputs": [],
   "source": [
    "##################################################################################\n",
    "# Intergrated Function for markov model\n",
    "##################################################################################"
   ]
  },
  {
   "cell_type": "code",
   "execution_count": null,
   "metadata": {
    "collapsed": true
   },
   "outputs": [],
   "source": [
    "#Markov model with fixed time interval\n",
    "def transition_matrix(transitions,n):\n",
    "    n = n #number of states\n",
    "\n",
    "    M = [[0] * n for _ in range(n)]\n",
    "\n",
    "    for (i,j) in zip(transitions,transitions[1:]):\n",
    "        M[i][j] += 1\n",
    "\n",
    "    #now convert to probabilities:\n",
    "    for row in M:\n",
    "        s = sum(row)\n",
    "        if s > 0:\n",
    "            row[:] = [f/s for f in row]\n",
    "    return M\n",
    "def markov_model(record,Y):    \n",
    "    k=len(record[6].unique())   #number of time intervals\n",
    "    M=[0] * k                   #transition matrice\n",
    "    for i in range(k):\n",
    "        M[i]=transition_matrix(record[record[6]==i][3].map(Y).values,len(Y)) #Transition matrix   \n",
    "    return M\n",
    "def markov_model_accuracy(numr_cart,t,f):\n",
    "    cur.execute('''SELECT numr_cart,dat_vald,heur_vald,cod_tlb_arrt_sttn,w.r\n",
    "            FROM(\n",
    "            SELECT numr_cart,dat_vald,heur_vald,cod_tlb_arrt_sttn,ROW_NUMBER() OVER (PARTITION BY numr_cart,dat_vald ORDER BY heur_vald) AS r\n",
    "            FROM stif_validation_unitaire\n",
    "            WHERE numr_cart = %s\n",
    "            ) AS w\n",
    "            ''',\n",
    "            [numr_cart])\n",
    "    record=cur.fetchall()\n",
    "    record=pd.DataFrame(record)\n",
    "    record[5]=record[1].apply(lambda x: x.isoweekday())\n",
    "    record=record[[0,1,5,2,3,4]]\n",
    "    record[6]=record[2].apply(lambda x: 3 if x.hour<5 else (0 if x.hour<11 else (1 if x.hour<16 else (2 if x.hour<21 else 3))))\n",
    "    record_weekend=record[record[5].isin([6,7])].reset_index(drop=True)\n",
    "    record_weekday=record[-record[5].isin([6,7])].reset_index(drop=True)\n",
    "    train_len=(2*len(record_weekday))//3\n",
    "    train=record_weekday[0:train_len]\n",
    "    test=record_weekday[train_len:len(record_weekday)].reset_index(drop=True)\n",
    "    Y=pd.Series(range(len(record_weekday[3].unique())),index=record_weekday[3].unique()) #mapping \n",
    "    M=markov_model(train,Y)\n",
    "    #test \n",
    "    #t=[0]*4\n",
    "    #f=[0]*4\n",
    "    for j in range(0,4):\n",
    "        data=test[test[6]==j].reset_index(drop=True)\n",
    "        for i in data.index[:-1]:\n",
    "            state=data[3].map(Y).fillna(value=0).astype(int)[i]\n",
    "            time=data[6][i]\n",
    "            pred=np.argmax(M[time][state])\n",
    "            nextstate=data[3].map(Y).fillna(value=0).astype(int)[i+1]\n",
    "            if pred==nextstate:\n",
    "                t[j]=t[j]+1\n",
    "            else:\n",
    "                f[j]=f[j]+1\n",
    "    return t,f"
   ]
  },
  {
   "cell_type": "code",
   "execution_count": null,
   "metadata": {
    "collapsed": true,
    "scrolled": true
   },
   "outputs": [],
   "source": [
    "list_num"
   ]
  },
  {
   "cell_type": "code",
   "execution_count": null,
   "metadata": {
    "collapsed": true,
    "scrolled": true
   },
   "outputs": [],
   "source": [
    "i=list_num[(list_num['2_x']>200)&(list_num['1_x']>2)&(list_num['3_x']==0)][0].tolist()"
   ]
  },
  {
   "cell_type": "code",
   "execution_count": null,
   "metadata": {
    "collapsed": true,
    "scrolled": true
   },
   "outputs": [],
   "source": [
    "list_num[(list_num[0].isin(i))&(list_num['2_x']>200)&(list_num['3_y']>3)]"
   ]
  },
  {
   "cell_type": "code",
   "execution_count": null,
   "metadata": {
    "collapsed": true,
    "scrolled": true
   },
   "outputs": [],
   "source": [
    "inn=list_num[(list_num[0].isin(i))&(list_num['2_x']>200)&(list_num['3_x']>5)][0].tolist()"
   ]
  },
  {
   "cell_type": "code",
   "execution_count": null,
   "metadata": {
    "collapsed": true
   },
   "outputs": [],
   "source": [
    "start_time=time.time()\n",
    "t=[0]*4\n",
    "f=[0]*4\n",
    "for k in range(50):\n",
    "    markov_model_accuracy(str(inn[k]),t,f)\n",
    "print(\"--- %s seconds ---\" % (time.time() - start_time))"
   ]
  },
  {
   "cell_type": "code",
   "execution_count": null,
   "metadata": {
    "collapsed": true,
    "scrolled": false
   },
   "outputs": [],
   "source": [
    "t"
   ]
  },
  {
   "cell_type": "code",
   "execution_count": null,
   "metadata": {
    "collapsed": true
   },
   "outputs": [],
   "source": [
    "f"
   ]
  },
  {
   "cell_type": "code",
   "execution_count": null,
   "metadata": {
    "collapsed": true
   },
   "outputs": [],
   "source": [
    "[t[i]/(t[i]+f[i]) for i in range(len(t))] #accuracy"
   ]
  },
  {
   "cell_type": "markdown",
   "metadata": {},
   "source": [
    "# Markov Model"
   ]
  },
  {
   "cell_type": "code",
   "execution_count": null,
   "metadata": {
    "collapsed": true
   },
   "outputs": [],
   "source": [
    "def transition_matrix(transitions,n):\n",
    "    n = n #number of states\n",
    "\n",
    "    M = [[0] * n for _ in range(n)]\n",
    "\n",
    "    for (i,j) in zip(transitions,transitions[1:]):\n",
    "        M[i][j] += 1\n",
    "\n",
    "    #now convert to probabilities:\n",
    "    for row in M:\n",
    "        s = sum(row)\n",
    "        if s > 0:\n",
    "            row[:] = [f/s for f in row]\n",
    "    return M\n",
    "def markov_model(record):    \n",
    "    k=len(record[6].unique())   #number of time intervals\n",
    "    M=[0] * k                   #transition matrice\n",
    "    Y=pd.Series(range(len(record[3].unique())),index=record[3].unique()) #mapping \n",
    "    for i in range(k):\n",
    "        M[i]=transition_matrix(record[record[6]==i][3].map(Y).values,len(Y)) #Transition matrix   \n",
    "    return M,Y"
   ]
  },
  {
   "cell_type": "code",
   "execution_count": null,
   "metadata": {
    "collapsed": true,
    "scrolled": true
   },
   "outputs": [],
   "source": [
    "train_len=(2*len(record_weekday))//3\n",
    "train=record_weekday[0:train_len]\n",
    "test=record_weekday[train_len:len(record_weekday)].reset_index(drop=True)"
   ]
  },
  {
   "cell_type": "code",
   "execution_count": null,
   "metadata": {
    "collapsed": true,
    "scrolled": true
   },
   "outputs": [],
   "source": [
    "M,Y=markov_model(train)"
   ]
  },
  {
   "cell_type": "code",
   "execution_count": null,
   "metadata": {
    "collapsed": true,
    "scrolled": false
   },
   "outputs": [],
   "source": [
    "for i in range(1,len(M)+1):\n",
    "    plt.subplot(2,2,i)\n",
    "    plt.imshow(M[i-1])\n",
    "    plt.title(i)\n",
    "    plt.axis('tight')\n",
    "    #plt.tight_layout()\n",
    "\n",
    "plt.suptitle('Markov Model Transition matrix for each time interval(weekday)')\n",
    "plt.subplots_adjust(bottom=0.1, right=0.8, top=0.85,hspace=0.4,wspace=0.25)\n",
    "cax = plt.axes([0.85, 0.1, 0.025, 0.8])\n",
    "plt.colorbar(cax=cax)\n",
    "plt.savefig('markov_model.png', format='png', dpi=1200)\n",
    "plt.show()"
   ]
  },
  {
   "cell_type": "code",
   "execution_count": null,
   "metadata": {
    "collapsed": true,
    "scrolled": true
   },
   "outputs": [],
   "source": [
    "#test\n",
    "ti=4\n",
    "t=[0]*ti\n",
    "f=[0]*ti\n",
    "for j in range(0,ti):\n",
    "    data=test[test[6]==j].reset_index()\n",
    "    for i in data.index[:-1]:\n",
    "        state=data[3].map(Y).fillna(value=0).astype(int)[i]\n",
    "        time=data[6][i]\n",
    "        pred=M[time][state].index(max(M[time][state]))\n",
    "        nextstate=data[3].map(Y).fillna(value=0).astype(int)[i+1]\n",
    "        if pred==nextstate:\n",
    "            t[j]=t[j]+1\n",
    "        else:\n",
    "            f[j]=f[j]+1"
   ]
  },
  {
   "cell_type": "code",
   "execution_count": null,
   "metadata": {
    "collapsed": true,
    "scrolled": true
   },
   "outputs": [],
   "source": [
    "t"
   ]
  },
  {
   "cell_type": "code",
   "execution_count": null,
   "metadata": {
    "collapsed": true
   },
   "outputs": [],
   "source": [
    "f"
   ]
  },
  {
   "cell_type": "code",
   "execution_count": null,
   "metadata": {
    "collapsed": true,
    "scrolled": true
   },
   "outputs": [],
   "source": [
    "[t[i]/(t[i]+f[i]) for i in range(len(t))] #accuracy"
   ]
  },
  {
   "cell_type": "code",
   "execution_count": null,
   "metadata": {
    "collapsed": true
   },
   "outputs": [],
   "source": [
    "sum(t)/(sum(t)+sum(f)-4)"
   ]
  },
  {
   "cell_type": "code",
   "execution_count": null,
   "metadata": {
    "collapsed": true,
    "scrolled": true
   },
   "outputs": [],
   "source": [
    "record[5].value_counts()"
   ]
  },
  {
   "cell_type": "code",
   "execution_count": null,
   "metadata": {
    "collapsed": true,
    "scrolled": true
   },
   "outputs": [],
   "source": [
    "i=2\n",
    "y=pd.Series(range(len(record[3].unique())),index=record[3].unique())"
   ]
  },
  {
   "cell_type": "code",
   "execution_count": null,
   "metadata": {
    "collapsed": true,
    "scrolled": true
   },
   "outputs": [],
   "source": [
    "y"
   ]
  },
  {
   "cell_type": "code",
   "execution_count": null,
   "metadata": {
    "collapsed": true,
    "scrolled": false
   },
   "outputs": [],
   "source": [
    "record[record[5]==2][3].map(y).values"
   ]
  },
  {
   "cell_type": "code",
   "execution_count": null,
   "metadata": {
    "collapsed": true
   },
   "outputs": [],
   "source": [
    "def transition_matrix(transitions):\n",
    "    n = 1+max(transitions) #number of states\n",
    "\n",
    "    M = [[0] * n for _ in range(n)]\n",
    "\n",
    "    for (i,j) in zip(transitions,transitions[1:]):\n",
    "        M[i][j] += 1\n",
    "\n",
    "    #now convert to probabilities:\n",
    "    for row in M:\n",
    "        s = sum(row)\n",
    "        if s > 0:\n",
    "            row[:] = [f/s for f in row]\n",
    "    return M"
   ]
  },
  {
   "cell_type": "code",
   "execution_count": null,
   "metadata": {
    "collapsed": true
   },
   "outputs": [],
   "source": [
    "def transition_matrix(transitions):\n",
    "    n = 1+max(transitions) #number of states\n",
    "\n",
    "    M = [[0] * n for _ in range(n)]\n",
    "\n",
    "    for (i,j) in zip(transitions,transitions[1:]):\n",
    "        M[i][j] += 1\n",
    "\n",
    "    #now convert to probabilities:\n",
    "    for row in M:\n",
    "        s = sum(row)\n",
    "        if s > 0:\n",
    "            row[:] = [f/s for f in row]\n",
    "    return M\n",
    "\n",
    "def markov_model(record):    \n",
    "    M=[0] * 4\n",
    "    Y=[0] * 4\n",
    "    \n",
    "    for i in range(0,4):\n",
    "        Y[i]=pd.Series(range(len(record[record[5]==i][3].unique())),index=record[record[5]==i][3].unique())\n",
    "        M[i]=transition_matrix(record[record[5]==i][3].map(Y[i]).values)\n",
    "        \n",
    "    return M,Y"
   ]
  },
  {
   "cell_type": "code",
   "execution_count": null,
   "metadata": {
    "collapsed": true
   },
   "outputs": [],
   "source": [
    "P=transition_matrix(record[record[5]==2][3].map(y).values)"
   ]
  },
  {
   "cell_type": "code",
   "execution_count": null,
   "metadata": {
    "collapsed": true,
    "scrolled": true
   },
   "outputs": [],
   "source": [
    "P[1]"
   ]
  },
  {
   "cell_type": "markdown",
   "metadata": {},
   "source": [
    "# 3 states markov model accuracy"
   ]
  },
  {
   "cell_type": "code",
   "execution_count": null,
   "metadata": {
    "collapsed": true
   },
   "outputs": [],
   "source": [
    "#Markov model with fixed time interval\n",
    "def markov_model3_accuracy(numr_cart,t,f):\n",
    "    cur.execute('''SELECT numr_cart,dat_vald,heur_vald,cod_tlb_arrt_sttn,w.r\n",
    "            FROM(\n",
    "            SELECT numr_cart,dat_vald,heur_vald,cod_tlb_arrt_sttn,ROW_NUMBER() OVER (PARTITION BY numr_cart,dat_vald ORDER BY heur_vald) AS r\n",
    "            FROM stif_validation_unitaire\n",
    "            WHERE numr_cart = %s\n",
    "            ) AS w\n",
    "            ''',\n",
    "            [numr_cart])\n",
    "    record=cur.fetchall()\n",
    "    record=pd.DataFrame(record)\n",
    "    record[5]=record[1].apply(lambda x: x.isoweekday())\n",
    "    record=record[[0,1,5,2,3,4]]\n",
    "    record[6]=record[2].apply(lambda x: 3 if x.hour<5 else (0 if x.hour<11 else (1 if x.hour<16 else (2 if x.hour<21 else 3))))\n",
    "    fst=record[3].value_counts().index.tolist()[0:2]\n",
    "    record[3]=record[3].apply(lambda x: 1 if x== fst[0] else (2 if x== fst[1] else 3))\n",
    "    record_weekend=record[record[5].isin([6,7])].reset_index(drop=True)\n",
    "    record_weekday=record[-record[5].isin([6,7])].reset_index(drop=True)\n",
    "    train_len=(2*len(record_weekday))//3\n",
    "    train=record_weekday[0:train_len]\n",
    "    test=record_weekday[train_len:len(record_weekday)].reset_index(drop=True)\n",
    "    M,Y=markov_model(train)\n",
    "    #test \n",
    "    #t=[0]*4\n",
    "    #f=[0]*4\n",
    "    for j in range(0,4):\n",
    "        data=test[test[6]==j].reset_index(drop=True)\n",
    "        for i in data.index[:-1]:\n",
    "            state=data[3].map(Y).fillna(value=0).astype(int)[i]\n",
    "            time=data[6][i]\n",
    "            pred=np.argmax(M[time][state])\n",
    "            nextstate=data[3].map(Y).fillna(value=0).astype(int)[i+1]\n",
    "            if pred==nextstate:\n",
    "                t[j]=t[j]+1\n",
    "            else:\n",
    "                f[j]=f[j]+1\n",
    "    return t,f"
   ]
  },
  {
   "cell_type": "code",
   "execution_count": null,
   "metadata": {
    "collapsed": true
   },
   "outputs": [],
   "source": [
    "i=list_num[(list_num[2]>20)&(list_num[1]>6.6)&(list_num[1]<10)][0].tolist()"
   ]
  },
  {
   "cell_type": "code",
   "execution_count": null,
   "metadata": {
    "collapsed": true
   },
   "outputs": [],
   "source": [
    "start_time=time.time()\n",
    "t=[0]*4\n",
    "f=[0]*4\n",
    "for k in range(100):\n",
    "    markov_model3_accuracy(str(i[k]),t,f)\n",
    "print(\"--- %s seconds ---\" % (time.time() - start_time))"
   ]
  },
  {
   "cell_type": "code",
   "execution_count": null,
   "metadata": {
    "collapsed": true
   },
   "outputs": [],
   "source": [
    "t"
   ]
  },
  {
   "cell_type": "code",
   "execution_count": null,
   "metadata": {
    "collapsed": true
   },
   "outputs": [],
   "source": [
    "f"
   ]
  },
  {
   "cell_type": "code",
   "execution_count": null,
   "metadata": {
    "collapsed": true
   },
   "outputs": [],
   "source": [
    "[t[i]/(t[i]+f[i]) for i in range(len(t))] #accuracy"
   ]
  },
  {
   "cell_type": "code",
   "execution_count": null,
   "metadata": {
    "collapsed": true
   },
   "outputs": [],
   "source": []
  },
  {
   "cell_type": "markdown",
   "metadata": {},
   "source": [
    "# Markov Model for 3 states"
   ]
  },
  {
   "cell_type": "code",
   "execution_count": null,
   "metadata": {
    "collapsed": true
   },
   "outputs": [],
   "source": [
    "cur.execute('''SELECT numr_cart,dat_vald,heur_vald,cod_tlb_arrt_sttn,w.r\n",
    "            FROM(\n",
    "            SELECT numr_cart,dat_vald,heur_vald,cod_tlb_arrt_sttn,ROW_NUMBER() OVER (PARTITION BY numr_cart,dat_vald ORDER BY heur_vald) AS r\n",
    "            FROM stif_validation_unitaire\n",
    "            WHERE numr_cart = '1344228075588831'\n",
    "            ) AS w\n",
    "            ''')\n",
    "record=cur.fetchall()\n",
    "record=pd.DataFrame(record)"
   ]
  },
  {
   "cell_type": "code",
   "execution_count": null,
   "metadata": {
    "collapsed": true,
    "scrolled": true
   },
   "outputs": [],
   "source": [
    "record[3].value_counts().index.tolist()"
   ]
  },
  {
   "cell_type": "code",
   "execution_count": null,
   "metadata": {
    "collapsed": true,
    "scrolled": false
   },
   "outputs": [],
   "source": [
    "plt.bar(range(len(record[3].value_counts().values)),height=record[3].value_counts().values)\n",
    "plt.title('Bar plot for stations\\' frequency')\n",
    "plt.ylabel('Frequency')\n",
    "plt.xlabel('Stations')\n",
    "plt.savefig('bar_freq.png', format='png', dpi=1200)"
   ]
  },
  {
   "cell_type": "code",
   "execution_count": null,
   "metadata": {
    "collapsed": true
   },
   "outputs": [],
   "source": [
    "record[3]=record[3].apply(lambda x: 1 if x=='0030050170601' else (2 if x=='0030050170503' else 3))"
   ]
  },
  {
   "cell_type": "code",
   "execution_count": null,
   "metadata": {
    "collapsed": true,
    "scrolled": true
   },
   "outputs": [],
   "source": [
    "record"
   ]
  },
  {
   "cell_type": "code",
   "execution_count": null,
   "metadata": {
    "collapsed": true
   },
   "outputs": [],
   "source": [
    "def transition_matrix(transitions,n):\n",
    "    n = n #number of states\n",
    "\n",
    "    M = [[0] * n for _ in range(n)]\n",
    "\n",
    "    for (i,j) in zip(transitions,transitions[1:]):\n",
    "        M[i][j] += 1\n",
    "\n",
    "    #now convert to probabilities:\n",
    "    for row in M:\n",
    "        s = sum(row)\n",
    "        if s > 0:\n",
    "            row[:] = [f/s for f in row]\n",
    "    return M\n",
    "def markov_model(record):    \n",
    "    M=[0] * 4\n",
    "    Y=pd.Series(range(len(record[3].unique())),index=record[3].unique()) #mapping \n",
    "    \n",
    "    for i in range(0,4):\n",
    "        M[i]=transition_matrix(record[record[5]==i][3].map(Y).values,len(Y)) #Transition matrix\n",
    "        \n",
    "    return M,Y"
   ]
  },
  {
   "cell_type": "code",
   "execution_count": null,
   "metadata": {
    "collapsed": true
   },
   "outputs": [],
   "source": [
    "record_weekend=record[record[5].isin([6,7])].reset_index(drop=True)\n",
    "record_weekday=record[-record[5].isin([6,7])].reset_index(drop=True)"
   ]
  },
  {
   "cell_type": "code",
   "execution_count": null,
   "metadata": {
    "collapsed": true,
    "scrolled": true
   },
   "outputs": [],
   "source": [
    "train_len=(2*len(record_weekday))//3\n",
    "train=record_weekday[0:train_len]\n",
    "test=record_weekday[train_len:len(record_weekday)].reset_index(drop=True)"
   ]
  },
  {
   "cell_type": "code",
   "execution_count": null,
   "metadata": {
    "collapsed": true
   },
   "outputs": [],
   "source": [
    "M,Y=markov_model(train)"
   ]
  },
  {
   "cell_type": "code",
   "execution_count": null,
   "metadata": {
    "collapsed": true,
    "scrolled": true
   },
   "outputs": [],
   "source": [
    "for i in range(1,5):\n",
    "    plt.subplot(2,2,i)\n",
    "    plt.imshow(M[i-1])\n",
    "\n",
    "plt.suptitle('3 States Markov Model Transition matrix for each time interval')\n",
    "plt.subplots_adjust(bottom=0.1, right=0.8, top=0.9)\n",
    "cax = plt.axes([0.85, 0.1, 0.025, 0.8])\n",
    "plt.colorbar(cax=cax)\n",
    "plt.savefig('markov_model_3.png',format='png',dpi=1200)\n",
    "plt.show()"
   ]
  },
  {
   "cell_type": "code",
   "execution_count": null,
   "metadata": {
    "collapsed": true
   },
   "outputs": [],
   "source": [
    "#test\n",
    "t=[0]*4\n",
    "f=[0]*4\n",
    "for j in range(0,4):\n",
    "    data=test[test[5]==j].reset_index()\n",
    "    for i in data.index[:-1]:\n",
    "        state=data[3].map(Y).astype(int)[i]\n",
    "        time=data[5][i]\n",
    "        pred=M[time][state].index(max(M[time][state]))\n",
    "        nextstate=data[3].map(Y).astype(int)[i+1]\n",
    "        if pred==nextstate:\n",
    "            t[j]=t[j]+1\n",
    "        else:\n",
    "            f[j]=f[j]+1"
   ]
  },
  {
   "cell_type": "code",
   "execution_count": null,
   "metadata": {
    "collapsed": true,
    "scrolled": true
   },
   "outputs": [],
   "source": [
    "t"
   ]
  },
  {
   "cell_type": "code",
   "execution_count": null,
   "metadata": {
    "collapsed": true
   },
   "outputs": [],
   "source": [
    "f"
   ]
  },
  {
   "cell_type": "code",
   "execution_count": null,
   "metadata": {
    "collapsed": true
   },
   "outputs": [],
   "source": [
    "[t[i]/(t[i]+f[i]) for i in range(len(t))] #accuracy"
   ]
  },
  {
   "cell_type": "markdown",
   "metadata": {},
   "source": [
    "# First Validations prediction"
   ]
  },
  {
   "cell_type": "code",
   "execution_count": null,
   "metadata": {
    "collapsed": true
   },
   "outputs": [],
   "source": [
    "def first_val(record):\n",
    "    firstvt=record[record[4]==1].reset_index()\n",
    "    heur=firstvt[2].apply(lambda x: x.hour)\n",
    "    l=len(heur)\n",
    "    test=l//3\n",
    "    train=l-test\n",
    "    #train set\n",
    "    X=[0] * train\n",
    "    Y=[0] * train\n",
    "    for i in range(5,train+5):\n",
    "        Y[i-5]=heur[i]\n",
    "        X[i-5]=heur[(i-5):i]\n",
    "    #SVR\n",
    "    from sklearn.svm import SVR\n",
    "    svr_rbf=SVR(kernel='rbf', C=1e3, degree=2)\n",
    "    model=svr_rbf.fit(X,Y)\n",
    "    #Predict\n",
    "    y_rbf=[0] * l\n",
    "    y_rbf[0:(train+5)]=heur[0:(train+5)]\n",
    "    x=[0] * l\n",
    "    x[0:train]=X[0:train]\n",
    "    for i in range(train,l-5):\n",
    "        y_rbf[i+5]=model.predict(x[(i-1):i])[0]\n",
    "        x[i]=y_rbf[i:(i+5)]\n",
    "    \n",
    "    plt.plot(y_rbf,label='prediction')\n",
    "    plt.plot(heur,label='real')\n",
    "    plt.xlabel('day')\n",
    "    plt.ylabel('hour')\n",
    "    plt.legend(loc='upper right')\n",
    "    plt.show()"
   ]
  },
  {
   "cell_type": "code",
   "execution_count": null,
   "metadata": {
    "collapsed": true
   },
   "outputs": [],
   "source": [
    "cur.execute('''SELECT numr_cart,dat_vald,heur_vald,cod_tlb_arrt_sttn,w.r\n",
    "            FROM(\n",
    "            SELECT numr_cart,dat_vald,heur_vald,cod_tlb_arrt_sttn,ROW_NUMBER() OVER (PARTITION BY numr_cart,dat_vald ORDER BY heur_vald) AS r\n",
    "            FROM stif_validation_unitaire\n",
    "            WHERE numr_cart = '1344228075588831'\n",
    "            ) AS w\n",
    "            ''')\n",
    "record=cur.fetchall()"
   ]
  },
  {
   "cell_type": "code",
   "execution_count": null,
   "metadata": {
    "collapsed": true,
    "scrolled": true
   },
   "outputs": [],
   "source": [
    "record=pd.DataFrame(record)\n",
    "record"
   ]
  },
  {
   "cell_type": "code",
   "execution_count": null,
   "metadata": {
    "collapsed": true
   },
   "outputs": [],
   "source": [
    "first_val(record)"
   ]
  },
  {
   "cell_type": "code",
   "execution_count": null,
   "metadata": {
    "collapsed": true,
    "scrolled": true
   },
   "outputs": [],
   "source": [
    "firstvt=record[record[4]==1].reset_index()"
   ]
  },
  {
   "cell_type": "code",
   "execution_count": null,
   "metadata": {
    "collapsed": true,
    "scrolled": true
   },
   "outputs": [],
   "source": [
    "firstvt"
   ]
  },
  {
   "cell_type": "code",
   "execution_count": null,
   "metadata": {
    "collapsed": true,
    "scrolled": false
   },
   "outputs": [],
   "source": [
    "firstvt[firstvt[1].apply(lambda x: x.weekday())==5]"
   ]
  },
  {
   "cell_type": "code",
   "execution_count": null,
   "metadata": {
    "collapsed": true,
    "scrolled": true
   },
   "outputs": [],
   "source": [
    "firstvt[2].apply(lambda x: x.hour)"
   ]
  },
  {
   "cell_type": "code",
   "execution_count": null,
   "metadata": {
    "collapsed": true,
    "scrolled": true
   },
   "outputs": [],
   "source": [
    "plt.plot(firstvt[1],firstvt[2].apply(lambda x: x.hour))\n",
    "plt.show()"
   ]
  },
  {
   "cell_type": "code",
   "execution_count": null,
   "metadata": {
    "collapsed": true
   },
   "outputs": [],
   "source": [
    "heur=firstvt[2].apply(lambda x: x.hour)"
   ]
  },
  {
   "cell_type": "code",
   "execution_count": null,
   "metadata": {
    "collapsed": true,
    "scrolled": true
   },
   "outputs": [],
   "source": [
    "heur"
   ]
  },
  {
   "cell_type": "code",
   "execution_count": null,
   "metadata": {
    "collapsed": true
   },
   "outputs": [],
   "source": [
    "#train set\n",
    "X=[0] * 45\n",
    "Y=[0] * 45\n",
    "for i in range(5,50):\n",
    "    Y[i-5]=heur[i]\n",
    "    X[i-5]=heur[(i-5):i]"
   ]
  },
  {
   "cell_type": "code",
   "execution_count": null,
   "metadata": {
    "collapsed": true,
    "scrolled": true
   },
   "outputs": [],
   "source": [
    "#SVR\n",
    "from sklearn.svm import SVR\n",
    "svr_rbf=SVR(kernel='rbf', C=1e3, degree=2)\n",
    "model=svr_rbf.fit(X,Y)"
   ]
  },
  {
   "cell_type": "code",
   "execution_count": null,
   "metadata": {
    "collapsed": true,
    "scrolled": false
   },
   "outputs": [],
   "source": [
    "model.predict(X[44:45])[0]"
   ]
  },
  {
   "cell_type": "code",
   "execution_count": null,
   "metadata": {
    "collapsed": true,
    "scrolled": true
   },
   "outputs": [],
   "source": [
    "#Predict\n",
    "y_rbf=[0] * 63\n",
    "y_rbf[0:50]=heur[0:50]\n",
    "x=[0] * 63\n",
    "x[0:45]=X[0:45]\n",
    "for i in range(45,58):\n",
    "    y_rbf[i+5]=model.predict(x[(i-1):i])[0]\n",
    "    x[i]=y_rbf[i:(i+5)]\n",
    "    "
   ]
  },
  {
   "cell_type": "code",
   "execution_count": null,
   "metadata": {
    "collapsed": true,
    "scrolled": true
   },
   "outputs": [],
   "source": [
    "y_rbf"
   ]
  },
  {
   "cell_type": "code",
   "execution_count": null,
   "metadata": {
    "collapsed": true,
    "scrolled": true
   },
   "outputs": [],
   "source": [
    "    plt.plot(y_rbf,label='prediction')\n",
    "    plt.plot(heur,label='real')\n",
    "    plt.xlabel('day')\n",
    "    plt.ylabel('hour')\n",
    "    plt.legend(loc='upper right')\n",
    "    plt.show()"
   ]
  },
  {
   "cell_type": "code",
   "execution_count": null,
   "metadata": {
    "collapsed": true,
    "scrolled": true
   },
   "outputs": [],
   "source": [
    "record[2].tolist()"
   ]
  },
  {
   "cell_type": "code",
   "execution_count": null,
   "metadata": {
    "collapsed": true
   },
   "outputs": [],
   "source": []
  },
  {
   "cell_type": "markdown",
   "metadata": {},
   "source": [
    "# Hidden Markov Model "
   ]
  },
  {
   "cell_type": "code",
   "execution_count": null,
   "metadata": {
    "collapsed": true,
    "scrolled": true
   },
   "outputs": [],
   "source": [
    "cur.execute('''SELECT numr_cart,dat_vald,heur_vald,cod_tlb_arrt_sttn,w.r\n",
    "            FROM(\n",
    "            SELECT numr_cart,dat_vald,heur_vald,cod_tlb_arrt_sttn,ROW_NUMBER() OVER (PARTITION BY numr_cart,dat_vald ORDER BY heur_vald) AS r\n",
    "            FROM stif_validation_unitaire\n",
    "            WHERE numr_cart = '1344228075588831'\n",
    "            ) AS w\n",
    "            ''')\n",
    "record=cur.fetchall()\n",
    "record=pd.DataFrame(record)"
   ]
  },
  {
   "cell_type": "code",
   "execution_count": null,
   "metadata": {
    "collapsed": true,
    "scrolled": true
   },
   "outputs": [],
   "source": [
    "record[6]=record[2].apply(lambda x: 3 if x.hour<6 else (0 if x.hour<11 else (1 if x.hour<16 else (2 if x.hour<21 else 3))))"
   ]
  },
  {
   "cell_type": "code",
   "execution_count": null,
   "metadata": {
    "collapsed": true,
    "scrolled": true
   },
   "outputs": [],
   "source": [
    "record[7]=0\n",
    "for i in range(1,len(record)-1):\n",
    "    if record[1][i]==record[1][i+1]:\n",
    "        record[7][i]=2*3600\n",
    "    elif record[1][i]==record[1][i-1]:\n",
    "        record[7][i]=(record[2][i].hour*3600+record[2][i].minute*60+record[2][i].second)-(record[2][i-1].hour*3600+record[2][i-1].minute*60+record[2][i-1].second)\n",
    "    else:\n",
    "        record[7][i]=(record[2][i].hour*3600+record[2][i].minute*60+record[2][i].second)-(record[2][i-1].hour*3600+record[2][i-1].minute*60+record[2][i-1].second)+24*3600\n",
    "\n",
    "record[7][len(record)-1]=(record[2][len(record)-1].hour*3600+record[2][len(record)-1].minute*60+record[2][len(record)-1].second)-(record[2][len(record)-2].hour*3600+record[2][len(record)-2].minute*60+record[2][len(record)-2].second)"
   ]
  },
  {
   "cell_type": "code",
   "execution_count": null,
   "metadata": {
    "collapsed": true,
    "scrolled": true
   },
   "outputs": [],
   "source": [
    "record[7].describe()"
   ]
  },
  {
   "cell_type": "code",
   "execution_count": null,
   "metadata": {
    "collapsed": true,
    "scrolled": true
   },
   "outputs": [],
   "source": [
    "record"
   ]
  },
  {
   "cell_type": "code",
   "execution_count": null,
   "metadata": {
    "collapsed": true,
    "scrolled": true
   },
   "outputs": [],
   "source": [
    "record[3].value_counts().index.tolist()"
   ]
  },
  {
   "cell_type": "code",
   "execution_count": null,
   "metadata": {
    "collapsed": true,
    "scrolled": true
   },
   "outputs": [],
   "source": [
    "record[3]=record[3].apply(lambda x: 1 if x=='0030050170601' else (2 if x=='0030050170503' else 3))"
   ]
  },
  {
   "cell_type": "code",
   "execution_count": null,
   "metadata": {
    "collapsed": true
   },
   "outputs": [],
   "source": []
  },
  {
   "cell_type": "code",
   "execution_count": null,
   "metadata": {
    "collapsed": true,
    "scrolled": true
   },
   "outputs": [],
   "source": [
    "record_weekend=record[record[5].isin([6,7])].reset_index(drop=True)\n",
    "record_weekday=record[-record[5].isin([6,7])].reset_index(drop=True)"
   ]
  },
  {
   "cell_type": "code",
   "execution_count": null,
   "metadata": {
    "collapsed": true
   },
   "outputs": [],
   "source": [
    "Y=pd.Series(range(len(record_weekday[3].unique())),index=record_weekday[3].unique())\n",
    "record_weekday[3]=record_weekday[3].map(Y).values"
   ]
  },
  {
   "cell_type": "code",
   "execution_count": null,
   "metadata": {
    "collapsed": true,
    "scrolled": true
   },
   "outputs": [],
   "source": [
    "train_len=(2*len(record_weekday))//3\n",
    "train=record_weekday[0:train_len]\n",
    "test=record_weekday[train_len:len(record_weekday)].reset_index(drop=True)"
   ]
  },
  {
   "cell_type": "code",
   "execution_count": null,
   "metadata": {
    "collapsed": true,
    "scrolled": true
   },
   "outputs": [],
   "source": [
    "test"
   ]
  },
  {
   "cell_type": "code",
   "execution_count": null,
   "metadata": {
    "collapsed": true,
    "scrolled": true
   },
   "outputs": [],
   "source": [
    "from hmmlearn import hmm\n",
    "hmm=hmm.GaussianHMM(n_components=len(record_weekday[3].unique()), covariance_type=\"diag\", n_iter=1000)\n",
    "hmm.fit(train[[7,6]].values)"
   ]
  },
  {
   "cell_type": "code",
   "execution_count": null,
   "metadata": {
    "collapsed": true,
    "scrolled": true
   },
   "outputs": [],
   "source": [
    "hmm.transmat_"
   ]
  },
  {
   "cell_type": "code",
   "execution_count": null,
   "metadata": {
    "collapsed": true,
    "scrolled": false
   },
   "outputs": [],
   "source": [
    "plt.imshow(hmm.transmat_)\n",
    "plt.colorbar()\n",
    "plt.show()"
   ]
  },
  {
   "cell_type": "code",
   "execution_count": null,
   "metadata": {
    "collapsed": true,
    "scrolled": false
   },
   "outputs": [],
   "source": [
    "hmm.predict(test[[7,6]])+1"
   ]
  },
  {
   "cell_type": "code",
   "execution_count": null,
   "metadata": {
    "collapsed": true,
    "scrolled": true
   },
   "outputs": [],
   "source": [
    "test[3].values"
   ]
  },
  {
   "cell_type": "code",
   "execution_count": null,
   "metadata": {
    "collapsed": true,
    "scrolled": true
   },
   "outputs": [],
   "source": [
    "t=0\n",
    "f=0\n",
    "for i in range(len(test)):\n",
    "    pred=(hmm.predict(test[[7,5]])+1)[i]\n",
    "    if pred==test[3][i]:\n",
    "        t=t+1\n",
    "    else:\n",
    "        f=f+1"
   ]
  },
  {
   "cell_type": "code",
   "execution_count": null,
   "metadata": {
    "collapsed": true,
    "scrolled": true
   },
   "outputs": [],
   "source": [
    "t/(t+f)"
   ]
  },
  {
   "cell_type": "code",
   "execution_count": null,
   "metadata": {
    "collapsed": true,
    "scrolled": true
   },
   "outputs": [],
   "source": [
    "for i in range(0,4):\n",
    "    plt.subplot(2,2,i+1)\n",
    "    y=pd.Series(range(len(record[record[5]==i][3].unique())),index=record[record[5]==i][3].unique())\n",
    "    tr=record[record[5]==i][3].map(y).values\n",
    "    ob=[0] * (len(tr)-1)\n",
    "    for k in range(len(tr)-1):\n",
    "        ob[k]=tr[k:(k+2)]\n",
    "    \n",
    "    from hmmlearn import hmm\n",
    "    hmm=hmm.GaussianHMM(n_components=len(record[record[5]==i+1][3].unique())+1, covariance_type=\"full\", n_iter=100)\n",
    "    hmm.fit(ob)\n",
    "    plt.imshow(hmm.transmat_)\n",
    "    \n",
    "plt.suptitle('HMM Transition matrix for each time interval')\n",
    "plt.subplots_adjust(bottom=0.1, right=0.8, top=0.9)\n",
    "cax = plt.axes([0.85, 0.1, 0.025, 0.8])\n",
    "plt.colorbar(cax=cax)\n",
    "plt.show()"
   ]
  },
  {
   "cell_type": "code",
   "execution_count": null,
   "metadata": {
    "collapsed": true
   },
   "outputs": [],
   "source": []
  },
  {
   "cell_type": "code",
   "execution_count": null,
   "metadata": {
    "collapsed": true
   },
   "outputs": [],
   "source": []
  },
  {
   "cell_type": "code",
   "execution_count": null,
   "metadata": {
    "collapsed": true
   },
   "outputs": [],
   "source": [
    ">>> import numpy as np\n",
    ">>> from hmmlearn import hmm\n",
    ">>> np.random.seed(42)\n",
    "\n",
    ">>> model = hmm.GaussianHMM(n_components=3, covariance_type=\"full\")\n",
    ">>> model.startprob_ = np.array([0.6, 0.3, 0.1])\n",
    ">>> model.transmat_ = np.array([[0.7, 0.2, 0.1],\n",
    "...                             [0.3, 0.5, 0.2],\n",
    "...                             [0.3, 0.3, 0.4]])\n",
    ">>> model.means_ = np.array([[0.0, 0.0], [3.0, -3.0], [5.0, 10.0]])\n",
    ">>> model.covars_ = np.tile(np.identity(2), (3, 1, 1))\n",
    ">>> X, Z = model.sample(100)"
   ]
  },
  {
   "cell_type": "code",
   "execution_count": null,
   "metadata": {
    "collapsed": true
   },
   "outputs": [],
   "source": []
  },
  {
   "cell_type": "markdown",
   "metadata": {},
   "source": [
    "# HMM accuracy"
   ]
  },
  {
   "cell_type": "code",
   "execution_count": null,
   "metadata": {
    "collapsed": true
   },
   "outputs": [],
   "source": [
    "#Markov model with fixed time interval\n",
    "def hmm_accuracy(numr_cart,t,f):\n",
    "    cur.execute('''SELECT numr_cart,dat_vald,heur_vald,cod_tlb_arrt_sttn,w.r\n",
    "            FROM(\n",
    "            SELECT numr_cart,dat_vald,heur_vald,cod_tlb_arrt_sttn,ROW_NUMBER() OVER (PARTITION BY numr_cart,dat_vald ORDER BY heur_vald) AS r\n",
    "            FROM stif_validation_unitaire\n",
    "            WHERE numr_cart = %s\n",
    "            ) AS w\n",
    "            ''',\n",
    "            [numr_cart])\n",
    "    record=cur.fetchall()\n",
    "    record=pd.DataFrame(record)\n",
    "    record[5]=record[1].apply(lambda x: x.isoweekday())\n",
    "    record=record[[0,1,5,2,3,4]]\n",
    "    record[6]=record[2].apply(lambda x: 3 if x.hour<5 else (0 if x.hour<11 else (1 if x.hour<16 else (2 if x.hour<21 else 3))))\n",
    "    fst=record[3].value_counts().index.tolist()[0:2]\n",
    "    record[3]=record[3].apply(lambda x: 1 if x== fst[0] else (2 if x== fst[1] else 3))\n",
    "    record[7]=0\n",
    "    for i in range(1,len(record)):\n",
    "        if record[1][i]==record[1][i-1]:\n",
    "            record[7][i]=(record[2][i].hour*3600+record[2][i].minute*60+record[2][i].second)-(record[2][i-1].hour*3600+record[2][i-1].minute*60+record[2][i-1].second)\n",
    "        else:\n",
    "            record[7][i]=2*60*60\n",
    "    record_weekend=record[record[5].isin([6,7])].reset_index(drop=True)\n",
    "    record_weekday=record[-record[5].isin([6,7])].reset_index(drop=True)\n",
    "    train_len=(2*len(record_weekday))//3\n",
    "    train=record_weekday[0:train_len]\n",
    "    test=record_weekday[train_len:len(record_weekday)].reset_index(drop=True)\n",
    "    from hmmlearn import hmm\n",
    "    hmm=hmm.GaussianHMM(n_components=len(train[3].unique()), covariance_type=\"diag\", n_iter=1000)\n",
    "    hmm.fit(train[[7,5]].values)\n",
    "    #test \n",
    "    #t=[0]*4\n",
    "    #f=[0]*4\n",
    "    for i in range(len(test)):\n",
    "        pred=(hmm.predict(test[[7,5]])+1)[i]\n",
    "        if pred==test[3][i]:\n",
    "            t=t+1\n",
    "        else:\n",
    "            f=f+1\n",
    "    return t,f"
   ]
  },
  {
   "cell_type": "code",
   "execution_count": null,
   "metadata": {
    "collapsed": true,
    "scrolled": true
   },
   "outputs": [],
   "source": [
    "i=list_num[(list_num['2_x']>200)&(list_num['1_x']>1)&(list_num[3]==0)][0].tolist()"
   ]
  },
  {
   "cell_type": "code",
   "execution_count": null,
   "metadata": {
    "collapsed": true
   },
   "outputs": [],
   "source": [
    "hmm_accuracy(str(i[1]),12,19)"
   ]
  },
  {
   "cell_type": "code",
   "execution_count": null,
   "metadata": {
    "collapsed": true,
    "scrolled": true
   },
   "outputs": [],
   "source": [
    "start_time=time.time()\n",
    "t=0\n",
    "f=0\n",
    "for k in range(5):\n",
    "    (m,n)=hmm_accuracy(str(i[k]),0,0)\n",
    "    t=t+m\n",
    "    f=f+n\n",
    "print(\"--- %s seconds ---\" % (time.time() - start_time))"
   ]
  },
  {
   "cell_type": "code",
   "execution_count": null,
   "metadata": {
    "collapsed": true
   },
   "outputs": [],
   "source": [
    "t"
   ]
  },
  {
   "cell_type": "code",
   "execution_count": null,
   "metadata": {
    "collapsed": true
   },
   "outputs": [],
   "source": [
    "f"
   ]
  },
  {
   "cell_type": "code",
   "execution_count": null,
   "metadata": {
    "collapsed": true
   },
   "outputs": [],
   "source": [
    "t/(t+f)"
   ]
  },
  {
   "cell_type": "markdown",
   "metadata": {},
   "source": [
    "# Dynamic Bayesian Network"
   ]
  },
  {
   "cell_type": "code",
   "execution_count": null,
   "metadata": {
    "collapsed": true
   },
   "outputs": [],
   "source": []
  },
  {
   "cell_type": "code",
   "execution_count": null,
   "metadata": {
    "collapsed": true
   },
   "outputs": [],
   "source": []
  },
  {
   "cell_type": "code",
   "execution_count": null,
   "metadata": {
    "collapsed": true
   },
   "outputs": [],
   "source": []
  },
  {
   "cell_type": "markdown",
   "metadata": {},
   "source": [
    "# Random Forest"
   ]
  },
  {
   "cell_type": "code",
   "execution_count": null,
   "metadata": {
    "collapsed": true,
    "scrolled": true
   },
   "outputs": [],
   "source": [
    "cur.execute('''SELECT a.cod_tlb_arrt_sttn,\n",
    "                      b.day_of_week,\n",
    "                      CAST(b.public_holidays AS integer),\n",
    "                      CAST(b.school_holidays AS integer),\n",
    "                      CAST(b.bridging_days AS integer),\n",
    "                      (EXTRACT(HOUR FROM a.heur_vald)*4+trunc(EXTRACT(MINUTE FROM a.heur_vald)/15)+1) AS timestep,\n",
    "                      COUNT(*) AS count\n",
    "            FROM stif_validation_unitaire a, daily_dimension b\n",
    "            WHERE a.dat_vald=b.day\n",
    "            GROUP BY 1,2,3,4,5,6\n",
    "            ''')\n",
    "flow=cur.fetchall()\n",
    "count=pd.DataFrame(flow)"
   ]
  },
  {
   "cell_type": "code",
   "execution_count": null,
   "metadata": {
    "collapsed": true,
    "scrolled": true
   },
   "outputs": [],
   "source": [
    "count[5]=count[5].astype(int)"
   ]
  },
  {
   "cell_type": "code",
   "execution_count": null,
   "metadata": {
    "collapsed": true,
    "scrolled": true
   },
   "outputs": [],
   "source": [
    "count=count[~count[0].isin(['ND           ','*987         ','*97          ','*771         '])]"
   ]
  },
  {
   "cell_type": "code",
   "execution_count": null,
   "metadata": {
    "collapsed": true,
    "scrolled": true
   },
   "outputs": [],
   "source": [
    "count=count[~count[0].str.startswith('*')]"
   ]
  },
  {
   "cell_type": "code",
   "execution_count": null,
   "metadata": {
    "collapsed": true,
    "scrolled": true
   },
   "outputs": [],
   "source": [
    "mp=pd.Series(range(len(count[0].unique())),index=count[0].unique())"
   ]
  },
  {
   "cell_type": "code",
   "execution_count": null,
   "metadata": {
    "collapsed": true,
    "scrolled": true
   },
   "outputs": [],
   "source": [
    "count[0]=count[0].map(mp).values"
   ]
  },
  {
   "cell_type": "code",
   "execution_count": null,
   "metadata": {
    "collapsed": true,
    "scrolled": true
   },
   "outputs": [],
   "source": [
    "count"
   ]
  },
  {
   "cell_type": "code",
   "execution_count": null,
   "metadata": {
    "collapsed": true,
    "scrolled": false
   },
   "outputs": [],
   "source": [
    "cur.execute('''SELECT * \n",
    "            FROM stif_arret_station_physique\n",
    "            WHERE cod_tlb_arrt_sttn='999'\n",
    "            ''')\n",
    "cur.fetchall()"
   ]
  },
  {
   "cell_type": "code",
   "execution_count": null,
   "metadata": {
    "collapsed": true
   },
   "outputs": [],
   "source": [
    "from sklearn.ensemble import RandomForestRegressor\n",
    "reg=RandomForestRegressor(n_estimators=64,max_depth=10)"
   ]
  },
  {
   "cell_type": "code",
   "execution_count": null,
   "metadata": {
    "collapsed": true,
    "scrolled": false
   },
   "outputs": [],
   "source": [
    "reg.fit(X=count[list(range(6))],y=count[6])"
   ]
  },
  {
   "cell_type": "code",
   "execution_count": null,
   "metadata": {
    "collapsed": true,
    "scrolled": true
   },
   "outputs": [],
   "source": [
    "reg.predict([[0,2,0,0,0,23]])"
   ]
  },
  {
   "cell_type": "markdown",
   "metadata": {},
   "source": [
    "# Entire records"
   ]
  },
  {
   "cell_type": "code",
   "execution_count": 3,
   "metadata": {
    "scrolled": true
   },
   "outputs": [],
   "source": [
    "conn = psycopg2.connect(host=\"192.168.208.49\",port=\"5434\",database=\"iva_db\", user=\"tianru\", password=\"WT:53vh$\")\n",
    "cur=conn.cursor()"
   ]
  },
  {
   "cell_type": "code",
   "execution_count": null,
   "metadata": {},
   "outputs": [],
   "source": [
    "start_time=time.time()\n",
    "cur.execute('''SELECT numr_cart,dat_vald,heur_vald,cod_tlb_arrt_sttn\n",
    "            FROM stif_validation_unitaire\n",
    "            GROUP BY 1,2,3,4\n",
    "            ''')\n",
    "records=cur.fetchall()\n",
    "records=pd.DataFrame(records)\n",
    "print(\"--- %s seconds ---\" % (time.time() - start_time))"
   ]
  },
  {
   "cell_type": "code",
   "execution_count": 14,
   "metadata": {
    "collapsed": true
   },
   "outputs": [],
   "source": [
    "records[5]=records[1].apply(lambda x: x.isoweekday()) #seperate weekday/weekend\n",
    "records_weekend=records[records[5].isin([6,7])].reset_index(drop=True)\n",
    "records_weekday=records[-records[5].isin([6,7])].reset_index(drop=True)"
   ]
  },
  {
   "cell_type": "code",
   "execution_count": null,
   "metadata": {
    "collapsed": true,
    "scrolled": true
   },
   "outputs": [],
   "source": [
    "records"
   ]
  },
  {
   "cell_type": "markdown",
   "metadata": {},
   "source": [
    "# Global model"
   ]
  },
  {
   "cell_type": "code",
   "execution_count": null,
   "metadata": {
    "collapsed": true
   },
   "outputs": [],
   "source": [
    "def transition_matrix(transitions,n):\n",
    "    n = n #number of states\n",
    "\n",
    "    M = [[0] * n for _ in range(n)]\n",
    "\n",
    "    for (i,j) in zip(transitions,transitions[1:]):\n",
    "        M[i][j] += 1\n",
    "\n",
    "    #now convert to probabilities:\n",
    "    for row in M:\n",
    "        s = sum(row)\n",
    "        if s > 0:\n",
    "            row[:] = [f/s for f in row]\n",
    "    return M\n",
    "\n",
    "def markov_model(record,Y):    \n",
    "    k=len(record[6].unique())   #number of time intervals\n",
    "    M=[0] * k                   #transition matrice\n",
    "    for i in range(k):\n",
    "        M[i]=transition_matrix(record[record[6]==i][3].map(Y).values,len(Y)) #Transition matrix   \n",
    "    return M\n",
    "\n",
    "def distribution(record):\n",
    "    from scipy import stats\n",
    "    kernel=[0] * 4              #Gaussian KDE kernel\n",
    "    for i in range(4):\n",
    "        if i in (record[6].tolist()):\n",
    "            kernel[i]=stats.gaussian_kde(record[record[6]==i][2].apply(lambda x: x.hour * 3600 + x.minute * 60 + x.second))\n",
    "        else:\n",
    "            kernel[i]=0        \n",
    "    return kernel\n",
    "\n",
    "def local_model(numr_cart):\n",
    "    cur.execute('''SELECT numr_cart,dat_vald,heur_vald,cod_tlb_arrt_sttn,w.r\n",
    "            FROM(\n",
    "            SELECT numr_cart,dat_vald,heur_vald,cod_tlb_arrt_sttn,ROW_NUMBER() OVER (PARTITION BY numr_cart,dat_vald ORDER BY heur_vald) AS r\n",
    "            FROM stif_validation_unitaire\n",
    "            WHERE numr_cart = %s\n",
    "            ) AS w\n",
    "            ''',\n",
    "            [numr_cart])\n",
    "    record=cur.fetchall()\n",
    "    record=pd.DataFrame(record)  #get record\n",
    "    \n",
    "    record[5]=record[1].apply(lambda x: x.isoweekday())\n",
    "    record=record[[0,1,5,2,3,4]] #seperate weekday/weekend\n",
    "    \n",
    "    record[6]=record[2].apply(lambda x: 3 if x.hour<5 else (0 if x.hour<11 else (1 if x.hour<16 else (2 if x.hour<21 else 3))))\n",
    "    #time interval\n",
    "    \n",
    "    record_weekend=record[record[5].isin([6,7])].reset_index(drop=True)\n",
    "    record_weekday=record[-record[5].isin([6,7])].reset_index(drop=True)\n",
    "\n",
    "    train_len=(2*len(record_weekday))//3\n",
    "    train=record_weekday[0:train_len]\n",
    "    test=record_weekday[train_len:len(record_weekday)].reset_index(drop=True)   #tarin/test set\n",
    "    \n",
    "    Y=pd.Series(range(len(record_weekday[3].unique())),index=record_weekday[3].unique()) #mapping \n",
    "    \n",
    "    M=markov_model(train,Y)\n",
    "    kernel=distribution(record_weekday)\n",
    "    \n",
    "    return Y,M,kernel"
   ]
  },
  {
   "cell_type": "code",
   "execution_count": null,
   "metadata": {
    "collapsed": true,
    "scrolled": true
   },
   "outputs": [],
   "source": [
    "num=list_num[(list_num['2_x']>20)&(list_num['1_x']>3.5)&(list_num['3_y']==0)][0].tolist()"
   ]
  },
  {
   "cell_type": "code",
   "execution_count": null,
   "metadata": {
    "collapsed": true,
    "scrolled": true
   },
   "outputs": [],
   "source": [
    "list_num[(list_num[0].isin(num))&(list_num['2_x']>200)&(list_num['3_x']>5)]"
   ]
  },
  {
   "cell_type": "code",
   "execution_count": null,
   "metadata": {
    "collapsed": true
   },
   "outputs": [],
   "source": [
    "numk=list_num[(list_num[0].isin(num))&(list_num['2_x']>200)&(list_num['3_x']>5)][0].tolist()"
   ]
  },
  {
   "cell_type": "code",
   "execution_count": null,
   "metadata": {
    "collapsed": true,
    "scrolled": true
   },
   "outputs": [],
   "source": [
    "local_model(str(numk[14]))"
   ]
  },
  {
   "cell_type": "code",
   "execution_count": null,
   "metadata": {
    "collapsed": true
   },
   "outputs": [],
   "source": [
    "numk[14]"
   ]
  },
  {
   "cell_type": "code",
   "execution_count": null,
   "metadata": {
    "collapsed": true,
    "scrolled": true
   },
   "outputs": [],
   "source": [
    "cur.execute('''SELECT numr_cart,dat_vald,heur_vald,cod_tlb_arrt_sttn,w.r\n",
    "            FROM(\n",
    "            SELECT numr_cart,dat_vald,heur_vald,cod_tlb_arrt_sttn,ROW_NUMBER() OVER (PARTITION BY numr_cart,dat_vald ORDER BY heur_vald) AS r\n",
    "            FROM stif_validation_unitaire\n",
    "            WHERE numr_cart = %s\n",
    "            ) AS w\n",
    "            ''',\n",
    "            ['218653064136554507'])\n",
    "record=cur.fetchall()\n",
    "record=pd.DataFrame(record)\n",
    "record"
   ]
  },
  {
   "cell_type": "code",
   "execution_count": null,
   "metadata": {
    "collapsed": true,
    "scrolled": true
   },
   "outputs": [],
   "source": [
    "record[5]=record[1].apply(lambda x: x.isoweekday())\n",
    "record=record[[0,1,5,2,3,4]]"
   ]
  },
  {
   "cell_type": "code",
   "execution_count": null,
   "metadata": {
    "collapsed": true,
    "scrolled": true
   },
   "outputs": [],
   "source": [
    "record[6]=record[2].apply(lambda x: 3 if x.hour<6 else (0 if x.hour<11 else (1 if x.hour<16 else (2 if x.hour<21 else 3))))"
   ]
  },
  {
   "cell_type": "code",
   "execution_count": null,
   "metadata": {
    "collapsed": true
   },
   "outputs": [],
   "source": [
    "record_weekend=record[record[5].isin([6,7])].reset_index(drop=True)\n",
    "record_weekday=record[-record[5].isin([6,7])].reset_index(drop=True)"
   ]
  },
  {
   "cell_type": "code",
   "execution_count": null,
   "metadata": {
    "collapsed": true,
    "scrolled": true
   },
   "outputs": [],
   "source": [
    "record_weekday"
   ]
  },
  {
   "cell_type": "code",
   "execution_count": null,
   "metadata": {
    "collapsed": true,
    "scrolled": true
   },
   "outputs": [],
   "source": [
    "#\n",
    "conn = psycopg2.connect(host=\"192.168.208.49\",port=\"5434\",database=\"iva_db\", user=\"tianru\", password=\"WT:53vh$\")\n",
    "cur=conn.cursor()\n",
    "start_time=time.time()\n",
    "\n",
    "Y=[0]*len(numk)\n",
    "M=[0]*len(numk)\n",
    "kernel=[0]*len(numk)\n",
    "for i in range(len(numk)):\n",
    "    try:\n",
    "        Y[i],M[i],kernel[i]=local_model(str(numk[i]))\n",
    "    except:\n",
    "        continue\n",
    "\n",
    "print(\"--- %s seconds ---\" % (time.time() - start_time))"
   ]
  },
  {
   "cell_type": "code",
   "execution_count": null,
   "metadata": {
    "collapsed": true
   },
   "outputs": [],
   "source": [
    "len(Y)"
   ]
  },
  {
   "cell_type": "code",
   "execution_count": null,
   "metadata": {
    "collapsed": true
   },
   "outputs": [],
   "source": [
    "xx=[]\n",
    "for i in range(len(Y)):\n",
    "    if (type(kernel[i])==int)==True:\n",
    "        xx.append(i)"
   ]
  },
  {
   "cell_type": "code",
   "execution_count": null,
   "metadata": {
    "collapsed": true,
    "scrolled": true
   },
   "outputs": [],
   "source": [
    "xx"
   ]
  },
  {
   "cell_type": "code",
   "execution_count": null,
   "metadata": {
    "collapsed": true,
    "scrolled": true
   },
   "outputs": [],
   "source": [
    "for i in xx:\n",
    "    del Y[i]\n",
    "    del M[i]\n",
    "    del kernel[i]"
   ]
  },
  {
   "cell_type": "code",
   "execution_count": null,
   "metadata": {
    "collapsed": true,
    "scrolled": true
   },
   "outputs": [],
   "source": [
    "if ((arrta in Y[2])==True) and ((arrtb in Y[2])==True) and ((kernel[2][0]==0)==False):\n",
    "    print('yes')\n",
    "else:\n",
    "    print('no')"
   ]
  },
  {
   "cell_type": "code",
   "execution_count": null,
   "metadata": {
    "collapsed": true
   },
   "outputs": [],
   "source": [
    "stt=8*60*60\n",
    "end=8*60*60+30*60\n",
    "ti=0   #time intervel\n",
    "arrta='0030030210900'\n",
    "arrtb='0030030110200'\n",
    "flow=0\n",
    "for i in range(len(Y)):\n",
    "    if (type(Y[i])==int)==True:\n",
    "        flow=flow\n",
    "    elif ((arrta in Y[i])==True) and ((arrtb in Y[i])==True) and ((type(kernel[i])==int)==False):\n",
    "        flow=flow + kernel[i][ti].integrate_box_1d(stt,end)*M[i][ti][Y[i].get(arrta)][Y[i].get(arrtb)]\n",
    "    else:\n",
    "        flow=flow"
   ]
  },
  {
   "cell_type": "code",
   "execution_count": null,
   "metadata": {
    "collapsed": true
   },
   "outputs": [],
   "source": [
    "flow"
   ]
  },
  {
   "cell_type": "markdown",
   "metadata": {},
   "source": [
    "# Global model tuned time interval"
   ]
  },
  {
   "cell_type": "code",
   "execution_count": 15,
   "metadata": {
    "collapsed": true
   },
   "outputs": [],
   "source": [
    "def transition_matrix(transitions,n):\n",
    "    n = n #number of states\n",
    "\n",
    "    M = [[0] * n for _ in range(n)]\n",
    "\n",
    "    for (i,j) in zip(transitions,transitions[1:]):\n",
    "        M[i][j] += 1\n",
    "\n",
    "    #now convert to probabilities:\n",
    "    for row in M:\n",
    "        s = sum(row)\n",
    "        if s > 0:\n",
    "            row[:] = [f/s for f in row]\n",
    "    return M\n",
    "\n",
    "def markov_model(record,Y):    \n",
    "    k=len(record[6].unique())   #number of time intervals\n",
    "    M=[0] * k                   #transition matrice\n",
    "    for i in range(k):\n",
    "        M[i]=transition_matrix(record[record[6]==i][3].map(Y).values,len(Y)) #Transition matrix   \n",
    "    return M\n",
    "\n",
    "def distribution(record):\n",
    "    from scipy import stats\n",
    "    k=len(record[6].unique())   #number of time intervals\n",
    "    kernel=[0] * k              #Gaussian KDE kernel\n",
    "    for i in range(k):\n",
    "        hs=record[record[6]==i][2].apply(lambda x: x.hour * 3600 + x.minute * 60 + x.second)\n",
    "        kernel[i]=stats.gaussian_kde(hs)\n",
    "    return kernel\n",
    "\n",
    "def local_model_opt(numr_cart):\n",
    "    record=records_weekday[records_weekday[0]==numr_cart].reset_index(drop=True)  #get record\n",
    "    \n",
    "    #record[5]=record[1].apply(lambda x: x.isoweekday()) #seperate weekday/weekend\n",
    "        \n",
    "    #record_weekend=record[record[5].isin([6,7])].reset_index(drop=True)\n",
    "    #record_weekday=record[-record[5].isin([6,7])].reset_index(drop=True)\n",
    "        \n",
    "    from sklearn.cluster import KMeans\n",
    "    from sklearn.metrics import silhouette_score\n",
    "    X=record[2].apply(lambda x: \n",
    "                x.hour * 3600 + x.minute * 60 + x.second).values.reshape(-1,1)\n",
    "    silhouette=[]\n",
    "    K=range(2,13)\n",
    "    for i in K:\n",
    "        kmeans = KMeans(n_clusters=i, random_state=0).fit(X)\n",
    "        Z=kmeans.predict(X)\n",
    "        silhouette.append(silhouette_score(X,Z))\n",
    "    \n",
    "    k=np.argmax(silhouette)+2\n",
    "    kmeans=KMeans(n_clusters=k, random_state=0).fit(X)\n",
    "    record[6]=kmeans.predict(X)\n",
    "        \n",
    "    #train_len=(2*len(record_weekday))//3\n",
    "    #train=record_weekday[0:train_len]\n",
    "    #test=record_weekday[train_len:len(record_weekday)].reset_index(drop=True)   #tarin/test set\n",
    "    \n",
    "    Y=pd.Series(range(len(record[3].unique())),index=record[3].unique()) #mapping \n",
    "    \n",
    "    M=markov_model(record,Y)\n",
    "    kernel=distribution(record)\n",
    "    \n",
    "    return Y,M,kernel,kmeans"
   ]
  },
  {
   "cell_type": "code",
   "execution_count": null,
   "metadata": {
    "collapsed": true,
    "scrolled": true
   },
   "outputs": [],
   "source": [
    "list_num"
   ]
  },
  {
   "cell_type": "code",
   "execution_count": null,
   "metadata": {
    "collapsed": true,
    "scrolled": true
   },
   "outputs": [],
   "source": [
    "list_num[list_num['3_y']==0]"
   ]
  },
  {
   "cell_type": "code",
   "execution_count": 16,
   "metadata": {
    "collapsed": true
   },
   "outputs": [],
   "source": [
    "numk=list_num[(list_num['2_x']>100)&(list_num['1_x']>4)&(list_num['1_x']<5)&(list_num['3_y']==2)&(list_num['3_x']>0)][0].tolist()"
   ]
  },
  {
   "cell_type": "code",
   "execution_count": 17,
   "metadata": {},
   "outputs": [
    {
     "data": {
      "text/plain": [
       "6696"
      ]
     },
     "execution_count": 17,
     "metadata": {},
     "output_type": "execute_result"
    }
   ],
   "source": [
    "len(numk)"
   ]
  },
  {
   "cell_type": "code",
   "execution_count": null,
   "metadata": {
    "collapsed": true
   },
   "outputs": [],
   "source": [
    "cur.execute('''SELECT DISTINCT numr_cart\n",
    "            FROM stif_validation_unitaire\n",
    "            WHERE cod_tlb_arrt_sttn IN ('0030050011000','271007       ')''')\n",
    "numkk=cur.fetchall()\n",
    "numkk=[i[0] for i in numkk]"
   ]
  },
  {
   "cell_type": "code",
   "execution_count": null,
   "metadata": {
    "collapsed": true
   },
   "outputs": [],
   "source": [
    "numr=list(set(numkk).intersection(numk))"
   ]
  },
  {
   "cell_type": "code",
   "execution_count": null,
   "metadata": {
    "collapsed": true,
    "scrolled": true
   },
   "outputs": [],
   "source": [
    "len(numr)"
   ]
  },
  {
   "cell_type": "code",
   "execution_count": 18,
   "metadata": {},
   "outputs": [
    {
     "name": "stdout",
     "output_type": "stream",
     "text": [
      "--- 2148.5658094882965 seconds ---\n"
     ]
    }
   ],
   "source": [
    "conn = psycopg2.connect(host=\"192.168.208.49\",port=\"5434\",database=\"iva_db\", user=\"tianru\", password=\"WT:53vh$\")\n",
    "cur=conn.cursor()\n",
    "start_time=time.time()\n",
    "\n",
    "numr=numk\n",
    "Y=[0]*len(numr)\n",
    "M=[0]*len(numr)\n",
    "kernel=[0]*len(numr)\n",
    "kmeans=[0]*len(numr)\n",
    "for i in range(len(numr)):\n",
    "    try:\n",
    "        Y[i],M[i],kernel[i],kmeans[i]=local_model_opt(numr[i])\n",
    "    except:\n",
    "        continue\n",
    "        \n",
    "print(\"--- %s seconds ---\" % (time.time() - start_time))"
   ]
  },
  {
   "cell_type": "code",
   "execution_count": null,
   "metadata": {
    "collapsed": true,
    "scrolled": true
   },
   "outputs": [],
   "source": [
    "arrta='0030050011000'\n",
    "arrtb='0030050091300'\n",
    "for i in range(len(Y)):\n",
    "    if type(Y[i])==int:\n",
    "        continue\n",
    "    elif (arrta in Y[i])==True  and (arrtb in Y[i])==True:\n",
    "        print(i)\n",
    "    else:\n",
    "        continue"
   ]
  },
  {
   "cell_type": "code",
   "execution_count": null,
   "metadata": {
    "collapsed": true
   },
   "outputs": [],
   "source": [
    "stt=7*60*60\n",
    "end=7*60*60+30*60\n",
    "arrta='0030050011000'\n",
    "arrtb='0030050091300'\n",
    "flow=0\n",
    "for i in range(len(Y)):\n",
    "    if type(Y[i])==int:\n",
    "        flow=flow\n",
    "    elif (arrta in Y[i])==True and (arrtb in Y[i])==True:\n",
    "        ti1=int(kmeans[i].predict(stt))\n",
    "        ti2=int(kmeans[i].predict(end))\n",
    "        if ti1==ti2:\n",
    "            ti=ti1\n",
    "            flow=flow + (kernel[i][ti].integrate_box_1d(stt,end))*(M[i][ti][Y[i].get(arrta)][Y[i].get(arrtb)])\n",
    "        else:\n",
    "            flow=flow\n",
    "    else:\n",
    "        flow=flow"
   ]
  },
  {
   "cell_type": "code",
   "execution_count": 22,
   "metadata": {
    "scrolled": false
   },
   "outputs": [
    {
     "data": {
      "text/plain": [
       "[('002',\n",
       "  2,\n",
       "  '113001       ',\n",
       "  '850',\n",
       "  '800',\n",
       "  '305',\n",
       "  '1  ',\n",
       "  '1',\n",
       "  '01/01/2006',\n",
       "  '75110',\n",
       "  '305',\n",
       "  '1',\n",
       "  '01/01/2006',\n",
       "  'PARIS EST',\n",
       "  \"GARE DE L'EST\",\n",
       "  '1',\n",
       "  '601682.037',\n",
       "  '130770.496',\n",
       "  'O',\n",
       "  '0',\n",
       "  '0')]"
      ]
     },
     "execution_count": 22,
     "metadata": {},
     "output_type": "execute_result"
    }
   ],
   "source": [
    "cur.execute('''SELECT * FROM stif_arret_station_physique \n",
    "            WHERE cod_tlb_arrt_sttn='113001       '\n",
    "            ''')\n",
    "cur.fetchall()"
   ]
  },
  {
   "cell_type": "code",
   "execution_count": 20,
   "metadata": {
    "scrolled": true
   },
   "outputs": [
    {
     "data": {
      "text/html": [
       "<div>\n",
       "<style>\n",
       "    .dataframe thead tr:only-child th {\n",
       "        text-align: right;\n",
       "    }\n",
       "\n",
       "    .dataframe thead th {\n",
       "        text-align: left;\n",
       "    }\n",
       "\n",
       "    .dataframe tbody tr th {\n",
       "        vertical-align: top;\n",
       "    }\n",
       "</style>\n",
       "<table border=\"1\" class=\"dataframe\">\n",
       "  <thead>\n",
       "    <tr style=\"text-align: right;\">\n",
       "      <th></th>\n",
       "      <th>3</th>\n",
       "      <th>0</th>\n",
       "      <th>1</th>\n",
       "      <th>2</th>\n",
       "      <th>5</th>\n",
       "    </tr>\n",
       "  </thead>\n",
       "  <tbody>\n",
       "    <tr>\n",
       "      <th>0</th>\n",
       "      <td>0030050091300</td>\n",
       "      <td>41366</td>\n",
       "      <td>41366</td>\n",
       "      <td>41366</td>\n",
       "      <td>41366</td>\n",
       "    </tr>\n",
       "    <tr>\n",
       "      <th>1</th>\n",
       "      <td>271007</td>\n",
       "      <td>34225</td>\n",
       "      <td>34225</td>\n",
       "      <td>34225</td>\n",
       "      <td>34225</td>\n",
       "    </tr>\n",
       "    <tr>\n",
       "      <th>2</th>\n",
       "      <td>0030050170401</td>\n",
       "      <td>24187</td>\n",
       "      <td>24187</td>\n",
       "      <td>24187</td>\n",
       "      <td>24187</td>\n",
       "    </tr>\n",
       "    <tr>\n",
       "      <th>3</th>\n",
       "      <td>0030050011000</td>\n",
       "      <td>20102</td>\n",
       "      <td>20102</td>\n",
       "      <td>20102</td>\n",
       "      <td>20102</td>\n",
       "    </tr>\n",
       "    <tr>\n",
       "      <th>4</th>\n",
       "      <td>281899</td>\n",
       "      <td>19249</td>\n",
       "      <td>19249</td>\n",
       "      <td>19249</td>\n",
       "      <td>19249</td>\n",
       "    </tr>\n",
       "    <tr>\n",
       "      <th>5</th>\n",
       "      <td>0030050060600</td>\n",
       "      <td>17908</td>\n",
       "      <td>17908</td>\n",
       "      <td>17908</td>\n",
       "      <td>17908</td>\n",
       "    </tr>\n",
       "    <tr>\n",
       "      <th>6</th>\n",
       "      <td>113001</td>\n",
       "      <td>14229</td>\n",
       "      <td>14229</td>\n",
       "      <td>14229</td>\n",
       "      <td>14229</td>\n",
       "    </tr>\n",
       "    <tr>\n",
       "      <th>7</th>\n",
       "      <td>0030050170101</td>\n",
       "      <td>13304</td>\n",
       "      <td>13304</td>\n",
       "      <td>13304</td>\n",
       "      <td>13304</td>\n",
       "    </tr>\n",
       "    <tr>\n",
       "      <th>8</th>\n",
       "      <td>328328</td>\n",
       "      <td>11287</td>\n",
       "      <td>11287</td>\n",
       "      <td>11287</td>\n",
       "      <td>11287</td>\n",
       "    </tr>\n",
       "    <tr>\n",
       "      <th>9</th>\n",
       "      <td>0030030060800</td>\n",
       "      <td>10929</td>\n",
       "      <td>10929</td>\n",
       "      <td>10929</td>\n",
       "      <td>10929</td>\n",
       "    </tr>\n",
       "    <tr>\n",
       "      <th>10</th>\n",
       "      <td>0030050160101</td>\n",
       "      <td>10340</td>\n",
       "      <td>10340</td>\n",
       "      <td>10340</td>\n",
       "      <td>10340</td>\n",
       "    </tr>\n",
       "    <tr>\n",
       "      <th>11</th>\n",
       "      <td>391003</td>\n",
       "      <td>9499</td>\n",
       "      <td>9499</td>\n",
       "      <td>9499</td>\n",
       "      <td>9499</td>\n",
       "    </tr>\n",
       "    <tr>\n",
       "      <th>12</th>\n",
       "      <td>0030050260501</td>\n",
       "      <td>9471</td>\n",
       "      <td>9471</td>\n",
       "      <td>9471</td>\n",
       "      <td>9471</td>\n",
       "    </tr>\n",
       "    <tr>\n",
       "      <th>13</th>\n",
       "      <td>382218</td>\n",
       "      <td>8426</td>\n",
       "      <td>8426</td>\n",
       "      <td>8426</td>\n",
       "      <td>8426</td>\n",
       "    </tr>\n",
       "    <tr>\n",
       "      <th>14</th>\n",
       "      <td>0030030040800</td>\n",
       "      <td>7525</td>\n",
       "      <td>7525</td>\n",
       "      <td>7525</td>\n",
       "      <td>7525</td>\n",
       "    </tr>\n",
       "    <tr>\n",
       "      <th>15</th>\n",
       "      <td>0030030291100</td>\n",
       "      <td>7504</td>\n",
       "      <td>7504</td>\n",
       "      <td>7504</td>\n",
       "      <td>7504</td>\n",
       "    </tr>\n",
       "    <tr>\n",
       "      <th>16</th>\n",
       "      <td>0030030210900</td>\n",
       "      <td>7251</td>\n",
       "      <td>7251</td>\n",
       "      <td>7251</td>\n",
       "      <td>7251</td>\n",
       "    </tr>\n",
       "    <tr>\n",
       "      <th>17</th>\n",
       "      <td>0030050151300</td>\n",
       "      <td>6891</td>\n",
       "      <td>6891</td>\n",
       "      <td>6891</td>\n",
       "      <td>6891</td>\n",
       "    </tr>\n",
       "    <tr>\n",
       "      <th>18</th>\n",
       "      <td>0030030220900</td>\n",
       "      <td>5916</td>\n",
       "      <td>5916</td>\n",
       "      <td>5916</td>\n",
       "      <td>5916</td>\n",
       "    </tr>\n",
       "    <tr>\n",
       "      <th>19</th>\n",
       "      <td>164780</td>\n",
       "      <td>5821</td>\n",
       "      <td>5821</td>\n",
       "      <td>5821</td>\n",
       "      <td>5821</td>\n",
       "    </tr>\n",
       "    <tr>\n",
       "      <th>20</th>\n",
       "      <td>0030030060900</td>\n",
       "      <td>5468</td>\n",
       "      <td>5468</td>\n",
       "      <td>5468</td>\n",
       "      <td>5468</td>\n",
       "    </tr>\n",
       "    <tr>\n",
       "      <th>21</th>\n",
       "      <td>*100</td>\n",
       "      <td>5238</td>\n",
       "      <td>5238</td>\n",
       "      <td>5238</td>\n",
       "      <td>5238</td>\n",
       "    </tr>\n",
       "    <tr>\n",
       "      <th>22</th>\n",
       "      <td>0030050170601</td>\n",
       "      <td>5112</td>\n",
       "      <td>5112</td>\n",
       "      <td>5112</td>\n",
       "      <td>5112</td>\n",
       "    </tr>\n",
       "    <tr>\n",
       "      <th>23</th>\n",
       "      <td>0030030291000</td>\n",
       "      <td>5082</td>\n",
       "      <td>5082</td>\n",
       "      <td>5082</td>\n",
       "      <td>5082</td>\n",
       "    </tr>\n",
       "    <tr>\n",
       "      <th>24</th>\n",
       "      <td>0030050160201</td>\n",
       "      <td>5057</td>\n",
       "      <td>5057</td>\n",
       "      <td>5057</td>\n",
       "      <td>5057</td>\n",
       "    </tr>\n",
       "    <tr>\n",
       "      <th>25</th>\n",
       "      <td>393009</td>\n",
       "      <td>5004</td>\n",
       "      <td>5004</td>\n",
       "      <td>5004</td>\n",
       "      <td>5004</td>\n",
       "    </tr>\n",
       "    <tr>\n",
       "      <th>26</th>\n",
       "      <td>682005</td>\n",
       "      <td>4955</td>\n",
       "      <td>4955</td>\n",
       "      <td>4955</td>\n",
       "      <td>4955</td>\n",
       "    </tr>\n",
       "    <tr>\n",
       "      <th>27</th>\n",
       "      <td>547026</td>\n",
       "      <td>4922</td>\n",
       "      <td>4922</td>\n",
       "      <td>4922</td>\n",
       "      <td>4922</td>\n",
       "    </tr>\n",
       "    <tr>\n",
       "      <th>28</th>\n",
       "      <td>0030050260701</td>\n",
       "      <td>4902</td>\n",
       "      <td>4902</td>\n",
       "      <td>4902</td>\n",
       "      <td>4902</td>\n",
       "    </tr>\n",
       "    <tr>\n",
       "      <th>29</th>\n",
       "      <td>0030050170501</td>\n",
       "      <td>4841</td>\n",
       "      <td>4841</td>\n",
       "      <td>4841</td>\n",
       "      <td>4841</td>\n",
       "    </tr>\n",
       "    <tr>\n",
       "      <th>...</th>\n",
       "      <td>...</td>\n",
       "      <td>...</td>\n",
       "      <td>...</td>\n",
       "      <td>...</td>\n",
       "      <td>...</td>\n",
       "    </tr>\n",
       "    <tr>\n",
       "      <th>11459</th>\n",
       "      <td>0030010308004</td>\n",
       "      <td>1</td>\n",
       "      <td>1</td>\n",
       "      <td>1</td>\n",
       "      <td>1</td>\n",
       "    </tr>\n",
       "    <tr>\n",
       "      <th>11460</th>\n",
       "      <td>0030010308003</td>\n",
       "      <td>1</td>\n",
       "      <td>1</td>\n",
       "      <td>1</td>\n",
       "      <td>1</td>\n",
       "    </tr>\n",
       "    <tr>\n",
       "      <th>11461</th>\n",
       "      <td>0030010074022</td>\n",
       "      <td>1</td>\n",
       "      <td>1</td>\n",
       "      <td>1</td>\n",
       "      <td>1</td>\n",
       "    </tr>\n",
       "    <tr>\n",
       "      <th>11462</th>\n",
       "      <td>0030010057025</td>\n",
       "      <td>1</td>\n",
       "      <td>1</td>\n",
       "      <td>1</td>\n",
       "      <td>1</td>\n",
       "    </tr>\n",
       "    <tr>\n",
       "      <th>11463</th>\n",
       "      <td>0030010134020</td>\n",
       "      <td>1</td>\n",
       "      <td>1</td>\n",
       "      <td>1</td>\n",
       "      <td>1</td>\n",
       "    </tr>\n",
       "    <tr>\n",
       "      <th>11464</th>\n",
       "      <td>0030010057021</td>\n",
       "      <td>1</td>\n",
       "      <td>1</td>\n",
       "      <td>1</td>\n",
       "      <td>1</td>\n",
       "    </tr>\n",
       "    <tr>\n",
       "      <th>11465</th>\n",
       "      <td>0030010057016</td>\n",
       "      <td>1</td>\n",
       "      <td>1</td>\n",
       "      <td>1</td>\n",
       "      <td>1</td>\n",
       "    </tr>\n",
       "    <tr>\n",
       "      <th>11466</th>\n",
       "      <td>0030010306067</td>\n",
       "      <td>1</td>\n",
       "      <td>1</td>\n",
       "      <td>1</td>\n",
       "      <td>1</td>\n",
       "    </tr>\n",
       "    <tr>\n",
       "      <th>11467</th>\n",
       "      <td>0030010057056</td>\n",
       "      <td>1</td>\n",
       "      <td>1</td>\n",
       "      <td>1</td>\n",
       "      <td>1</td>\n",
       "    </tr>\n",
       "    <tr>\n",
       "      <th>11468</th>\n",
       "      <td>0030010143110</td>\n",
       "      <td>1</td>\n",
       "      <td>1</td>\n",
       "      <td>1</td>\n",
       "      <td>1</td>\n",
       "    </tr>\n",
       "    <tr>\n",
       "      <th>11469</th>\n",
       "      <td>1223</td>\n",
       "      <td>1</td>\n",
       "      <td>1</td>\n",
       "      <td>1</td>\n",
       "      <td>1</td>\n",
       "    </tr>\n",
       "    <tr>\n",
       "      <th>11470</th>\n",
       "      <td>1224</td>\n",
       "      <td>1</td>\n",
       "      <td>1</td>\n",
       "      <td>1</td>\n",
       "      <td>1</td>\n",
       "    </tr>\n",
       "    <tr>\n",
       "      <th>11471</th>\n",
       "      <td>0030010158024</td>\n",
       "      <td>1</td>\n",
       "      <td>1</td>\n",
       "      <td>1</td>\n",
       "      <td>1</td>\n",
       "    </tr>\n",
       "    <tr>\n",
       "      <th>11472</th>\n",
       "      <td>0030010106040</td>\n",
       "      <td>1</td>\n",
       "      <td>1</td>\n",
       "      <td>1</td>\n",
       "      <td>1</td>\n",
       "    </tr>\n",
       "    <tr>\n",
       "      <th>11473</th>\n",
       "      <td>2843</td>\n",
       "      <td>1</td>\n",
       "      <td>1</td>\n",
       "      <td>1</td>\n",
       "      <td>1</td>\n",
       "    </tr>\n",
       "    <tr>\n",
       "      <th>11474</th>\n",
       "      <td>0030010308064</td>\n",
       "      <td>1</td>\n",
       "      <td>1</td>\n",
       "      <td>1</td>\n",
       "      <td>1</td>\n",
       "    </tr>\n",
       "    <tr>\n",
       "      <th>11475</th>\n",
       "      <td>28560</td>\n",
       "      <td>1</td>\n",
       "      <td>1</td>\n",
       "      <td>1</td>\n",
       "      <td>1</td>\n",
       "    </tr>\n",
       "    <tr>\n",
       "      <th>11476</th>\n",
       "      <td>0030010057070</td>\n",
       "      <td>1</td>\n",
       "      <td>1</td>\n",
       "      <td>1</td>\n",
       "      <td>1</td>\n",
       "    </tr>\n",
       "    <tr>\n",
       "      <th>11477</th>\n",
       "      <td>0030010158023</td>\n",
       "      <td>1</td>\n",
       "      <td>1</td>\n",
       "      <td>1</td>\n",
       "      <td>1</td>\n",
       "    </tr>\n",
       "    <tr>\n",
       "      <th>11478</th>\n",
       "      <td>0030010173032</td>\n",
       "      <td>1</td>\n",
       "      <td>1</td>\n",
       "      <td>1</td>\n",
       "      <td>1</td>\n",
       "    </tr>\n",
       "    <tr>\n",
       "      <th>11479</th>\n",
       "      <td>0030010057068</td>\n",
       "      <td>1</td>\n",
       "      <td>1</td>\n",
       "      <td>1</td>\n",
       "      <td>1</td>\n",
       "    </tr>\n",
       "    <tr>\n",
       "      <th>11480</th>\n",
       "      <td>28712</td>\n",
       "      <td>1</td>\n",
       "      <td>1</td>\n",
       "      <td>1</td>\n",
       "      <td>1</td>\n",
       "    </tr>\n",
       "    <tr>\n",
       "      <th>11481</th>\n",
       "      <td>0030010927019</td>\n",
       "      <td>1</td>\n",
       "      <td>1</td>\n",
       "      <td>1</td>\n",
       "      <td>1</td>\n",
       "    </tr>\n",
       "    <tr>\n",
       "      <th>11482</th>\n",
       "      <td>0030010308051</td>\n",
       "      <td>1</td>\n",
       "      <td>1</td>\n",
       "      <td>1</td>\n",
       "      <td>1</td>\n",
       "    </tr>\n",
       "    <tr>\n",
       "      <th>11483</th>\n",
       "      <td>0030010057064</td>\n",
       "      <td>1</td>\n",
       "      <td>1</td>\n",
       "      <td>1</td>\n",
       "      <td>1</td>\n",
       "    </tr>\n",
       "    <tr>\n",
       "      <th>11484</th>\n",
       "      <td>0030010158018</td>\n",
       "      <td>1</td>\n",
       "      <td>1</td>\n",
       "      <td>1</td>\n",
       "      <td>1</td>\n",
       "    </tr>\n",
       "    <tr>\n",
       "      <th>11485</th>\n",
       "      <td>0030010107001</td>\n",
       "      <td>1</td>\n",
       "      <td>1</td>\n",
       "      <td>1</td>\n",
       "      <td>1</td>\n",
       "    </tr>\n",
       "    <tr>\n",
       "      <th>11486</th>\n",
       "      <td>0030010107002</td>\n",
       "      <td>1</td>\n",
       "      <td>1</td>\n",
       "      <td>1</td>\n",
       "      <td>1</td>\n",
       "    </tr>\n",
       "    <tr>\n",
       "      <th>11487</th>\n",
       "      <td>0030010107017</td>\n",
       "      <td>1</td>\n",
       "      <td>1</td>\n",
       "      <td>1</td>\n",
       "      <td>1</td>\n",
       "    </tr>\n",
       "    <tr>\n",
       "      <th>11488</th>\n",
       "      <td>0030010082063</td>\n",
       "      <td>1</td>\n",
       "      <td>1</td>\n",
       "      <td>1</td>\n",
       "      <td>1</td>\n",
       "    </tr>\n",
       "  </tbody>\n",
       "</table>\n",
       "<p>11489 rows × 5 columns</p>\n",
       "</div>"
      ],
      "text/plain": [
       "                   3      0      1      2      5\n",
       "0      0030050091300  41366  41366  41366  41366\n",
       "1      271007         34225  34225  34225  34225\n",
       "2      0030050170401  24187  24187  24187  24187\n",
       "3      0030050011000  20102  20102  20102  20102\n",
       "4      281899         19249  19249  19249  19249\n",
       "5      0030050060600  17908  17908  17908  17908\n",
       "6      113001         14229  14229  14229  14229\n",
       "7      0030050170101  13304  13304  13304  13304\n",
       "8      328328         11287  11287  11287  11287\n",
       "9      0030030060800  10929  10929  10929  10929\n",
       "10     0030050160101  10340  10340  10340  10340\n",
       "11     391003          9499   9499   9499   9499\n",
       "12     0030050260501   9471   9471   9471   9471\n",
       "13     382218          8426   8426   8426   8426\n",
       "14     0030030040800   7525   7525   7525   7525\n",
       "15     0030030291100   7504   7504   7504   7504\n",
       "16     0030030210900   7251   7251   7251   7251\n",
       "17     0030050151300   6891   6891   6891   6891\n",
       "18     0030030220900   5916   5916   5916   5916\n",
       "19     164780          5821   5821   5821   5821\n",
       "20     0030030060900   5468   5468   5468   5468\n",
       "21     *100            5238   5238   5238   5238\n",
       "22     0030050170601   5112   5112   5112   5112\n",
       "23     0030030291000   5082   5082   5082   5082\n",
       "24     0030050160201   5057   5057   5057   5057\n",
       "25     393009          5004   5004   5004   5004\n",
       "26     682005          4955   4955   4955   4955\n",
       "27     547026          4922   4922   4922   4922\n",
       "28     0030050260701   4902   4902   4902   4902\n",
       "29     0030050170501   4841   4841   4841   4841\n",
       "...              ...    ...    ...    ...    ...\n",
       "11459  0030010308004      1      1      1      1\n",
       "11460  0030010308003      1      1      1      1\n",
       "11461  0030010074022      1      1      1      1\n",
       "11462  0030010057025      1      1      1      1\n",
       "11463  0030010134020      1      1      1      1\n",
       "11464  0030010057021      1      1      1      1\n",
       "11465  0030010057016      1      1      1      1\n",
       "11466  0030010306067      1      1      1      1\n",
       "11467  0030010057056      1      1      1      1\n",
       "11468  0030010143110      1      1      1      1\n",
       "11469  1223               1      1      1      1\n",
       "11470  1224               1      1      1      1\n",
       "11471  0030010158024      1      1      1      1\n",
       "11472  0030010106040      1      1      1      1\n",
       "11473  2843               1      1      1      1\n",
       "11474  0030010308064      1      1      1      1\n",
       "11475  28560              1      1      1      1\n",
       "11476  0030010057070      1      1      1      1\n",
       "11477  0030010158023      1      1      1      1\n",
       "11478  0030010173032      1      1      1      1\n",
       "11479  0030010057068      1      1      1      1\n",
       "11480  28712              1      1      1      1\n",
       "11481  0030010927019      1      1      1      1\n",
       "11482  0030010308051      1      1      1      1\n",
       "11483  0030010057064      1      1      1      1\n",
       "11484  0030010158018      1      1      1      1\n",
       "11485  0030010107001      1      1      1      1\n",
       "11486  0030010107002      1      1      1      1\n",
       "11487  0030010107017      1      1      1      1\n",
       "11488  0030010082063      1      1      1      1\n",
       "\n",
       "[11489 rows x 5 columns]"
      ]
     },
     "execution_count": 20,
     "metadata": {},
     "output_type": "execute_result"
    }
   ],
   "source": [
    "records_weekday[records_weekday[0].isin(numk)].groupby([3]).count().sort_values([0],ascending=False).reset_index()"
   ]
  },
  {
   "cell_type": "code",
   "execution_count": 19,
   "metadata": {},
   "outputs": [
    {
     "name": "stderr",
     "output_type": "stream",
     "text": [
      "/home/ubuntu/anaconda3/lib/python3.6/site-packages/ipykernel_launcher.py:34: UserWarning: Boolean Series key will be reindexed to match DataFrame index.\n"
     ]
    },
    {
     "ename": "KeyboardInterrupt",
     "evalue": "",
     "output_type": "error",
     "traceback": [
      "\u001b[0;31m---------------------------------------------------------------------------\u001b[0m",
      "\u001b[0;31mKeyboardInterrupt\u001b[0m                         Traceback (most recent call last)",
      "\u001b[0;32m<ipython-input-19-ce9c46920ba1>\u001b[0m in \u001b[0;36m<module>\u001b[0;34m()\u001b[0m\n\u001b[1;32m     32\u001b[0m         \u001b[0mflows_real\u001b[0m\u001b[0;34m=\u001b[0m\u001b[0;34m[\u001b[0m\u001b[0;34m]\u001b[0m\u001b[0;34m\u001b[0m\u001b[0m\n\u001b[1;32m     33\u001b[0m         \u001b[0;32mfor\u001b[0m \u001b[0ml\u001b[0m \u001b[0;32min\u001b[0m \u001b[0mrange\u001b[0m\u001b[0;34m(\u001b[0m\u001b[0;36m24\u001b[0m\u001b[0;34m)\u001b[0m\u001b[0;34m:\u001b[0m\u001b[0;34m\u001b[0m\u001b[0m\n\u001b[0;32m---> 34\u001b[0;31m             \u001b[0mrrr\u001b[0m\u001b[0;34m=\u001b[0m\u001b[0mrecords_weekday\u001b[0m\u001b[0;34m[\u001b[0m\u001b[0mrecords_weekday\u001b[0m\u001b[0;34m[\u001b[0m\u001b[0;36m0\u001b[0m\u001b[0;34m]\u001b[0m\u001b[0;34m.\u001b[0m\u001b[0misin\u001b[0m\u001b[0;34m(\u001b[0m\u001b[0mnumr\u001b[0m\u001b[0;34m)\u001b[0m\u001b[0;34m]\u001b[0m\u001b[0;34m[\u001b[0m\u001b[0;34m(\u001b[0m\u001b[0mrecords_weekday\u001b[0m\u001b[0;34m[\u001b[0m\u001b[0;36m2\u001b[0m\u001b[0;34m]\u001b[0m\u001b[0;34m.\u001b[0m\u001b[0mapply\u001b[0m\u001b[0;34m(\u001b[0m\u001b[0;32mlambda\u001b[0m \u001b[0mx\u001b[0m\u001b[0;34m:\u001b[0m \u001b[0;36m3600\u001b[0m\u001b[0;34m*\u001b[0m\u001b[0mx\u001b[0m\u001b[0;34m.\u001b[0m\u001b[0mhour\u001b[0m \u001b[0;34m+\u001b[0m \u001b[0;36m60\u001b[0m\u001b[0;34m*\u001b[0m\u001b[0mx\u001b[0m\u001b[0;34m.\u001b[0m\u001b[0mminute\u001b[0m \u001b[0;34m+\u001b[0m \u001b[0mx\u001b[0m\u001b[0;34m.\u001b[0m\u001b[0msecond\u001b[0m\u001b[0;34m)\u001b[0m\u001b[0;34m>\u001b[0m\u001b[0;34m(\u001b[0m\u001b[0mk\u001b[0m\u001b[0;34m*\u001b[0m\u001b[0;36m3600\u001b[0m\u001b[0;34m)\u001b[0m\u001b[0;34m-\u001b[0m\u001b[0;36m1\u001b[0m\u001b[0;34m)\u001b[0m\u001b[0;34m&\u001b[0m\u001b[0;34m(\u001b[0m\u001b[0mrecords_weekday\u001b[0m\u001b[0;34m[\u001b[0m\u001b[0;36m2\u001b[0m\u001b[0;34m]\u001b[0m\u001b[0;34m.\u001b[0m\u001b[0mapply\u001b[0m\u001b[0;34m(\u001b[0m\u001b[0;32mlambda\u001b[0m \u001b[0mx\u001b[0m\u001b[0;34m:\u001b[0m \u001b[0;36m3600\u001b[0m\u001b[0;34m*\u001b[0m\u001b[0mx\u001b[0m\u001b[0;34m.\u001b[0m\u001b[0mhour\u001b[0m \u001b[0;34m+\u001b[0m \u001b[0;36m60\u001b[0m\u001b[0;34m*\u001b[0m\u001b[0mx\u001b[0m\u001b[0;34m.\u001b[0m\u001b[0mminute\u001b[0m \u001b[0;34m+\u001b[0m \u001b[0mx\u001b[0m\u001b[0;34m.\u001b[0m\u001b[0msecond\u001b[0m\u001b[0;34m)\u001b[0m\u001b[0;34m<\u001b[0m\u001b[0;34m(\u001b[0m\u001b[0;34m(\u001b[0m\u001b[0mk\u001b[0m\u001b[0;34m+\u001b[0m\u001b[0;36m1\u001b[0m\u001b[0;34m)\u001b[0m\u001b[0;34m*\u001b[0m\u001b[0;36m3600\u001b[0m\u001b[0;34m)\u001b[0m\u001b[0;34m+\u001b[0m\u001b[0;36m1\u001b[0m\u001b[0;34m)\u001b[0m\u001b[0;34m]\u001b[0m\u001b[0;34m.\u001b[0m\u001b[0mreset_index\u001b[0m\u001b[0;34m(\u001b[0m\u001b[0mdrop\u001b[0m\u001b[0;34m=\u001b[0m\u001b[0;32mTrue\u001b[0m\u001b[0;34m)\u001b[0m\u001b[0;34m\u001b[0m\u001b[0m\n\u001b[0m\u001b[1;32m     35\u001b[0m             \u001b[0mflow\u001b[0m\u001b[0;34m=\u001b[0m\u001b[0;36m0\u001b[0m\u001b[0;34m\u001b[0m\u001b[0m\n\u001b[1;32m     36\u001b[0m             \u001b[0mday\u001b[0m\u001b[0;34m=\u001b[0m\u001b[0;34m[\u001b[0m\u001b[0;34m]\u001b[0m\u001b[0;34m\u001b[0m\u001b[0m\n",
      "\u001b[0;32m~/anaconda3/lib/python3.6/site-packages/pandas/core/series.py\u001b[0m in \u001b[0;36mapply\u001b[0;34m(self, func, convert_dtype, args, **kwds)\u001b[0m\n\u001b[1;32m   2353\u001b[0m             \u001b[0;32melse\u001b[0m\u001b[0;34m:\u001b[0m\u001b[0;34m\u001b[0m\u001b[0m\n\u001b[1;32m   2354\u001b[0m                 \u001b[0mvalues\u001b[0m \u001b[0;34m=\u001b[0m \u001b[0mself\u001b[0m\u001b[0;34m.\u001b[0m\u001b[0masobject\u001b[0m\u001b[0;34m\u001b[0m\u001b[0m\n\u001b[0;32m-> 2355\u001b[0;31m                 \u001b[0mmapped\u001b[0m \u001b[0;34m=\u001b[0m \u001b[0mlib\u001b[0m\u001b[0;34m.\u001b[0m\u001b[0mmap_infer\u001b[0m\u001b[0;34m(\u001b[0m\u001b[0mvalues\u001b[0m\u001b[0;34m,\u001b[0m \u001b[0mf\u001b[0m\u001b[0;34m,\u001b[0m \u001b[0mconvert\u001b[0m\u001b[0;34m=\u001b[0m\u001b[0mconvert_dtype\u001b[0m\u001b[0;34m)\u001b[0m\u001b[0;34m\u001b[0m\u001b[0m\n\u001b[0m\u001b[1;32m   2356\u001b[0m \u001b[0;34m\u001b[0m\u001b[0m\n\u001b[1;32m   2357\u001b[0m         \u001b[0;32mif\u001b[0m \u001b[0mlen\u001b[0m\u001b[0;34m(\u001b[0m\u001b[0mmapped\u001b[0m\u001b[0;34m)\u001b[0m \u001b[0;32mand\u001b[0m \u001b[0misinstance\u001b[0m\u001b[0;34m(\u001b[0m\u001b[0mmapped\u001b[0m\u001b[0;34m[\u001b[0m\u001b[0;36m0\u001b[0m\u001b[0;34m]\u001b[0m\u001b[0;34m,\u001b[0m \u001b[0mSeries\u001b[0m\u001b[0;34m)\u001b[0m\u001b[0;34m:\u001b[0m\u001b[0;34m\u001b[0m\u001b[0m\n",
      "\u001b[0;32mpandas/_libs/src/inference.pyx\u001b[0m in \u001b[0;36mpandas._libs.lib.map_infer\u001b[0;34m()\u001b[0m\n",
      "\u001b[0;32m<ipython-input-19-ce9c46920ba1>\u001b[0m in \u001b[0;36m<lambda>\u001b[0;34m(x)\u001b[0m\n\u001b[1;32m     32\u001b[0m         \u001b[0mflows_real\u001b[0m\u001b[0;34m=\u001b[0m\u001b[0;34m[\u001b[0m\u001b[0;34m]\u001b[0m\u001b[0;34m\u001b[0m\u001b[0m\n\u001b[1;32m     33\u001b[0m         \u001b[0;32mfor\u001b[0m \u001b[0ml\u001b[0m \u001b[0;32min\u001b[0m \u001b[0mrange\u001b[0m\u001b[0;34m(\u001b[0m\u001b[0;36m24\u001b[0m\u001b[0;34m)\u001b[0m\u001b[0;34m:\u001b[0m\u001b[0;34m\u001b[0m\u001b[0m\n\u001b[0;32m---> 34\u001b[0;31m             \u001b[0mrrr\u001b[0m\u001b[0;34m=\u001b[0m\u001b[0mrecords_weekday\u001b[0m\u001b[0;34m[\u001b[0m\u001b[0mrecords_weekday\u001b[0m\u001b[0;34m[\u001b[0m\u001b[0;36m0\u001b[0m\u001b[0;34m]\u001b[0m\u001b[0;34m.\u001b[0m\u001b[0misin\u001b[0m\u001b[0;34m(\u001b[0m\u001b[0mnumr\u001b[0m\u001b[0;34m)\u001b[0m\u001b[0;34m]\u001b[0m\u001b[0;34m[\u001b[0m\u001b[0;34m(\u001b[0m\u001b[0mrecords_weekday\u001b[0m\u001b[0;34m[\u001b[0m\u001b[0;36m2\u001b[0m\u001b[0;34m]\u001b[0m\u001b[0;34m.\u001b[0m\u001b[0mapply\u001b[0m\u001b[0;34m(\u001b[0m\u001b[0;32mlambda\u001b[0m \u001b[0mx\u001b[0m\u001b[0;34m:\u001b[0m \u001b[0;36m3600\u001b[0m\u001b[0;34m*\u001b[0m\u001b[0mx\u001b[0m\u001b[0;34m.\u001b[0m\u001b[0mhour\u001b[0m \u001b[0;34m+\u001b[0m \u001b[0;36m60\u001b[0m\u001b[0;34m*\u001b[0m\u001b[0mx\u001b[0m\u001b[0;34m.\u001b[0m\u001b[0mminute\u001b[0m \u001b[0;34m+\u001b[0m \u001b[0mx\u001b[0m\u001b[0;34m.\u001b[0m\u001b[0msecond\u001b[0m\u001b[0;34m)\u001b[0m\u001b[0;34m>\u001b[0m\u001b[0;34m(\u001b[0m\u001b[0mk\u001b[0m\u001b[0;34m*\u001b[0m\u001b[0;36m3600\u001b[0m\u001b[0;34m)\u001b[0m\u001b[0;34m-\u001b[0m\u001b[0;36m1\u001b[0m\u001b[0;34m)\u001b[0m\u001b[0;34m&\u001b[0m\u001b[0;34m(\u001b[0m\u001b[0mrecords_weekday\u001b[0m\u001b[0;34m[\u001b[0m\u001b[0;36m2\u001b[0m\u001b[0;34m]\u001b[0m\u001b[0;34m.\u001b[0m\u001b[0mapply\u001b[0m\u001b[0;34m(\u001b[0m\u001b[0;32mlambda\u001b[0m \u001b[0mx\u001b[0m\u001b[0;34m:\u001b[0m \u001b[0;36m3600\u001b[0m\u001b[0;34m*\u001b[0m\u001b[0mx\u001b[0m\u001b[0;34m.\u001b[0m\u001b[0mhour\u001b[0m \u001b[0;34m+\u001b[0m \u001b[0;36m60\u001b[0m\u001b[0;34m*\u001b[0m\u001b[0mx\u001b[0m\u001b[0;34m.\u001b[0m\u001b[0mminute\u001b[0m \u001b[0;34m+\u001b[0m \u001b[0mx\u001b[0m\u001b[0;34m.\u001b[0m\u001b[0msecond\u001b[0m\u001b[0;34m)\u001b[0m\u001b[0;34m<\u001b[0m\u001b[0;34m(\u001b[0m\u001b[0;34m(\u001b[0m\u001b[0mk\u001b[0m\u001b[0;34m+\u001b[0m\u001b[0;36m1\u001b[0m\u001b[0;34m)\u001b[0m\u001b[0;34m*\u001b[0m\u001b[0;36m3600\u001b[0m\u001b[0;34m)\u001b[0m\u001b[0;34m+\u001b[0m\u001b[0;36m1\u001b[0m\u001b[0;34m)\u001b[0m\u001b[0;34m]\u001b[0m\u001b[0;34m.\u001b[0m\u001b[0mreset_index\u001b[0m\u001b[0;34m(\u001b[0m\u001b[0mdrop\u001b[0m\u001b[0;34m=\u001b[0m\u001b[0;32mTrue\u001b[0m\u001b[0;34m)\u001b[0m\u001b[0;34m\u001b[0m\u001b[0m\n\u001b[0m\u001b[1;32m     35\u001b[0m             \u001b[0mflow\u001b[0m\u001b[0;34m=\u001b[0m\u001b[0;36m0\u001b[0m\u001b[0;34m\u001b[0m\u001b[0m\n\u001b[1;32m     36\u001b[0m             \u001b[0mday\u001b[0m\u001b[0;34m=\u001b[0m\u001b[0;34m[\u001b[0m\u001b[0;34m]\u001b[0m\u001b[0;34m\u001b[0m\u001b[0m\n",
      "\u001b[0;31mKeyboardInterrupt\u001b[0m: "
     ]
    }
   ],
   "source": [
    "### mse loop\n",
    "stations=records_weekday[records_weekday[0].isin(numk)].groupby([3]).count().sort_values([0],ascending=False).reset_index()[3]\n",
    "start_time=time.time()\n",
    "MSE=[]\n",
    "for i in range(6):\n",
    "    for j in range(6):\n",
    "        flows=[]\n",
    "        arrta=stations[i]\n",
    "        arrtb=stations[j]\n",
    "        for k in range(24):\n",
    "            try:\n",
    "                stt=k*60*60\n",
    "                end=k*60*60+60*60\n",
    "                flow=0\n",
    "                for ik in range(len(Y)):\n",
    "                    if type(Y[ik])==int:\n",
    "                        flow=flow\n",
    "                    elif (arrta in Y[ik])==True and (arrtb in Y[ik])==True:\n",
    "                        ti1=int(kmeans[ik].predict(stt))\n",
    "                        ti2=int(kmeans[ik].predict(end))\n",
    "                        if ti1==ti2:\n",
    "                            ti=ti1\n",
    "                            flow=flow + (kernel[ik][ti].integrate_box_1d(stt,end))*(M[ik][ti][Y[ik].get(arrta)][Y[ik].get(arrtb)])\n",
    "                        else:\n",
    "                            flow=flow\n",
    "                    else:\n",
    "                        flow=flow\n",
    "                flows.append([k,flow])\n",
    "            except:\n",
    "                continue\n",
    "        \n",
    "        flows_real=[]\n",
    "        for l in range(24):\n",
    "            rrr=records_weekday[records_weekday[0].isin(numr)][(records_weekday[2].apply(lambda x: 3600*x.hour + 60*x.minute + x.second)>(k*3600)-1)&(records_weekday[2].apply(lambda x: 3600*x.hour + 60*x.minute + x.second)<((k+1)*3600)+1)].reset_index(drop=True)\n",
    "            flow=0\n",
    "            day=[]\n",
    "            for il in range(len(rrr)-1):\n",
    "                if rrr[1][il]==rrr[1][il+1] and rrr[3][il]==arrta and rrr[3][il+1]==arrtb:\n",
    "                    flow=flow+1\n",
    "                    day.append(rrr[1][il])\n",
    "                else:\n",
    "                    flow=flow\n",
    "            if len(set(day))!=0:\n",
    "                flows_real.append([l,flow/(len(set(day)))])\n",
    "            else:\n",
    "                flows_real.append([l,0])\n",
    "        \n",
    "        mse=0\n",
    "        for m in range(24):\n",
    "            mse=mse+((flows_real[m][1]-round(flows[m][1]))**2)\n",
    "        MSE.append(mse/24)\n",
    "        \n",
    "print(\"--- %s seconds ---\" % (time.time() - start_time))"
   ]
  },
  {
   "cell_type": "code",
   "execution_count": 67,
   "metadata": {
    "scrolled": true
   },
   "outputs": [
    {
     "data": {
      "text/plain": [
       "[0.95833333333333337,\n",
       " 0.041666666666666664,\n",
       " 0.25,\n",
       " 0.5,\n",
       " 1.2083333333333333,\n",
       " 11.875,\n",
       " 0.70833333333333337,\n",
       " 0.25,\n",
       " 0.0,\n",
       " 0.0,\n",
       " 0.125,\n",
       " 1.2083333333333333,\n",
       " 0.0,\n",
       " 0.0,\n",
       " 0.083333333333333329,\n",
       " 0.91666666666666663,\n",
       " 0.041666666666666664,\n",
       " 3.625,\n",
       " 0.041666666666666664,\n",
       " 0.0,\n",
       " 0.125,\n",
       " 0.0,\n",
       " 0.0,\n",
       " 3.5833333333333335,\n",
       " 0.0,\n",
       " 0.29166666666666669,\n",
       " 0.0,\n",
       " 0.0,\n",
       " 0.0,\n",
       " 0.0]"
      ]
     },
     "execution_count": 67,
     "metadata": {},
     "output_type": "execute_result"
    }
   ],
   "source": [
    "MSE"
   ]
  },
  {
   "cell_type": "code",
   "execution_count": 69,
   "metadata": {
    "collapsed": true
   },
   "outputs": [],
   "source": [
    "del(MSE[5])"
   ]
  },
  {
   "cell_type": "code",
   "execution_count": 59,
   "metadata": {},
   "outputs": [
    {
     "ename": "SyntaxError",
     "evalue": "invalid syntax (<ipython-input-59-0e02cbf41437>, line 1)",
     "output_type": "error",
     "traceback": [
      "\u001b[0;36m  File \u001b[0;32m\"<ipython-input-59-0e02cbf41437>\"\u001b[0;36m, line \u001b[0;32m1\u001b[0m\n\u001b[0;31m    list(MSE[i] for i not in [0,3,8,15,24,35])\u001b[0m\n\u001b[0m                        ^\u001b[0m\n\u001b[0;31mSyntaxError\u001b[0m\u001b[0;31m:\u001b[0m invalid syntax\n"
     ]
    }
   ],
   "source": [
    "list(MSE[i] for i in [0,3,8,15,24,35])"
   ]
  },
  {
   "cell_type": "code",
   "execution_count": 70,
   "metadata": {
    "scrolled": false
   },
   "outputs": [
    {
     "data": {
      "text/plain": [
       "0.48132183908045972"
      ]
     },
     "execution_count": 70,
     "metadata": {},
     "output_type": "execute_result"
    }
   ],
   "source": [
    "np.mean(MSE)"
   ]
  },
  {
   "cell_type": "code",
   "execution_count": 23,
   "metadata": {
    "scrolled": true
   },
   "outputs": [
    {
     "data": {
      "text/plain": [
       "[[0, 1.35938445485238e-21],\n",
       " [1, 9.1414537288148771e-14],\n",
       " [2, 6.778775191538997e-08],\n",
       " [3, 0.0005527062508831705],\n",
       " [4, 0.062948137451200134],\n",
       " [5, 0.39533796622272327],\n",
       " [6, 1.1851060821374293],\n",
       " [7, 1.5305752579497367],\n",
       " [8, 1.2207210162708142],\n",
       " [9, 1.0019317551850457],\n",
       " [10, 0.34512883538144246],\n",
       " [11, 0.86516270384633909],\n",
       " [12, 1.4893398815503618],\n",
       " [13, 0.4196710393179936],\n",
       " [14, 0.41903933221552947],\n",
       " [15, 1.8749519388390885],\n",
       " [16, 5.2308006742394051],\n",
       " [17, 6.989808167852769],\n",
       " [18, 3.6554097450979608],\n",
       " [19, 1.6485378562696551],\n",
       " [20, 0.39231600726421817],\n",
       " [21, 0.52895733347466378],\n",
       " [22, 0.57894106239882204],\n",
       " [23, 0.043554800596249811]]"
      ]
     },
     "execution_count": 23,
     "metadata": {},
     "output_type": "execute_result"
    }
   ],
   "source": [
    "flows=[]\n",
    "\n",
    "arrta='271007       '\n",
    "arrtb='113001       '\n",
    "for k in range(24):\n",
    "    try:\n",
    "        stt=k*60*60\n",
    "        end=k*60*60+60*60\n",
    "        flow=0\n",
    "        for i in range(len(Y)):\n",
    "            if type(Y[i])==int:\n",
    "                flow=flow\n",
    "            elif (arrta in Y[i])==True and (arrtb in Y[i])==True:\n",
    "                ti1=int(kmeans[i].predict(stt))\n",
    "                ti2=int(kmeans[i].predict(end))\n",
    "                if ti1==ti2:\n",
    "                    ti=ti1\n",
    "                    flow=flow + (kernel[i][ti].integrate_box_1d(stt,end))*(M[i][ti][Y[i].get(arrta)][Y[i].get(arrtb)])\n",
    "                else:\n",
    "                    flow=flow\n",
    "            else:\n",
    "                flow=flow\n",
    "        flows.append([k,flow])\n",
    "    except:\n",
    "        continue\n",
    "flows"
   ]
  },
  {
   "cell_type": "code",
   "execution_count": null,
   "metadata": {
    "collapsed": true,
    "scrolled": true
   },
   "outputs": [],
   "source": [
    "flows_real"
   ]
  },
  {
   "cell_type": "code",
   "execution_count": null,
   "metadata": {
    "collapsed": true
   },
   "outputs": [],
   "source": [
    "### Mean Squared Error\n",
    "mse=0\n",
    "for i in range(24):\n",
    "    mse=mse+((flows_real[i][1]-round(flows[i][1]))**2)\n",
    "mse/24"
   ]
  },
  {
   "cell_type": "code",
   "execution_count": 24,
   "metadata": {
    "scrolled": true
   },
   "outputs": [
    {
     "name": "stderr",
     "output_type": "stream",
     "text": [
      "/home/ubuntu/anaconda3/lib/python3.6/site-packages/ipykernel_launcher.py:3: UserWarning: Boolean Series key will be reindexed to match DataFrame index.\n",
      "  This is separate from the ipykernel package so we can avoid doing imports until\n"
     ]
    },
    {
     "name": "stdout",
     "output_type": "stream",
     "text": [
      "0 0\n",
      "1 0\n",
      "2 0\n",
      "3 0\n",
      "4 0\n",
      "5 5\n",
      "6 3\n",
      "7 40\n",
      "8 11\n",
      "9 2\n",
      "10 1\n",
      "11 2\n",
      "12 8\n",
      "13 2\n",
      "14 3\n",
      "15 21\n",
      "16 76\n",
      "17 22\n",
      "18 13\n",
      "19 29\n",
      "20 3\n",
      "21 5\n",
      "22 51\n",
      "23 0\n"
     ]
    }
   ],
   "source": [
    "flows_real=[]\n",
    "for k in range(24):\n",
    "    rrr=records_weekday[records_weekday[0].isin(numr)][(records_weekday[2].apply(lambda x: 3600*x.hour + 60*x.minute + x.second)>(k*3600)-1)&(records_weekday[2].apply(lambda x: 3600*x.hour + 60*x.minute + x.second)<((k+1)*3600)+1)].reset_index(drop=True)\n",
    "    flow=0\n",
    "    day=[]\n",
    "    for i in range(len(rrr)-1):\n",
    "        if rrr[1][i]==rrr[1][i+1] and rrr[3][i]==arrta and rrr[3][i+1]==arrtb:\n",
    "            flow=flow+1\n",
    "            day.append(rrr[1][i])\n",
    "        else:\n",
    "            flow=flow\n",
    "    print(k,flow)\n",
    "    if len(set(day))!=0:\n",
    "        flows_real.append([k,flow/(len(set(day)))])\n",
    "    else:\n",
    "        flows_real.append([k,0])"
   ]
  },
  {
   "cell_type": "code",
   "execution_count": null,
   "metadata": {
    "collapsed": true
   },
   "outputs": [],
   "source": [
    "#cur.close()\n",
    "#conn.close()"
   ]
  }
 ],
 "metadata": {
  "kernelspec": {
   "display_name": "Python 3",
   "language": "python",
   "name": "python3"
  },
  "language_info": {
   "codemirror_mode": {
    "name": "ipython",
    "version": 3
   },
   "file_extension": ".py",
   "mimetype": "text/x-python",
   "name": "python",
   "nbconvert_exporter": "python",
   "pygments_lexer": "ipython3",
   "version": "3.6.4"
  }
 },
 "nbformat": 4,
 "nbformat_minor": 2
}
